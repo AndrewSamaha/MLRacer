{
 "cells": [
  {
   "cell_type": "code",
   "execution_count": 85,
   "id": "41a5c97b-2e59-431f-8ada-e73e136a4961",
   "metadata": {},
   "outputs": [],
   "source": [
    "import mysql.connector as mysql\n",
    "import numpy as np\n",
    "import base64\n",
    "from PIL import Image as Image\n",
    "#from IPython.display import Image\n",
    "import urllib.parse\n",
    "import io\n",
    "import re"
   ]
  },
  {
   "cell_type": "code",
   "execution_count": 86,
   "id": "7dad41bb-5a0d-48bb-a71f-5967f9603144",
   "metadata": {},
   "outputs": [],
   "source": [
    "mydb = mysql.connect(\n",
    "    host=\"127.0.0.1\",\n",
    "    port=49156,\n",
    "    user=\"root\",\n",
    "    password=\"datascience\",\n",
    "    database=\"racer\")\n"
   ]
  },
  {
   "cell_type": "code",
   "execution_count": 87,
   "id": "397c19cb-4a51-4cd0-9db9-3b452fd3673a",
   "metadata": {},
   "outputs": [],
   "source": [
    "dbcursor = mydb.cursor()\n"
   ]
  },
  {
   "cell_type": "code",
   "execution_count": null,
   "id": "4ecf6251-6ea9-45d0-a580-55ed5abcf6c3",
   "metadata": {},
   "outputs": [],
   "source": [
    "def showURI(uri):\n",
    "    imgstr = re.search(r'base64,(.*)', imageuri).group(1)\n",
    "    image_bytes = io.BytesIO(base64.b64decode(imgstr))\n",
    "    im = Image.open(image_bytes)\n",
    "    return im\n",
    "    arr = np.array(im)[:,:,0]\n",
    "\n",
    "def imageToNp(im):\n",
    "    arr = np.array(im)[:,:,0]\n",
    "    return arr\n",
    "\n",
    "def uriToNP:\n",
    "    imgstr = re.search(r'base64,(.*)', imageuri).group(1)\n",
    "    image_bytes = io.BytesIO(base64.b64decode(imgstr))\n",
    "    im = Image.open(image_bytes)\n",
    "    arr = np.array(im)[:,:,0]\n",
    "    return arr\n"
   ]
  },
  {
   "cell_type": "code",
   "execution_count": 88,
   "id": "4703b347-308c-4bd5-b0b5-d3927085b13a",
   "metadata": {},
   "outputs": [],
   "source": [
    "dbcursor.execute(\"SELECT * FROM images\")\n",
    "result = dbcursor.fetchone()\n",
    "#print(result)\n",
    "imageuri = result[5]"
   ]
  },
  {
   "cell_type": "code",
   "execution_count": 89,
   "id": "da4aba9e-53a2-418b-bc2f-e7efcda18f63",
   "metadata": {},
   "outputs": [],
   "source": [
    "#im = Image(url=imageuri)\n",
    "#response = urllib.request.urlopen(imageuri)"
   ]
  },
  {
   "cell_type": "code",
   "execution_count": 90,
   "id": "e2e9b2af-4f82-4019-a4a0-f279e64fdd49",
   "metadata": {},
   "outputs": [],
   "source": []
  },
  {
   "cell_type": "code",
   "execution_count": 91,
   "id": "e0da64cd-cd17-4e3f-9bea-6aed9ce9aaa5",
   "metadata": {},
   "outputs": [
    {
     "data": {
      "image/png": "[encoded data removed]",
      "text/plain": [
       "<PIL.PngImagePlugin.PngImageFile image mode=RGBA size=50x50 at 0x7F2E528A4FD0>"
      ]
     },
     "execution_count": 91,
     "metadata": {},
     "output_type": "execute_result"
    }
   ],
   "source": [
    "im"
   ]
  },
  {
   "cell_type": "code",
   "execution_count": 92,
   "id": "12a8d22e-5fb9-479e-a229-0ad822cf83a1",
   "metadata": {},
   "outputs": [
    {
     "data": {
      "text/plain": [
       "array([[147, 147, 143, ..., 178, 176, 176],\n",
       "       [142, 139, 138, ..., 181, 180, 178],\n",
       "       [135, 135, 131, ..., 185, 183, 182],\n",
       "       ...,\n",
       "       [178, 178, 178, ..., 178, 178, 178],\n",
       "       [178, 178, 178, ..., 178, 178, 178],\n",
       "       [178, 178, 178, ..., 178, 178, 178]], dtype=uint8)"
      ]
     },
     "execution_count": 92,
     "metadata": {},
     "output_type": "execute_result"
    }
   ],
   "source": [
    "arr"
   ]
  },
  {
   "cell_type": "code",
   "execution_count": 93,
   "id": "d4541af5-93c5-40fa-bd61-d4ab3dc4d635",
   "metadata": {},
   "outputs": [
    {
     "data": {
      "text/plain": [
       "(50, 50)"
      ]
     },
     "execution_count": 93,
     "metadata": {},
     "output_type": "execute_result"
    }
   ],
   "source": [
    "arr.shape"
   ]
  },
  {
   "cell_type": "code",
   "execution_count": 56,
   "id": "bc74a1a4-1f66-4d08-b619-727ebb1a9efc",
   "metadata": {},
   "outputs": [
    {
     "data": {
      "text/plain": [
       "()"
      ]
     },
     "execution_count": 56,
     "metadata": {},
     "output_type": "execute_result"
    }
   ],
   "source": [
    "data.shape"
   ]
  },
  {
   "cell_type": "code",
   "execution_count": 57,
   "id": "81f94867-1339-48fa-9297-ad8d05dacc4c",
   "metadata": {},
   "outputs": [
    {
     "data": {
      "text/plain": [
       "array(<IPython.core.display.Image object>, dtype=object)"
      ]
     },
     "execution_count": 57,
     "metadata": {},
     "output_type": "execute_result"
    }
   ],
   "source": [
    "data"
   ]
  },
  {
   "cell_type": "code",
   "execution_count": null,
   "id": "04884441-c08b-48ff-9980-2361f8a17f6d",
   "metadata": {},
   "outputs": [],
   "source": []
  }
 ],
 "metadata": {
  "kernelspec": {
   "display_name": "Python 3",
   "language": "python",
   "name": "python3"
  },
  "language_info": {
   "codemirror_mode": {
    "name": "ipython",
    "version": 3
   },
   "file_extension": ".py",
   "mimetype": "text/x-python",
   "name": "python",
   "nbconvert_exporter": "python",
   "pygments_lexer": "ipython3",
   "version": "3.7.9"
  }
 },
 "nbformat": 4,
 "nbformat_minor": 5
}
