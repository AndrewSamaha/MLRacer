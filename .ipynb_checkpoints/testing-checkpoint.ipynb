{
 "cells": [
  {
   "cell_type": "code",
   "execution_count": 44,
   "id": "ac9454f2-8227-4f79-bfd5-d12b39ded3d8",
   "metadata": {},
   "outputs": [
    {
     "name": "stdout",
     "output_type": "stream",
     "text": [
      "The autoreload extension is already loaded. To reload it, use:\n",
      "  %reload_ext autoreload\n"
     ]
    }
   ],
   "source": [
    "%load_ext autoreload"
   ]
  },
  {
   "cell_type": "code",
   "execution_count": 224,
   "id": "41a5c97b-2e59-431f-8ada-e73e136a4961",
   "metadata": {},
   "outputs": [],
   "source": [
    "import mysql.connector as mysql\n",
    "import numpy as np\n",
    "import base64\n",
    "import PIL\n",
    "from PIL import Image as Image\n",
    "#from IPython.display import Image\n",
    "#import urllib.parse\n",
    "import io\n",
    "import re\n",
    "from app.src.db import *\n",
    "%autoreload 2"
   ]
  },
  {
   "cell_type": "code",
   "execution_count": 225,
   "id": "7dad41bb-5a0d-48bb-a71f-5967f9603144",
   "metadata": {},
   "outputs": [],
   "source": [
    "\n",
    "mydb = mysql.connect(\n",
    "    host=\"127.0.0.1\",\n",
    "    port=49157,\n",
    "    user=\"root\",\n",
    "    password=\"datascience\",\n",
    "    database=\"racer\")\n"
   ]
  },
  {
   "cell_type": "code",
   "execution_count": 226,
   "id": "397c19cb-4a51-4cd0-9db9-3b452fd3673a",
   "metadata": {},
   "outputs": [],
   "source": [
    "dbcursor = mydb.cursor()\n"
   ]
  },
  {
   "cell_type": "code",
   "execution_count": 227,
   "id": "4703b347-308c-4bd5-b0b5-d3927085b13a",
   "metadata": {},
   "outputs": [],
   "source": [
    "dbcursor.execute(\"SELECT * FROM images\")\n",
    "results = dbcursor.fetchall()\n"
   ]
  },
  {
   "cell_type": "code",
   "execution_count": 228,
   "id": "1e4cd0f0-8537-4717-bb68-1c4dbf77640c",
   "metadata": {},
   "outputs": [
    {
     "data": {
      "text/plain": [
       "[(5, 'alpha testing', 'Very unstable, no assumptions about consistency')]"
      ]
     },
     "execution_count": 228,
     "metadata": {},
     "output_type": "execute_result"
    }
   ],
   "source": [
    "#createBatch(mydb, \"alpha testing\", \"Very unstable, no assumptions about consistency\")\n",
    "getBatches(mydb)"
   ]
  },
  {
   "cell_type": "code",
   "execution_count": 229,
   "id": "72fd6fea-3f8a-4cff-a2f1-6b5547f55114",
   "metadata": {},
   "outputs": [],
   "source": [
    "#newlayerid = createProcessingLayer(mydb, 0, 5, \"imageDelta\", \"currentframe minus the previous frame\")"
   ]
  },
  {
   "cell_type": "code",
   "execution_count": 230,
   "id": "b46e5fdb-04a2-465a-8f87-09e884309f76",
   "metadata": {},
   "outputs": [
    {
     "data": {
      "text/plain": [
       "1"
      ]
     },
     "execution_count": 230,
     "metadata": {},
     "output_type": "execute_result"
    }
   ],
   "source": [
    "newlayerid"
   ]
  },
  {
   "cell_type": "code",
   "execution_count": 233,
   "id": "273c50c7-7675-4f96-83a0-a09122e6a8f6",
   "metadata": {},
   "outputs": [],
   "source": [
    "def processorDIFF(targetFrame, referenceFrame):\n",
    "    return referenceFrame - targetFrame\n",
    "\n",
    "def process(db, layer, batch, processor, newlayerid=None):\n",
    "    dbcursor = mydb.cursor()\n",
    "    dbcursor.execute(f\"SELECT * FROM images WHERE layerid = '{layer}' and batchid = '{batch}'\")\n",
    "    lasttime=0\n",
    "    lastimage_np = None\n",
    "    results = dbcursor.fetchall()\n",
    "    print(f\"num rows to process: {len(results)}\")\n",
    "    saved_images = 0\n",
    "    for result in results:\n",
    "        imageuri = result[7]\n",
    "        time = result[1]\n",
    "        position = result[2]\n",
    "        velocity = result[3]\n",
    "        rotation = result[4]\n",
    "        layer    = result[5]\n",
    "        batch    = result[6]\n",
    "        \n",
    "        tdelta = time - lasttime\n",
    "        lasttime = time\n",
    "        \n",
    "        image_np = uriToNP(imageuri)\n",
    "        if lastimage_np is not None:\n",
    "            image_diff = processor(lastimage_np, image_np)\n",
    "            a = np.uint8(image_diff)\n",
    "            f = io.StringIO()\n",
    "            newimage = PIL.Image.fromarray(a)\n",
    "            \n",
    "            if newlayerid is not None:\n",
    "                uri_image = pilToURI(newimage)\n",
    "                \n",
    "                #display(newimage)\n",
    "                #showURI(uri_image)\n",
    "                #print(uri_image)\n",
    "                try:\n",
    "                    saveImage(db, batch, newlayerid, time, position, velocity, rotation, uri_image)\n",
    "                    saved_images += 1\n",
    "                except Exception as ex:\n",
    "                    print(result[0])\n",
    "                    print(\"Exception: \" + ex)\n",
    "        lastimage_np = image_np\n",
    "        \n",
    "    print(f\"saved {saved_images} images into layer {newlayerid} batch {batch}\")\n",
    "\n",
    "def toURI(img):\n",
    "    buffered = io.BytesIO()\n",
    "    img.save(buffered, format=\"PNG\")\n",
    "    img_str = base64.b64encode(buffered.getvalue())\n",
    "    ret = u'data:image/png;base64,'+str(img_str)[2:-1:]\n",
    "    #print(ret)\n",
    "    return ret\n",
    "\n",
    "def sImage(db, batchid, layerid, time, position, velocity, rotation, image):\n",
    "    insertCmd = \"INSERT into images(time, position, velocity, rotation, batchid, layerid, image) VALUES (%s,%s,%s,%s,%s,%s,%s);\"\n",
    "    try:\n",
    "        db.cursor().execute(insertCmd, (time, position, velocity, rotation, batchid, layerid, image))\n",
    "        db.commit()\n",
    "    except Exception as e:\n",
    "        print(f\"Exception: {e}\")"
   ]
  },
  {
   "cell_type": "code",
   "execution_count": 234,
   "id": "eca40178-52f3-4f71-8289-489f3025b549",
   "metadata": {},
   "outputs": [
    {
     "name": "stdout",
     "output_type": "stream",
     "text": [
      "num rows to process: 1050\n",
      "saved 1049 images into layer 1 batch 5\n"
     ]
    }
   ],
   "source": [
    "process(mydb, 0, 5, processorDIFF, 1)"
   ]
  },
  {
   "cell_type": "code",
   "execution_count": 274,
   "id": "ff410c07-918c-4c2c-85e2-28f0cd038c7d",
   "metadata": {},
   "outputs": [],
   "source": [
    "def makeVideo(db, layer, batch):\n",
    "    import cv2\n",
    "    import os\n",
    "\n",
    "    video_name = 'video.avi'\n",
    "    dbcursor = mydb.cursor()\n",
    "    dbcursor.execute(f\"SELECT * FROM images WHERE layerid = '{layer}' and batchid = '{batch}'\")\n",
    "    results = dbcursor.fetchall()\n",
    "    #images = [img for img in os.listdir(image_folder) if img.endswith(\".png\")]\n",
    "    #frame = cv2.imread(os.path.join(image_folder, images[0]))\n",
    "    height, width, layers = 50, 50, len(results)\n",
    "    fourcc = cv2.VideoWriter_fourcc(*'MP4V')\n",
    "    video = cv2.VideoWriter(video_name, 0x7634706d, 1, (300,300))\n",
    "    for result in results:\n",
    "        #print(result[7])\n",
    "        image = uriToNP2(result[7])\n",
    "        cv2.imshow('frame',image)\n",
    "        video.write(image)\n",
    "\n",
    "    cv2.destroyAllWindows()\n",
    "    video.release()\n",
    "\n",
    "def makeGif(db, layer, batch):\n",
    "    \n",
    "    import imageio\n",
    "    \n",
    "    dbcursor = mydb.cursor()\n",
    "    dbcursor.execute(f\"SELECT * FROM images WHERE layerid = '{layer}' and batchid = '{batch}'\")\n",
    "    results = dbcursor.fetchall()\n",
    "    #images = [img for img in os.listdir(image_folder) if img.endswith(\".png\")]\n",
    "    #frame = cv2.imread(os.path.join(image_folder, images[0]))\n",
    "    height, width, layers = 50, 50, len(results)\n",
    "    with imageio.get_writer('test.gif', mode='I') as writer:\n",
    "        for result in results:\n",
    "        #print(result[7])\n",
    "            image = uriToNP2(result[7])\n",
    "            writer.append_data(image)\n",
    "        #cv2.imshow('frame',image)\n",
    "        #video.write(image)\n",
    "\n",
    "    \n",
    "\n",
    "\n",
    "def uriToNP2(imageuri):\n",
    "    imgstr = re.search(r'base64,(.*)', imageuri).group(1)\n",
    "    image_bytes = io.BytesIO(base64.b64decode(imgstr))\n",
    "    im = Image.open(image_bytes)\n",
    "    nparray = np.array(im)\n",
    "    if len(nparray.shape) == 2:\n",
    "        arr = np.array(im)[:,:]\n",
    "    elif len(nparray.shape) == 3:\n",
    "        arr = np.array(im)[:,:,0]\n",
    "    return arr"
   ]
  },
  {
   "cell_type": "code",
   "execution_count": 275,
   "id": "3ee8a1aa-6482-4536-b82c-3a986b0a89aa",
   "metadata": {},
   "outputs": [],
   "source": [
    "makeGif(mydb, 1,5)"
   ]
  },
  {
   "cell_type": "code",
   "execution_count": 217,
   "id": "663dc9ea-3ed3-4c5d-a0c9-59d6c1e33751",
   "metadata": {},
   "outputs": [
    {
     "name": "stdout",
     "output_type": "stream",
     "text": [
      "(5341, 1625319102985, 87.61086760040557, 121.99895192306394, -0.029241084849860682, 0)\n",
      "1625319102985 ms since last frame, fps: 6.152637953762049e-10\n"
     ]
    },
    {
     "data": {
      "image/png": "[encoded data removed]",
      "text/plain": [
       "<PIL.PngImagePlugin.PngImageFile image mode=RGBA size=50x50 at 0x7F2E5285DD10>"
      ]
     },
     "metadata": {},
     "output_type": "display_data"
    },
    {
     "name": "stdout",
     "output_type": "stream",
     "text": [
      "(5342, 1625319103002, 85.91750988109887, 122.0270540134896, -0.029211738671615528, 0)\n",
      "17 ms since last frame, fps: 58.8235294117647\n"
     ]
    },
    {
     "data": {
      "image/png": "[encoded data removed]",
      "text/plain": [
       "<PIL.PngImagePlugin.PngImageFile image mode=RGBA size=50x50 at 0x7F2E5285D310>"
      ]
     },
     "metadata": {},
     "output_type": "display_data"
    },
    {
     "name": "stdout",
     "output_type": "stream",
     "text": [
      "(5343, 1625319103018, 84.24750848268191, 122.05497854571864, -0.029182577890784156, 0)\n",
      "16 ms since last frame, fps: 62.5\n"
     ]
    },
    {
     "data": {
      "image/png": "[encoded data removed]",
      "text/plain": [
       "<PIL.PngImagePlugin.PngImageFile image mode=RGBA size=50x50 at 0x7F2E5285D690>"
      ]
     },
     "metadata": {},
     "output_type": "display_data"
    },
    {
     "name": "stdout",
     "output_type": "stream",
     "text": [
      "(5344, 1625319103034, 82.60069571981724, 122.08272662086145, -0.029054173154473367, 0)\n",
      "16 ms since last frame, fps: 62.5\n"
     ]
    },
    {
     "data": {
      "image/png": "[encoded data removed]",
      "text/plain": [
       "<PIL.PngImagePlugin.PngImageFile image mode=RGBA size=50x50 at 0x7F2E5285DD10>"
      ]
     },
     "metadata": {},
     "output_type": "display_data"
    },
    {
     "name": "stdout",
     "output_type": "stream",
     "text": [
      "(5345, 1625319103051, 80.98517265066342, 122.11029933060723, -0.02862422387373008, 0)\n",
      "17 ms since last frame, fps: 58.8235294117647\n"
     ]
    },
    {
     "data": {
      "image/png": "[encoded data removed]",
      "text/plain": [
       "<PIL.PngImagePlugin.PngImageFile image mode=RGBA size=50x50 at 0x7F2E5285D9D0>"
      ]
     },
     "metadata": {},
     "output_type": "display_data"
    }
   ],
   "source": [
    "lasttime=0\n",
    "for result in results[1200:1205:]:\n",
    "    imageuri = result[7]\n",
    "    time = result[1]\n",
    "    tdelta = time - lasttime\n",
    "    print(result[:6])\n",
    "    print(f\"{tdelta} ms since last frame, fps: {1000/tdelta}\")\n",
    "    showURI(imageuri)\n",
    "    lasttime = time\n",
    "    #print(result[1])"
   ]
  },
  {
   "cell_type": "code",
   "execution_count": 89,
   "id": "da4aba9e-53a2-418b-bc2f-e7efcda18f63",
   "metadata": {},
   "outputs": [],
   "source": [
    "#im = Image(url=imageuri)\n",
    "#response = urllib.request.urlopen(imageuri)"
   ]
  },
  {
   "cell_type": "code",
   "execution_count": 84,
   "id": "e2e9b2af-4f82-4019-a4a0-f279e64fdd49",
   "metadata": {},
   "outputs": [
    {
     "name": "stdout",
     "output_type": "stream",
     "text": [
      "(0,)\n"
     ]
    }
   ],
   "source": [
    "dbcursor.execute(\"SELECT DISTINCT layerid FROM images\")\n",
    "results = dbcursor.fetchall()\n",
    "for result in results:\n",
    "    print(result)"
   ]
  },
  {
   "cell_type": "code",
   "execution_count": 83,
   "id": "e0da64cd-cd17-4e3f-9bea-6aed9ce9aaa5",
   "metadata": {},
   "outputs": [
    {
     "data": {
      "text/plain": [
       "[(0,)]"
      ]
     },
     "execution_count": 83,
     "metadata": {},
     "output_type": "execute_result"
    }
   ],
   "source": [
    "results"
   ]
  },
  {
   "cell_type": "code",
   "execution_count": 92,
   "id": "12a8d22e-5fb9-479e-a229-0ad822cf83a1",
   "metadata": {},
   "outputs": [
    {
     "data": {
      "text/plain": [
       "array([[147, 147, 143, ..., 178, 176, 176],\n",
       "       [142, 139, 138, ..., 181, 180, 178],\n",
       "       [135, 135, 131, ..., 185, 183, 182],\n",
       "       ...,\n",
       "       [178, 178, 178, ..., 178, 178, 178],\n",
       "       [178, 178, 178, ..., 178, 178, 178],\n",
       "       [178, 178, 178, ..., 178, 178, 178]], dtype=uint8)"
      ]
     },
     "execution_count": 92,
     "metadata": {},
     "output_type": "execute_result"
    }
   ],
   "source": [
    "arr"
   ]
  },
  {
   "cell_type": "code",
   "execution_count": 93,
   "id": "d4541af5-93c5-40fa-bd61-d4ab3dc4d635",
   "metadata": {},
   "outputs": [
    {
     "data": {
      "text/plain": [
       "(50, 50)"
      ]
     },
     "execution_count": 93,
     "metadata": {},
     "output_type": "execute_result"
    }
   ],
   "source": [
    "arr.shape"
   ]
  },
  {
   "cell_type": "code",
   "execution_count": 56,
   "id": "bc74a1a4-1f66-4d08-b619-727ebb1a9efc",
   "metadata": {},
   "outputs": [
    {
     "data": {
      "text/plain": [
       "()"
      ]
     },
     "execution_count": 56,
     "metadata": {},
     "output_type": "execute_result"
    }
   ],
   "source": [
    "data.shape"
   ]
  },
  {
   "cell_type": "code",
   "execution_count": 57,
   "id": "81f94867-1339-48fa-9297-ad8d05dacc4c",
   "metadata": {},
   "outputs": [
    {
     "data": {
      "text/plain": [
       "array(<IPython.core.display.Image object>, dtype=object)"
      ]
     },
     "execution_count": 57,
     "metadata": {},
     "output_type": "execute_result"
    }
   ],
   "source": [
    "data"
   ]
  },
  {
   "cell_type": "code",
   "execution_count": null,
   "id": "04884441-c08b-48ff-9980-2361f8a17f6d",
   "metadata": {},
   "outputs": [],
   "source": []
  }
 ],
 "metadata": {
  "kernelspec": {
   "display_name": "Python 3",
   "language": "python",
   "name": "python3"
  },
  "language_info": {
   "codemirror_mode": {
    "name": "ipython",
    "version": 3
   },
   "file_extension": ".py",
   "mimetype": "text/x-python",
   "name": "python",
   "nbconvert_exporter": "python",
   "pygments_lexer": "ipython3",
   "version": "3.7.9"
  }
 },
 "nbformat": 4,
 "nbformat_minor": 5
}
