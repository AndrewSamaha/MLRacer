{
 "cells": [
  {
   "cell_type": "code",
   "execution_count": 1,
   "id": "4d08cc06-1776-483a-896b-fe332c59bf8b",
   "metadata": {},
   "outputs": [],
   "source": [
    "%load_ext autoreload"
   ]
  },
  {
   "cell_type": "code",
   "execution_count": 92,
   "id": "10dc2531-f30f-4527-b638-3afa988bd20a",
   "metadata": {},
   "outputs": [],
   "source": [
    "import matplotlib.pyplot as plt\n",
    "import mysql.connector as mysql\n",
    "import numpy as np\n",
    "import base64\n",
    "import PIL\n",
    "from PIL import Image as Image\n",
    "#from IPython.display import Image\n",
    "#import urllib.parse\n",
    "import io\n",
    "import re\n",
    "from app.src.db import *\n",
    "%autoreload 2"
   ]
  },
  {
   "cell_type": "code",
   "execution_count": 47,
   "id": "3ebaad1f-ce67-443b-ab1d-4179635bbba1",
   "metadata": {},
   "outputs": [
    {
     "ename": "ImportError",
     "evalue": "cannot import name 'rsquare' from 'tensorflow.keras.metrics' (/home/andrew/anaconda3/lib/python3.7/site-packages/tensorflow/keras/metrics/__init__.py)",
     "output_type": "error",
     "traceback": [
      "\u001b[0;31m---------------------------------------------------------------------------\u001b[0m",
      "\u001b[0;31mImportError\u001b[0m                               Traceback (most recent call last)",
      "\u001b[0;32m<ipython-input-47-39b818ea31ca>\u001b[0m in \u001b[0;36m<module>\u001b[0;34m\u001b[0m\n\u001b[1;32m      6\u001b[0m \u001b[0;32mfrom\u001b[0m \u001b[0msklearn\u001b[0m\u001b[0;34m.\u001b[0m\u001b[0mmodel_selection\u001b[0m \u001b[0;32mimport\u001b[0m \u001b[0mtrain_test_split\u001b[0m\u001b[0;34m\u001b[0m\u001b[0;34m\u001b[0m\u001b[0m\n\u001b[1;32m      7\u001b[0m \u001b[0;32mfrom\u001b[0m \u001b[0mtensorflow\u001b[0m\u001b[0;34m.\u001b[0m\u001b[0mkeras\u001b[0m \u001b[0;32mimport\u001b[0m \u001b[0mbackend\u001b[0m \u001b[0;32mas\u001b[0m \u001b[0mK\u001b[0m\u001b[0;34m\u001b[0m\u001b[0;34m\u001b[0m\u001b[0m\n\u001b[0;32m----> 8\u001b[0;31m \u001b[0;32mfrom\u001b[0m \u001b[0mtensorflow\u001b[0m\u001b[0;34m.\u001b[0m\u001b[0mkeras\u001b[0m\u001b[0;34m.\u001b[0m\u001b[0mmetrics\u001b[0m \u001b[0;32mimport\u001b[0m \u001b[0mrsquare\u001b[0m\u001b[0;34m\u001b[0m\u001b[0;34m\u001b[0m\u001b[0m\n\u001b[0m\u001b[1;32m      9\u001b[0m \u001b[0;32mfrom\u001b[0m \u001b[0mmatplotlib\u001b[0m \u001b[0;32mimport\u001b[0m \u001b[0mpyplot\u001b[0m \u001b[0;32mas\u001b[0m \u001b[0mplt\u001b[0m\u001b[0;34m\u001b[0m\u001b[0;34m\u001b[0m\u001b[0m\n\u001b[1;32m     10\u001b[0m \u001b[0;32mimport\u001b[0m \u001b[0mnumpy\u001b[0m \u001b[0;32mas\u001b[0m \u001b[0mnp\u001b[0m\u001b[0;34m\u001b[0m\u001b[0;34m\u001b[0m\u001b[0m\n",
      "\u001b[0;31mImportError\u001b[0m: cannot import name 'rsquare' from 'tensorflow.keras.metrics' (/home/andrew/anaconda3/lib/python3.7/site-packages/tensorflow/keras/metrics/__init__.py)"
     ]
    }
   ],
   "source": [
    "import tensorflow as tf\n",
    "from tensorflow import keras\n",
    "from tensorflow.keras.models import Sequential\n",
    "from tensorflow.keras.layers import Conv2D, MaxPool2D, Dense, Dropout, Flatten\n",
    "from tensorflow.keras import backend as K\n",
    "from sklearn.model_selection import train_test_split\n",
    "from tensorflow.keras import backend as K\n",
    "from tensorflow.keras.metrics.\n",
    "from matplotlib import pyplot as plt\n",
    "import numpy as np\n",
    "\n",
    "import requests\n",
    "from io import BytesIO\n",
    "from PIL import Image, ImageFilter\n",
    "import os\n",
    "os.environ['KERAS_BACKEND']='tensorflow'"
   ]
  },
  {
   "cell_type": "code",
   "execution_count": 11,
   "id": "66ed5aeb-4a32-4af0-a9f7-0cdec52c1e97",
   "metadata": {},
   "outputs": [
    {
     "name": "stdout",
     "output_type": "stream",
     "text": [
      "(3294, 2500)\n",
      "(3294, 3)\n"
     ]
    }
   ],
   "source": [
    "mydb = mysql.connect(\n",
    "    host=\"127.0.0.1\",\n",
    "    port=49157,\n",
    "    user=\"root\",\n",
    "    password=\"datascience\",\n",
    "    database=\"racer\")\n",
    "\n",
    "X, Y = getDataset(mydb, 6, 1)\n",
    "print(X.shape)\n",
    "print(Y.shape)"
   ]
  },
  {
   "cell_type": "code",
   "execution_count": 12,
   "id": "f742c6a9-13ef-4790-be1e-946b6f80ec17",
   "metadata": {},
   "outputs": [
    {
     "name": "stdout",
     "output_type": "stream",
     "text": [
      "(2206, 2500)\n",
      "(1088, 2500)\n",
      "(2206, 3)\n",
      "(1088, 3)\n"
     ]
    }
   ],
   "source": [
    "X_train, X_test, y_train, y_test = train_test_split(X, Y, test_size=0.33, random_state=42)\n",
    "print(X_train.shape)\n",
    "print(X_test.shape)\n",
    "print(y_train.shape)\n",
    "print(y_test.shape)"
   ]
  },
  {
   "cell_type": "code",
   "execution_count": 48,
   "id": "308f4a97-f70e-49cb-b72f-7ee4724a2a97",
   "metadata": {},
   "outputs": [],
   "source": [
    "def coeff_determination(y_true, y_pred):\n",
    "    print(\"coeff_determination\")\n",
    "    from keras import backend as K\n",
    "    print(\"1coeff done\")\n",
    "    SS_res =  K.sum(K.square( y_true-y_pred ))\n",
    "    print(\"2coeff done\")\n",
    "    SS_tot = K.sum(K.square( y_true - K.mean(y_true) ) )\n",
    "    print(\"3coeff done\")\n",
    "    return ( 1 - SS_res/(SS_tot + K.epsilon()) )\n",
    "\n",
    "def my_r2_score(v_true, v_pred):\n",
    "    ssres = np.sum(np.square(v_true - v_pred))\n",
    "    sstot = np.sum(np.square(v_true - np.mean(v_true)))\n",
    "    return 1 - ssres / sstot"
   ]
  },
  {
   "cell_type": "code",
   "execution_count": 160,
   "id": "6ce92f51-5a11-4bc4-b282-8dc25ff3bb7c",
   "metadata": {},
   "outputs": [],
   "source": [
    "def buildModel(X_train, y_train, X_test, y_test, inputScaler=1, epochs=40):\n",
    "    model = Sequential()\n",
    "    model.add(Flatten(input_shape=(2500,1)))\n",
    "    model.add(Dense(25, activation=\"relu\"))\n",
    "    model.add(Dense(3))\n",
    "    #adam vs. sgd; adam works better\n",
    "    model.compile(optimizer='adam',\n",
    "              loss='mean_squared_error',\n",
    "              metrics=[tf.keras.metrics.MeanSquaredError()])\n",
    "    model.build()\n",
    "    #model.summary()\n",
    "    model.fit(X_train * inputScaler, y_train, epochs=40, validation_data=(X_test * inputScaler, y_test), verbose=0)\n",
    "    \n",
    "    y_train_predictions = model.predict(X_train * inputScaler)\n",
    "    y_train_rsquared = my_r2_score(y_train_predictions, y_train)\n",
    "    \n",
    "    y_test_predictions = model.predict(X_test * inputScaler)\n",
    "    y_test_rsquared = my_r2_score(y_test_predictions, y_test)\n",
    "    \n",
    "    print(f\"inputScaler: {inputScaler}\")\n",
    "    print(f\"Training R-Squared: {y_train_rsquared}\")\n",
    "    print(f\"Test R-Squared: {y_test_rsquared}\")\n",
    "    return y_train_rsquared, y_test_rsquared\n",
    "\n",
    "def buildModelSingleTask(X_train, y_train, X_test, y_test, inputScaler=1, epochs=40):\n",
    "    model = Sequential()\n",
    "    model.add(Flatten(input_shape=(2500,1)))\n",
    "    model.add(Dense(25, activation=\"relu\"))\n",
    "    model.add(Dense(1))\n",
    "    #adam vs. sgd; adam works better\n",
    "    model.compile(optimizer='adam',\n",
    "              loss='mean_squared_error',\n",
    "              metrics=[tf.keras.metrics.MeanSquaredError()])\n",
    "    model.build()\n",
    "    #model.summary()\n",
    "    model.fit(X_train * inputScaler, y_train, epochs=200, validation_data=(X_test * inputScaler, y_test), verbose=1)\n",
    "    \n",
    "    y_train_predictions = model.predict(X_train * inputScaler)\n",
    "    y_train_rsquared = my_r2_score(y_train_predictions, y_train)\n",
    "    \n",
    "    y_test_predictions = model.predict(X_test * inputScaler)\n",
    "    y_test_rsquared = my_r2_score(y_test_predictions, y_test)\n",
    "    \n",
    "    print(f\"y_train.shape: {y_train.shape}\")\n",
    "    print(f\"y_train_predictions.shape: {y_train_predictions.shape}\")\n",
    "    print(f\"y_test.shape: {y_test.shape}\")\n",
    "    print(f\"y_test_predictions.shape: {y_test_predictions.shape}\")\n",
    "    print(f\"inputScaler: {inputScaler}\")\n",
    "    print(f\"Training R-Squared: {y_train_rsquared}\")\n",
    "    print(f\"Test R-Squared: {y_test_rsquared}\")\n",
    "    return y_train_rsquared, y_test_rsquared, model\n",
    "\n",
    "\n",
    "def evaluateModel(X_train, y_train, X_test, y_test, builder, epoch_range, inputScaler=1):\n",
    "    train_rsquared = []\n",
    "    test_rsquared = []\n",
    "    for epoch in epoch_range:\n",
    "        train, test = builder(X_train, y_train, X_test, y_test, inputScaler=inputScaler, epochs=epoch)\n",
    "        train_rsquared.append(train)\n",
    "        test_rsquared.append(test)\n",
    "        fig,ax = plt.subplots(1,1,figsize=(5,5))\n",
    "        ax.plot(epochs[:len(train_rsquared)], train_rsquared,c='r')\n",
    "        ax.plot(epochs[:len(train_rsquared)], test_rsquared,c='b')\n",
    "        ax.set_ylim(0,1)\n",
    "        plt.tight_layout()\n",
    "        ax.set_title(f\"epoch={epoch}\")\n",
    "        plt.show()\n",
    "    return epoch_range, train_rsquared, test_rsquared"
   ]
  },
  {
   "cell_type": "code",
   "execution_count": 105,
   "id": "e1c2e4bf-2e37-4d48-bcba-8926edd9db05",
   "metadata": {},
   "outputs": [
    {
     "name": "stdout",
     "output_type": "stream",
     "text": [
      "inputScaler: 1\n",
      "Training R-Squared: 0.9883142003093717\n",
      "Test R-Squared: 0.5398450440125314\n"
     ]
    },
    {
     "data": {
      "image/png": "[encoded data removed]",
      "text/plain": [
       "<Figure size 360x360 with 1 Axes>"
      ]
     },
     "metadata": {
      "needs_background": "light"
     },
     "output_type": "display_data"
    },
    {
     "name": "stdout",
     "output_type": "stream",
     "text": [
      "inputScaler: 1\n",
      "Training R-Squared: 0.9848607313115174\n",
      "Test R-Squared: 0.536368472172067\n"
     ]
    },
    {
     "data": {
      "image/png": "[encoded data removed]",
      "text/plain": [
       "<Figure size 360x360 with 1 Axes>"
      ]
     },
     "metadata": {
      "needs_background": "light"
     },
     "output_type": "display_data"
    },
    {
     "name": "stdout",
     "output_type": "stream",
     "text": [
      "inputScaler: 1\n",
      "Training R-Squared: 0.9870397335249109\n",
      "Test R-Squared: 0.5044136816290143\n"
     ]
    },
    {
     "data": {
      "image/png": "[encoded data removed]",
      "text/plain": [
       "<Figure size 360x360 with 1 Axes>"
      ]
     },
     "metadata": {
      "needs_background": "light"
     },
     "output_type": "display_data"
    },
    {
     "name": "stdout",
     "output_type": "stream",
     "text": [
      "inputScaler: 1\n",
      "Training R-Squared: 0.9897700272989305\n",
      "Test R-Squared: 0.4941865369361368\n"
     ]
    },
    {
     "data": {
      "image/png": "[encoded data removed]",
      "text/plain": [
       "<Figure size 360x360 with 1 Axes>"
      ]
     },
     "metadata": {
      "needs_background": "light"
     },
     "output_type": "display_data"
    },
    {
     "name": "stdout",
     "output_type": "stream",
     "text": [
      "inputScaler: 1\n",
      "Training R-Squared: 0.9798745973526116\n",
      "Test R-Squared: 0.5300804827719579\n"
     ]
    },
    {
     "data": {
      "image/png": "[encoded data removed]",
      "text/plain": [
       "<Figure size 360x360 with 1 Axes>"
      ]
     },
     "metadata": {
      "needs_background": "light"
     },
     "output_type": "display_data"
    },
    {
     "name": "stdout",
     "output_type": "stream",
     "text": [
      "inputScaler: 1\n",
      "Training R-Squared: 0.9852442128860822\n",
      "Test R-Squared: 0.5492137330297912\n"
     ]
    },
    {
     "data": {
      "image/png": "[encoded data removed]",
      "text/plain": [
       "<Figure size 360x360 with 1 Axes>"
      ]
     },
     "metadata": {
      "needs_background": "light"
     },
     "output_type": "display_data"
    },
    {
     "name": "stdout",
     "output_type": "stream",
     "text": [
      "inputScaler: 1\n",
      "Training R-Squared: 0.9507771057692039\n",
      "Test R-Squared: 0.45980648766611865\n"
     ]
    },
    {
     "data": {
      "image/png": "[encoded data removed]",
      "text/plain": [
       "<Figure size 360x360 with 1 Axes>"
      ]
     },
     "metadata": {
      "needs_background": "light"
     },
     "output_type": "display_data"
    },
    {
     "name": "stdout",
     "output_type": "stream",
     "text": [
      "inputScaler: 1\n",
      "Training R-Squared: 0.9894316774907631\n",
      "Test R-Squared: 0.5459841380984276\n"
     ]
    },
    {
     "data": {
      "image/png": "[encoded data removed]",
      "text/plain": [
       "<Figure size 360x360 with 1 Axes>"
      ]
     },
     "metadata": {
      "needs_background": "light"
     },
     "output_type": "display_data"
    },
    {
     "name": "stdout",
     "output_type": "stream",
     "text": [
      "inputScaler: 1\n",
      "Training R-Squared: 0.9875060959775801\n",
      "Test R-Squared: 0.4851793649553102\n"
     ]
    },
    {
     "data": {
      "image/png": "[encoded data removed]",
      "text/plain": [
       "<Figure size 360x360 with 1 Axes>"
      ]
     },
     "metadata": {
      "needs_background": "light"
     },
     "output_type": "display_data"
    }
   ],
   "source": [
    "epochs, train_rsquared, test_rsquared = evaluateModel(X_train, y_train, X_test, y_test, buildModel, range(25,250,25))"
   ]
  },
  {
   "cell_type": "code",
   "execution_count": 115,
   "id": "412e6cab-37ce-4df3-8bef-1a36c0a0121b",
   "metadata": {},
   "outputs": [
    {
     "data": {
      "image/png": "[encoded data removed]",
      "text/plain": [
       "<Figure size 360x360 with 1 Axes>"
      ]
     },
     "metadata": {
      "needs_background": "light"
     },
     "output_type": "display_data"
    }
   ],
   "source": [
    "import matplotlib.pyplot as plt\n",
    "fig,ax = plt.subplots(1,1,figsize=(5,5))\n",
    "ax.plot(epochs, train_rsquared,c='r')\n",
    "ax.plot(epochs, test_rsquared,c='b')\n",
    "ax.set_title(f\"2500/25-relu/3 adam mse\\nn={X_train.shape[0]}\")\n",
    "ax.set_ylabel(\"r-squared\")\n",
    "ax.set_xlabel(\"epochs\")\n",
    "ax.set_ylim(0,1)\n",
    "plt.savefig(\"alpha.v2.png\")"
   ]
  },
  {
   "cell_type": "code",
   "execution_count": 159,
   "id": "9749236a-bdfc-43b3-9b2d-021e8cf1af11",
   "metadata": {},
   "outputs": [
    {
     "name": "stdout",
     "output_type": "stream",
     "text": [
      "(2206,)\n",
      "(2206,)\n",
      "(2206,)\n",
      "(1088,)\n",
      "(1088,)\n",
      "(1088,)\n"
     ]
    },
    {
     "data": {
      "image/png": "[encoded data removed]",
      "text/plain": [
       "<Figure size 432x288 with 3 Axes>"
      ]
     },
     "metadata": {
      "needs_background": "light"
     },
     "output_type": "display_data"
    },
    {
     "data": {
      "image/png": "[encoded data removed]",
      "text/plain": [
       "<Figure size 432x288 with 4 Axes>"
      ]
     },
     "metadata": {
      "needs_background": "light"
     },
     "output_type": "display_data"
    }
   ],
   "source": [
    "y_train_position = y_train[:,0]\n",
    "y_train_velocity = y_train[:,1]\n",
    "y_train_rotation = y_train[:,2]\n",
    "print(y_train_position.shape)\n",
    "print(y_train_velocity.shape)\n",
    "print(y_train_rotation.shape)\n",
    "y_test_position = y_test[:,0]\n",
    "y_test_velocity = y_test[:,1]\n",
    "y_test_rotation = y_test[:,2]\n",
    "print(y_test_position.shape)\n",
    "print(y_test_velocity.shape)\n",
    "print(y_test_rotation.shape)\n",
    "\n",
    "fig, ax = plt.subplots(1,3)\n",
    "ax[0].hist(y_train_position)\n",
    "ax[0].set_title(\"position\")\n",
    "ax[0].set_ylabel(\"count\")\n",
    "ax[1].hist(y_train_velocity)\n",
    "ax[1].set_title(\"velocity\")\n",
    "ax[2].hist(y_train_rotation)\n",
    "ax[2].set_title(\"rotation\")\n",
    "plt.tight_layout()\n",
    "plt.savefig(\"y_eda.png\")\n",
    "plt.show()\n",
    "\n",
    "\n",
    "fig, ax = plt.subplots(2,2)\n",
    "ax[0,0].hist(X_train.reshape(-1,1))\n",
    "ax[0,1].hist(X_test.reshape(-1,1))\n",
    "ax[0,0].set_title(\"X_train\")\n",
    "ax[0,0].set_ylabel(\"raw\")\n",
    "ax[0,1].set_title(\"X_test\")\n",
    "ax[1,0].hist(X_train.reshape(-1,1)/255)\n",
    "ax[1,0].set_ylabel(\"raw / 255\")\n",
    "ax[1,1].hist(X_test.reshape(-1,1)/255)\n",
    "plt.tight_layout()\n",
    "plt.savefig(\"x_eda.png\")\n",
    "plt.show()"
   ]
  },
  {
   "cell_type": "code",
   "execution_count": 161,
   "id": "ded9cf8d-dbe2-4db9-897f-7a3082f4da1f",
   "metadata": {},
   "outputs": [
    {
     "name": "stdout",
     "output_type": "stream",
     "text": [
      "Epoch 1/200\n",
      "69/69 [==============================] - 0s 2ms/step - loss: 51903.7734 - mean_squared_error: 51903.7734 - val_loss: 52479.8398 - val_mean_squared_error: 52479.8398\n",
      "Epoch 2/200\n",
      "69/69 [==============================] - 0s 2ms/step - loss: 50915.5156 - mean_squared_error: 50915.5156 - val_loss: 51206.0938 - val_mean_squared_error: 51206.0938\n",
      "Epoch 3/200\n",
      "69/69 [==============================] - 0s 1ms/step - loss: 49323.5820 - mean_squared_error: 49323.5820 - val_loss: 49483.2578 - val_mean_squared_error: 49483.2578\n",
      "Epoch 4/200\n",
      "69/69 [==============================] - 0s 1ms/step - loss: 47324.2891 - mean_squared_error: 47324.2891 - val_loss: 47490.1875 - val_mean_squared_error: 47490.1875\n",
      "Epoch 5/200\n",
      "69/69 [==============================] - 0s 1ms/step - loss: 45174.9609 - mean_squared_error: 45174.9609 - val_loss: 45401.8984 - val_mean_squared_error: 45401.8984\n",
      "Epoch 6/200\n",
      "69/69 [==============================] - 0s 2ms/step - loss: 42790.8320 - mean_squared_error: 42790.8320 - val_loss: 43424.2656 - val_mean_squared_error: 43424.2656\n",
      "Epoch 7/200\n",
      "69/69 [==============================] - 0s 1ms/step - loss: 40373.0469 - mean_squared_error: 40373.0469 - val_loss: 41604.2812 - val_mean_squared_error: 41604.2812\n",
      "Epoch 8/200\n",
      "69/69 [==============================] - 0s 1ms/step - loss: 38102.3984 - mean_squared_error: 38102.3984 - val_loss: 39809.2227 - val_mean_squared_error: 39809.2227\n",
      "Epoch 9/200\n",
      "69/69 [==============================] - 0s 2ms/step - loss: 35981.9688 - mean_squared_error: 35981.9688 - val_loss: 38637.2148 - val_mean_squared_error: 38637.2148\n",
      "Epoch 10/200\n",
      "69/69 [==============================] - 0s 1ms/step - loss: 34226.7656 - mean_squared_error: 34226.7656 - val_loss: 37483.4805 - val_mean_squared_error: 37483.4805\n",
      "Epoch 11/200\n",
      "69/69 [==============================] - 0s 2ms/step - loss: 32261.7188 - mean_squared_error: 32261.7188 - val_loss: 36798.3320 - val_mean_squared_error: 36798.3320\n",
      "Epoch 12/200\n",
      "69/69 [==============================] - 0s 2ms/step - loss: 30875.8359 - mean_squared_error: 30875.8359 - val_loss: 35335.0898 - val_mean_squared_error: 35335.0898\n",
      "Epoch 13/200\n",
      "69/69 [==============================] - 0s 1ms/step - loss: 29570.2461 - mean_squared_error: 29570.2461 - val_loss: 34370.9609 - val_mean_squared_error: 34370.9609\n",
      "Epoch 14/200\n",
      "69/69 [==============================] - 0s 1ms/step - loss: 28292.4219 - mean_squared_error: 28292.4219 - val_loss: 33986.6797 - val_mean_squared_error: 33986.6797\n",
      "Epoch 15/200\n",
      "69/69 [==============================] - 0s 1ms/step - loss: 27238.4883 - mean_squared_error: 27238.4883 - val_loss: 33199.9727 - val_mean_squared_error: 33199.9727\n",
      "Epoch 16/200\n",
      "69/69 [==============================] - 0s 2ms/step - loss: 26215.6875 - mean_squared_error: 26215.6875 - val_loss: 32762.7539 - val_mean_squared_error: 32762.7539\n",
      "Epoch 17/200\n",
      "69/69 [==============================] - 0s 2ms/step - loss: 25434.8906 - mean_squared_error: 25434.8906 - val_loss: 32365.2129 - val_mean_squared_error: 32365.2129\n",
      "Epoch 18/200\n",
      "69/69 [==============================] - 0s 2ms/step - loss: 24586.3398 - mean_squared_error: 24586.3398 - val_loss: 31991.4668 - val_mean_squared_error: 31991.4668\n",
      "Epoch 19/200\n",
      "69/69 [==============================] - 0s 2ms/step - loss: 23831.5605 - mean_squared_error: 23831.5605 - val_loss: 31791.9160 - val_mean_squared_error: 31791.9160\n",
      "Epoch 20/200\n",
      "69/69 [==============================] - 0s 2ms/step - loss: 23256.0527 - mean_squared_error: 23256.0527 - val_loss: 31420.5371 - val_mean_squared_error: 31420.5371\n",
      "Epoch 21/200\n",
      "69/69 [==============================] - 0s 2ms/step - loss: 22495.8789 - mean_squared_error: 22495.8789 - val_loss: 31545.9336 - val_mean_squared_error: 31545.9336\n",
      "Epoch 22/200\n",
      "69/69 [==============================] - 0s 3ms/step - loss: 21996.8613 - mean_squared_error: 21996.8613 - val_loss: 31334.9043 - val_mean_squared_error: 31334.9043\n",
      "Epoch 23/200\n",
      "69/69 [==============================] - 0s 3ms/step - loss: 21526.1680 - mean_squared_error: 21526.1680 - val_loss: 30809.1055 - val_mean_squared_error: 30809.1055\n",
      "Epoch 24/200\n",
      "69/69 [==============================] - 0s 2ms/step - loss: 20957.1875 - mean_squared_error: 20957.1875 - val_loss: 30743.7168 - val_mean_squared_error: 30743.7168\n",
      "Epoch 25/200\n",
      "69/69 [==============================] - 0s 2ms/step - loss: 20506.0820 - mean_squared_error: 20506.0820 - val_loss: 30656.9863 - val_mean_squared_error: 30656.9863\n",
      "Epoch 26/200\n",
      "69/69 [==============================] - 0s 2ms/step - loss: 20096.3750 - mean_squared_error: 20096.3750 - val_loss: 30397.3203 - val_mean_squared_error: 30397.3203\n",
      "Epoch 27/200\n",
      "69/69 [==============================] - 0s 2ms/step - loss: 19609.1602 - mean_squared_error: 19609.1602 - val_loss: 30281.2031 - val_mean_squared_error: 30281.2031\n",
      "Epoch 28/200\n",
      "69/69 [==============================] - 0s 2ms/step - loss: 19296.7871 - mean_squared_error: 19296.7871 - val_loss: 30704.2793 - val_mean_squared_error: 30704.2793\n",
      "Epoch 29/200\n",
      "69/69 [==============================] - 0s 2ms/step - loss: 18757.6914 - mean_squared_error: 18757.6914 - val_loss: 30036.2695 - val_mean_squared_error: 30036.2695\n",
      "Epoch 30/200\n",
      "69/69 [==============================] - 0s 2ms/step - loss: 18432.8809 - mean_squared_error: 18432.8809 - val_loss: 30020.6992 - val_mean_squared_error: 30020.6992\n",
      "Epoch 31/200\n",
      "69/69 [==============================] - 0s 2ms/step - loss: 18131.6699 - mean_squared_error: 18131.6699 - val_loss: 29867.6094 - val_mean_squared_error: 29867.6094\n",
      "Epoch 32/200\n",
      "69/69 [==============================] - 0s 2ms/step - loss: 17724.2480 - mean_squared_error: 17724.2480 - val_loss: 30092.0195 - val_mean_squared_error: 30092.0195\n",
      "Epoch 33/200\n",
      "69/69 [==============================] - 0s 2ms/step - loss: 17580.6445 - mean_squared_error: 17580.6445 - val_loss: 29868.7949 - val_mean_squared_error: 29868.7949\n",
      "Epoch 34/200\n",
      "69/69 [==============================] - 0s 2ms/step - loss: 17164.4121 - mean_squared_error: 17164.4121 - val_loss: 29781.7207 - val_mean_squared_error: 29781.7207\n",
      "Epoch 35/200\n",
      "69/69 [==============================] - 0s 3ms/step - loss: 16961.9473 - mean_squared_error: 16961.9473 - val_loss: 29662.4844 - val_mean_squared_error: 29662.4844\n",
      "Epoch 36/200\n",
      "69/69 [==============================] - 0s 2ms/step - loss: 16485.9375 - mean_squared_error: 16485.9375 - val_loss: 30001.4453 - val_mean_squared_error: 30001.4453\n",
      "Epoch 37/200\n",
      "69/69 [==============================] - 0s 2ms/step - loss: 16408.7715 - mean_squared_error: 16408.7715 - val_loss: 29631.3066 - val_mean_squared_error: 29631.3066\n",
      "Epoch 38/200\n",
      "69/69 [==============================] - 0s 2ms/step - loss: 16049.1768 - mean_squared_error: 16049.1768 - val_loss: 29516.4531 - val_mean_squared_error: 29516.4531\n",
      "Epoch 39/200\n",
      "69/69 [==============================] - 0s 2ms/step - loss: 15820.1689 - mean_squared_error: 15820.1689 - val_loss: 29535.0215 - val_mean_squared_error: 29535.0215\n",
      "Epoch 40/200\n",
      "69/69 [==============================] - 0s 2ms/step - loss: 15510.1738 - mean_squared_error: 15510.1738 - val_loss: 29528.2988 - val_mean_squared_error: 29528.2988\n",
      "Epoch 41/200\n",
      "69/69 [==============================] - 0s 2ms/step - loss: 15291.3203 - mean_squared_error: 15291.3203 - val_loss: 29728.3496 - val_mean_squared_error: 29728.3496\n",
      "Epoch 42/200\n",
      "69/69 [==============================] - 0s 2ms/step - loss: 15200.5928 - mean_squared_error: 15200.5928 - val_loss: 29476.9512 - val_mean_squared_error: 29476.9512\n",
      "Epoch 43/200\n",
      "69/69 [==============================] - 0s 2ms/step - loss: 14836.1084 - mean_squared_error: 14836.1084 - val_loss: 29461.7383 - val_mean_squared_error: 29461.7383\n",
      "Epoch 44/200\n",
      "69/69 [==============================] - 0s 2ms/step - loss: 14633.2412 - mean_squared_error: 14633.2412 - val_loss: 29456.8281 - val_mean_squared_error: 29456.8281\n",
      "Epoch 45/200\n",
      "69/69 [==============================] - 0s 2ms/step - loss: 14370.4209 - mean_squared_error: 14370.4209 - val_loss: 29789.3652 - val_mean_squared_error: 29789.3652\n",
      "Epoch 46/200\n",
      "69/69 [==============================] - 0s 2ms/step - loss: 14142.8604 - mean_squared_error: 14142.8604 - val_loss: 29703.9082 - val_mean_squared_error: 29703.9082\n",
      "Epoch 47/200\n",
      "69/69 [==============================] - 0s 2ms/step - loss: 13966.9707 - mean_squared_error: 13966.9707 - val_loss: 29565.9902 - val_mean_squared_error: 29565.9902\n",
      "Epoch 48/200\n",
      "69/69 [==============================] - 0s 2ms/step - loss: 13797.1133 - mean_squared_error: 13797.1133 - val_loss: 29596.2422 - val_mean_squared_error: 29596.2422\n",
      "Epoch 49/200\n",
      "69/69 [==============================] - 0s 3ms/step - loss: 13536.5566 - mean_squared_error: 13536.5566 - val_loss: 29561.6191 - val_mean_squared_error: 29561.6191\n",
      "Epoch 50/200\n",
      "69/69 [==============================] - 0s 2ms/step - loss: 13357.8164 - mean_squared_error: 13357.8164 - val_loss: 30335.2422 - val_mean_squared_error: 30335.2422\n",
      "Epoch 51/200\n",
      "69/69 [==============================] - 0s 2ms/step - loss: 13220.2168 - mean_squared_error: 13220.2168 - val_loss: 29665.1387 - val_mean_squared_error: 29665.1387\n",
      "Epoch 52/200\n",
      "69/69 [==============================] - 0s 2ms/step - loss: 13096.8926 - mean_squared_error: 13096.8926 - val_loss: 29668.5508 - val_mean_squared_error: 29668.5508\n",
      "Epoch 53/200\n",
      "69/69 [==============================] - 0s 2ms/step - loss: 12801.1709 - mean_squared_error: 12801.1709 - val_loss: 29887.3613 - val_mean_squared_error: 29887.3613\n",
      "Epoch 54/200\n",
      "69/69 [==============================] - 0s 3ms/step - loss: 12734.5029 - mean_squared_error: 12734.5029 - val_loss: 29715.4824 - val_mean_squared_error: 29715.4824\n",
      "Epoch 55/200\n",
      "69/69 [==============================] - 0s 2ms/step - loss: 12477.6709 - mean_squared_error: 12477.6709 - val_loss: 30006.1172 - val_mean_squared_error: 30006.1172\n",
      "Epoch 56/200\n",
      "69/69 [==============================] - 0s 2ms/step - loss: 12364.7090 - mean_squared_error: 12364.7090 - val_loss: 29783.1777 - val_mean_squared_error: 29783.1777\n",
      "Epoch 57/200\n",
      "69/69 [==============================] - 0s 2ms/step - loss: 12196.8271 - mean_squared_error: 12196.8271 - val_loss: 30277.0879 - val_mean_squared_error: 30277.0879\n",
      "Epoch 58/200\n",
      "69/69 [==============================] - 0s 2ms/step - loss: 11997.8047 - mean_squared_error: 11997.8047 - val_loss: 29797.6953 - val_mean_squared_error: 29797.6953\n",
      "Epoch 59/200\n",
      "69/69 [==============================] - 0s 2ms/step - loss: 11844.5840 - mean_squared_error: 11844.5840 - val_loss: 29823.5781 - val_mean_squared_error: 29823.5781\n",
      "Epoch 60/200\n",
      "69/69 [==============================] - 0s 2ms/step - loss: 11732.7695 - mean_squared_error: 11732.7695 - val_loss: 29891.8809 - val_mean_squared_error: 29891.8809\n",
      "Epoch 61/200\n",
      "69/69 [==============================] - 0s 2ms/step - loss: 11556.0322 - mean_squared_error: 11556.0322 - val_loss: 30144.2012 - val_mean_squared_error: 30144.2012\n",
      "Epoch 62/200\n",
      "69/69 [==============================] - 0s 2ms/step - loss: 11514.9688 - mean_squared_error: 11514.9688 - val_loss: 30206.2988 - val_mean_squared_error: 30206.2988\n",
      "Epoch 63/200\n",
      "69/69 [==============================] - 0s 2ms/step - loss: 11447.7119 - mean_squared_error: 11447.7119 - val_loss: 31063.8164 - val_mean_squared_error: 31063.8164\n",
      "Epoch 64/200\n",
      "69/69 [==============================] - 0s 2ms/step - loss: 11153.5869 - mean_squared_error: 11153.5869 - val_loss: 30017.8574 - val_mean_squared_error: 30017.8574\n",
      "Epoch 65/200\n",
      "69/69 [==============================] - 0s 2ms/step - loss: 10987.1133 - mean_squared_error: 10987.1133 - val_loss: 30090.5000 - val_mean_squared_error: 30090.5000\n",
      "Epoch 66/200\n",
      "69/69 [==============================] - 0s 2ms/step - loss: 10917.3525 - mean_squared_error: 10917.3525 - val_loss: 30489.7773 - val_mean_squared_error: 30489.7773\n",
      "Epoch 67/200\n",
      "69/69 [==============================] - 0s 2ms/step - loss: 10740.4766 - mean_squared_error: 10740.4766 - val_loss: 30482.4746 - val_mean_squared_error: 30482.4746\n",
      "Epoch 68/200\n",
      "69/69 [==============================] - 0s 2ms/step - loss: 10627.5957 - mean_squared_error: 10627.5957 - val_loss: 30189.9492 - val_mean_squared_error: 30189.9492\n",
      "Epoch 69/200\n",
      "69/69 [==============================] - 0s 3ms/step - loss: 10437.7949 - mean_squared_error: 10437.7949 - val_loss: 30387.5566 - val_mean_squared_error: 30387.5566\n",
      "Epoch 70/200\n",
      "69/69 [==============================] - 0s 2ms/step - loss: 10350.3096 - mean_squared_error: 10350.3096 - val_loss: 30401.8340 - val_mean_squared_error: 30401.8340\n",
      "Epoch 71/200\n",
      "69/69 [==============================] - 0s 2ms/step - loss: 10181.3271 - mean_squared_error: 10181.3271 - val_loss: 30564.5000 - val_mean_squared_error: 30564.5000\n",
      "Epoch 72/200\n",
      "69/69 [==============================] - 0s 2ms/step - loss: 10031.4727 - mean_squared_error: 10031.4727 - val_loss: 31442.0117 - val_mean_squared_error: 31442.0117\n",
      "Epoch 73/200\n",
      "69/69 [==============================] - 0s 2ms/step - loss: 9946.9375 - mean_squared_error: 9946.9375 - val_loss: 30793.2031 - val_mean_squared_error: 30793.2031\n",
      "Epoch 74/200\n",
      "69/69 [==============================] - 0s 2ms/step - loss: 9833.1533 - mean_squared_error: 9833.1533 - val_loss: 30490.8184 - val_mean_squared_error: 30490.8184\n",
      "Epoch 75/200\n",
      "69/69 [==============================] - 0s 2ms/step - loss: 9670.6768 - mean_squared_error: 9670.6768 - val_loss: 30543.3281 - val_mean_squared_error: 30543.3281\n",
      "Epoch 76/200\n",
      "69/69 [==============================] - 0s 2ms/step - loss: 9543.6191 - mean_squared_error: 9543.6191 - val_loss: 30610.1484 - val_mean_squared_error: 30610.1484\n",
      "Epoch 77/200\n",
      "69/69 [==============================] - 0s 1ms/step - loss: 9437.6611 - mean_squared_error: 9437.6611 - val_loss: 30945.6660 - val_mean_squared_error: 30945.6660\n",
      "Epoch 78/200\n",
      "69/69 [==============================] - 0s 2ms/step - loss: 9304.0693 - mean_squared_error: 9304.0693 - val_loss: 30710.2656 - val_mean_squared_error: 30710.2656\n",
      "Epoch 79/200\n",
      "69/69 [==============================] - 0s 2ms/step - loss: 9166.3750 - mean_squared_error: 9166.3750 - val_loss: 30741.3359 - val_mean_squared_error: 30741.3359\n",
      "Epoch 80/200\n",
      "69/69 [==============================] - 0s 2ms/step - loss: 9097.7324 - mean_squared_error: 9097.7324 - val_loss: 30928.1543 - val_mean_squared_error: 30928.1543\n",
      "Epoch 81/200\n",
      "69/69 [==============================] - 0s 3ms/step - loss: 8921.1475 - mean_squared_error: 8921.1475 - val_loss: 31180.4336 - val_mean_squared_error: 31180.4336\n",
      "Epoch 82/200\n",
      "69/69 [==============================] - 0s 3ms/step - loss: 8807.7207 - mean_squared_error: 8807.7207 - val_loss: 30896.7949 - val_mean_squared_error: 30896.7949\n",
      "Epoch 83/200\n",
      "69/69 [==============================] - 0s 1ms/step - loss: 8754.9180 - mean_squared_error: 8754.9180 - val_loss: 30957.1719 - val_mean_squared_error: 30957.1719\n",
      "Epoch 84/200\n",
      "69/69 [==============================] - 0s 2ms/step - loss: 8707.0615 - mean_squared_error: 8707.0615 - val_loss: 31060.4414 - val_mean_squared_error: 31060.4414\n",
      "Epoch 85/200\n",
      "69/69 [==============================] - 0s 2ms/step - loss: 8471.0811 - mean_squared_error: 8471.0811 - val_loss: 31633.3496 - val_mean_squared_error: 31633.3496\n",
      "Epoch 86/200\n",
      "69/69 [==============================] - 0s 2ms/step - loss: 8325.6133 - mean_squared_error: 8325.6133 - val_loss: 31231.8418 - val_mean_squared_error: 31231.8418\n",
      "Epoch 87/200\n",
      "69/69 [==============================] - 0s 2ms/step - loss: 8221.1182 - mean_squared_error: 8221.1182 - val_loss: 31189.8574 - val_mean_squared_error: 31189.8574\n",
      "Epoch 88/200\n",
      "69/69 [==============================] - 0s 2ms/step - loss: 8168.3472 - mean_squared_error: 8168.3472 - val_loss: 31056.8926 - val_mean_squared_error: 31056.8926\n",
      "Epoch 89/200\n",
      "69/69 [==============================] - 0s 2ms/step - loss: 8007.8379 - mean_squared_error: 8007.8379 - val_loss: 31724.5703 - val_mean_squared_error: 31724.5703\n",
      "Epoch 90/200\n",
      "69/69 [==============================] - 0s 2ms/step - loss: 7921.9854 - mean_squared_error: 7921.9854 - val_loss: 31285.6504 - val_mean_squared_error: 31285.6504\n",
      "Epoch 91/200\n",
      "69/69 [==============================] - 0s 2ms/step - loss: 7800.2432 - mean_squared_error: 7800.2432 - val_loss: 31357.1074 - val_mean_squared_error: 31357.1074\n",
      "Epoch 92/200\n",
      "69/69 [==============================] - 0s 2ms/step - loss: 7705.8984 - mean_squared_error: 7705.8984 - val_loss: 31307.6504 - val_mean_squared_error: 31307.6504\n",
      "Epoch 93/200\n",
      "69/69 [==============================] - 0s 2ms/step - loss: 7587.2041 - mean_squared_error: 7587.2041 - val_loss: 31571.9453 - val_mean_squared_error: 31571.9453\n",
      "Epoch 94/200\n",
      "69/69 [==============================] - 0s 2ms/step - loss: 7472.6958 - mean_squared_error: 7472.6958 - val_loss: 31387.9785 - val_mean_squared_error: 31387.9785\n",
      "Epoch 95/200\n",
      "69/69 [==============================] - 0s 2ms/step - loss: 7369.4473 - mean_squared_error: 7369.4473 - val_loss: 31438.0176 - val_mean_squared_error: 31438.0176\n",
      "Epoch 96/200\n",
      "69/69 [==============================] - 0s 2ms/step - loss: 7262.8955 - mean_squared_error: 7262.8955 - val_loss: 31837.9492 - val_mean_squared_error: 31837.9492\n",
      "Epoch 97/200\n",
      "69/69 [==============================] - 0s 2ms/step - loss: 7179.0347 - mean_squared_error: 7179.0347 - val_loss: 32352.0957 - val_mean_squared_error: 32352.0957\n",
      "Epoch 98/200\n",
      "69/69 [==============================] - 0s 2ms/step - loss: 7185.7490 - mean_squared_error: 7185.7490 - val_loss: 31668.1719 - val_mean_squared_error: 31668.1719\n",
      "Epoch 99/200\n",
      "69/69 [==============================] - 0s 2ms/step - loss: 6978.7109 - mean_squared_error: 6978.7109 - val_loss: 31981.8418 - val_mean_squared_error: 31981.8418\n",
      "Epoch 100/200\n",
      "69/69 [==============================] - 0s 2ms/step - loss: 6929.4883 - mean_squared_error: 6929.4883 - val_loss: 31966.2715 - val_mean_squared_error: 31966.2715\n",
      "Epoch 101/200\n",
      "69/69 [==============================] - 0s 2ms/step - loss: 6759.3687 - mean_squared_error: 6759.3687 - val_loss: 31984.9492 - val_mean_squared_error: 31984.9492\n",
      "Epoch 102/200\n",
      "69/69 [==============================] - 0s 2ms/step - loss: 6805.1074 - mean_squared_error: 6805.1074 - val_loss: 31932.2832 - val_mean_squared_error: 31932.2832\n",
      "Epoch 103/200\n",
      "69/69 [==============================] - 0s 2ms/step - loss: 6602.6514 - mean_squared_error: 6602.6514 - val_loss: 31968.7461 - val_mean_squared_error: 31968.7461\n",
      "Epoch 104/200\n",
      "69/69 [==============================] - 0s 2ms/step - loss: 6487.4243 - mean_squared_error: 6487.4243 - val_loss: 32170.3086 - val_mean_squared_error: 32170.3086\n",
      "Epoch 105/200\n",
      "69/69 [==============================] - 0s 2ms/step - loss: 6406.9248 - mean_squared_error: 6406.9248 - val_loss: 32293.3340 - val_mean_squared_error: 32293.3340\n",
      "Epoch 106/200\n",
      "69/69 [==============================] - 0s 2ms/step - loss: 6375.9180 - mean_squared_error: 6375.9180 - val_loss: 32495.1133 - val_mean_squared_error: 32495.1133\n",
      "Epoch 107/200\n",
      "69/69 [==============================] - 0s 1ms/step - loss: 6232.8828 - mean_squared_error: 6232.8828 - val_loss: 32481.5078 - val_mean_squared_error: 32481.5078\n",
      "Epoch 108/200\n",
      "69/69 [==============================] - 0s 2ms/step - loss: 6147.8135 - mean_squared_error: 6147.8135 - val_loss: 32250.4922 - val_mean_squared_error: 32250.4922\n",
      "Epoch 109/200\n",
      "69/69 [==============================] - 0s 2ms/step - loss: 6057.2944 - mean_squared_error: 6057.2944 - val_loss: 32398.9844 - val_mean_squared_error: 32398.9844\n",
      "Epoch 110/200\n",
      "69/69 [==============================] - 0s 2ms/step - loss: 5989.8198 - mean_squared_error: 5989.8198 - val_loss: 32771.4688 - val_mean_squared_error: 32771.4688\n",
      "Epoch 111/200\n",
      "69/69 [==============================] - 0s 2ms/step - loss: 5947.6890 - mean_squared_error: 5947.6890 - val_loss: 32643.7246 - val_mean_squared_error: 32643.7246\n",
      "Epoch 112/200\n",
      "69/69 [==============================] - 0s 2ms/step - loss: 5783.1382 - mean_squared_error: 5783.1382 - val_loss: 32626.9551 - val_mean_squared_error: 32626.9551\n",
      "Epoch 113/200\n",
      "69/69 [==============================] - 0s 2ms/step - loss: 5740.5396 - mean_squared_error: 5740.5396 - val_loss: 32491.2324 - val_mean_squared_error: 32491.2324\n",
      "Epoch 114/200\n",
      "69/69 [==============================] - 0s 2ms/step - loss: 5629.1001 - mean_squared_error: 5629.1001 - val_loss: 32722.6543 - val_mean_squared_error: 32722.6543\n",
      "Epoch 115/200\n",
      "69/69 [==============================] - 0s 2ms/step - loss: 5525.0327 - mean_squared_error: 5525.0327 - val_loss: 32926.5039 - val_mean_squared_error: 32926.5039\n",
      "Epoch 116/200\n",
      "69/69 [==============================] - 0s 2ms/step - loss: 5456.1074 - mean_squared_error: 5456.1074 - val_loss: 33271.7539 - val_mean_squared_error: 33271.7539\n",
      "Epoch 117/200\n",
      "69/69 [==============================] - 0s 2ms/step - loss: 5374.1616 - mean_squared_error: 5374.1616 - val_loss: 32940.5117 - val_mean_squared_error: 32940.5117\n",
      "Epoch 118/200\n",
      "69/69 [==============================] - 0s 2ms/step - loss: 5310.3691 - mean_squared_error: 5310.3691 - val_loss: 33058.7422 - val_mean_squared_error: 33058.7422\n",
      "Epoch 119/200\n",
      "69/69 [==============================] - 0s 2ms/step - loss: 5253.0776 - mean_squared_error: 5253.0776 - val_loss: 33042.5859 - val_mean_squared_error: 33042.5859\n",
      "Epoch 120/200\n",
      "69/69 [==============================] - 0s 2ms/step - loss: 5140.0649 - mean_squared_error: 5140.0649 - val_loss: 33349.1641 - val_mean_squared_error: 33349.1641\n",
      "Epoch 121/200\n",
      "69/69 [==============================] - 0s 2ms/step - loss: 5074.8398 - mean_squared_error: 5074.8398 - val_loss: 33279.6172 - val_mean_squared_error: 33279.6172\n",
      "Epoch 122/200\n",
      "69/69 [==============================] - 0s 2ms/step - loss: 4970.0347 - mean_squared_error: 4970.0347 - val_loss: 33909.8750 - val_mean_squared_error: 33909.8750\n",
      "Epoch 123/200\n",
      "69/69 [==============================] - 0s 2ms/step - loss: 5023.7534 - mean_squared_error: 5023.7534 - val_loss: 33293.9883 - val_mean_squared_error: 33293.9883\n",
      "Epoch 124/200\n",
      "69/69 [==============================] - 0s 2ms/step - loss: 4864.5010 - mean_squared_error: 4864.5010 - val_loss: 33864.0625 - val_mean_squared_error: 33864.0625\n",
      "Epoch 125/200\n",
      "69/69 [==============================] - 0s 2ms/step - loss: 4769.7959 - mean_squared_error: 4769.7959 - val_loss: 33621.9570 - val_mean_squared_error: 33621.9570\n",
      "Epoch 126/200\n",
      "69/69 [==============================] - 0s 2ms/step - loss: 4727.2866 - mean_squared_error: 4727.2866 - val_loss: 33604.2148 - val_mean_squared_error: 33604.2148\n",
      "Epoch 127/200\n",
      "69/69 [==============================] - 0s 2ms/step - loss: 4633.4375 - mean_squared_error: 4633.4375 - val_loss: 33880.1758 - val_mean_squared_error: 33880.1758\n",
      "Epoch 128/200\n",
      "69/69 [==============================] - 0s 2ms/step - loss: 4597.1064 - mean_squared_error: 4597.1064 - val_loss: 33602.2344 - val_mean_squared_error: 33602.2344\n",
      "Epoch 129/200\n",
      "69/69 [==============================] - 0s 2ms/step - loss: 4489.5776 - mean_squared_error: 4489.5776 - val_loss: 33828.7070 - val_mean_squared_error: 33828.7070\n",
      "Epoch 130/200\n",
      "69/69 [==============================] - 0s 2ms/step - loss: 4422.8481 - mean_squared_error: 4422.8481 - val_loss: 34124.8828 - val_mean_squared_error: 34124.8828\n",
      "Epoch 131/200\n",
      "69/69 [==============================] - 0s 2ms/step - loss: 4394.5083 - mean_squared_error: 4394.5083 - val_loss: 33950.7305 - val_mean_squared_error: 33950.7305\n",
      "Epoch 132/200\n",
      "69/69 [==============================] - 0s 2ms/step - loss: 4293.2852 - mean_squared_error: 4293.2852 - val_loss: 33988.8438 - val_mean_squared_error: 33988.8438\n",
      "Epoch 133/200\n",
      "69/69 [==============================] - 0s 2ms/step - loss: 4198.7905 - mean_squared_error: 4198.7905 - val_loss: 34114.2148 - val_mean_squared_error: 34114.2148\n",
      "Epoch 134/200\n",
      "69/69 [==============================] - 0s 2ms/step - loss: 4140.6553 - mean_squared_error: 4140.6553 - val_loss: 34263.1719 - val_mean_squared_error: 34263.1719\n",
      "Epoch 135/200\n",
      "69/69 [==============================] - 0s 2ms/step - loss: 4171.2100 - mean_squared_error: 4171.2100 - val_loss: 34268.5273 - val_mean_squared_error: 34268.5273\n",
      "Epoch 136/200\n",
      "69/69 [==============================] - 0s 2ms/step - loss: 4018.6243 - mean_squared_error: 4018.6243 - val_loss: 34408.9688 - val_mean_squared_error: 34408.9688\n",
      "Epoch 137/200\n",
      "69/69 [==============================] - 0s 2ms/step - loss: 3975.3757 - mean_squared_error: 3975.3757 - val_loss: 34362.6914 - val_mean_squared_error: 34362.6914\n",
      "Epoch 138/200\n",
      "69/69 [==============================] - 0s 2ms/step - loss: 3888.5933 - mean_squared_error: 3888.5933 - val_loss: 34736.5820 - val_mean_squared_error: 34736.5820\n",
      "Epoch 139/200\n",
      "69/69 [==============================] - 0s 2ms/step - loss: 3823.2729 - mean_squared_error: 3823.2729 - val_loss: 34622.4883 - val_mean_squared_error: 34622.4883\n",
      "Epoch 140/200\n",
      "69/69 [==============================] - 0s 2ms/step - loss: 3764.6987 - mean_squared_error: 3764.6987 - val_loss: 34910.4492 - val_mean_squared_error: 34910.4492\n",
      "Epoch 141/200\n",
      "69/69 [==============================] - 0s 2ms/step - loss: 3696.1929 - mean_squared_error: 3696.1929 - val_loss: 35027.4531 - val_mean_squared_error: 35027.4531\n",
      "Epoch 142/200\n",
      "69/69 [==============================] - 0s 2ms/step - loss: 3697.5801 - mean_squared_error: 3697.5801 - val_loss: 34417.0273 - val_mean_squared_error: 34417.0273\n",
      "Epoch 143/200\n",
      "69/69 [==============================] - 0s 2ms/step - loss: 3602.3457 - mean_squared_error: 3602.3457 - val_loss: 34971.1680 - val_mean_squared_error: 34971.1680\n",
      "Epoch 144/200\n",
      "69/69 [==============================] - 0s 2ms/step - loss: 3576.6299 - mean_squared_error: 3576.6299 - val_loss: 35205.2539 - val_mean_squared_error: 35205.2539\n",
      "Epoch 145/200\n",
      "69/69 [==============================] - 0s 2ms/step - loss: 3477.7927 - mean_squared_error: 3477.7927 - val_loss: 35015.2422 - val_mean_squared_error: 35015.2422\n",
      "Epoch 146/200\n",
      "69/69 [==============================] - 0s 2ms/step - loss: 3411.9133 - mean_squared_error: 3411.9133 - val_loss: 35443.6172 - val_mean_squared_error: 35443.6172\n",
      "Epoch 147/200\n",
      "69/69 [==============================] - 0s 2ms/step - loss: 3379.3777 - mean_squared_error: 3379.3777 - val_loss: 35007.2969 - val_mean_squared_error: 35007.2969\n",
      "Epoch 148/200\n",
      "69/69 [==============================] - 0s 2ms/step - loss: 3299.7158 - mean_squared_error: 3299.7158 - val_loss: 35432.1289 - val_mean_squared_error: 35432.1289\n",
      "Epoch 149/200\n",
      "69/69 [==============================] - 0s 2ms/step - loss: 3243.3167 - mean_squared_error: 3243.3167 - val_loss: 35349.7773 - val_mean_squared_error: 35349.7773\n",
      "Epoch 150/200\n",
      "69/69 [==============================] - 0s 2ms/step - loss: 3195.2625 - mean_squared_error: 3195.2625 - val_loss: 35507.8633 - val_mean_squared_error: 35507.8633\n",
      "Epoch 151/200\n",
      "69/69 [==============================] - 0s 2ms/step - loss: 3125.8369 - mean_squared_error: 3125.8369 - val_loss: 35282.3047 - val_mean_squared_error: 35282.3047\n",
      "Epoch 152/200\n",
      "69/69 [==============================] - 0s 2ms/step - loss: 3077.4565 - mean_squared_error: 3077.4565 - val_loss: 35422.9102 - val_mean_squared_error: 35422.9102\n",
      "Epoch 153/200\n",
      "69/69 [==============================] - 0s 2ms/step - loss: 3057.6221 - mean_squared_error: 3057.6221 - val_loss: 36158.1406 - val_mean_squared_error: 36158.1406\n",
      "Epoch 154/200\n",
      "69/69 [==============================] - 0s 2ms/step - loss: 3035.5269 - mean_squared_error: 3035.5269 - val_loss: 35293.6758 - val_mean_squared_error: 35293.6758\n",
      "Epoch 155/200\n",
      "69/69 [==============================] - 0s 2ms/step - loss: 2927.7336 - mean_squared_error: 2927.7336 - val_loss: 35648.5195 - val_mean_squared_error: 35648.5195\n",
      "Epoch 156/200\n",
      "69/69 [==============================] - 0s 2ms/step - loss: 2897.7705 - mean_squared_error: 2897.7705 - val_loss: 36035.7031 - val_mean_squared_error: 36035.7031\n",
      "Epoch 157/200\n",
      "69/69 [==============================] - 0s 2ms/step - loss: 2832.9719 - mean_squared_error: 2832.9719 - val_loss: 35688.6758 - val_mean_squared_error: 35688.6758\n",
      "Epoch 158/200\n",
      "69/69 [==============================] - 0s 1ms/step - loss: 2789.2893 - mean_squared_error: 2789.2893 - val_loss: 35982.6992 - val_mean_squared_error: 35982.6992\n",
      "Epoch 159/200\n",
      "69/69 [==============================] - 0s 2ms/step - loss: 2744.2095 - mean_squared_error: 2744.2095 - val_loss: 35879.0586 - val_mean_squared_error: 35879.0586\n",
      "Epoch 160/200\n",
      "69/69 [==============================] - 0s 2ms/step - loss: 2717.9670 - mean_squared_error: 2717.9670 - val_loss: 35833.1562 - val_mean_squared_error: 35833.1562\n",
      "Epoch 161/200\n",
      "69/69 [==============================] - 0s 2ms/step - loss: 2635.3303 - mean_squared_error: 2635.3303 - val_loss: 35981.6562 - val_mean_squared_error: 35981.6562\n",
      "Epoch 162/200\n",
      "69/69 [==============================] - 0s 2ms/step - loss: 2589.0952 - mean_squared_error: 2589.0952 - val_loss: 36080.7422 - val_mean_squared_error: 36080.7422\n",
      "Epoch 163/200\n",
      "69/69 [==============================] - 0s 2ms/step - loss: 2560.1162 - mean_squared_error: 2560.1162 - val_loss: 36242.5000 - val_mean_squared_error: 36242.5000\n",
      "Epoch 164/200\n",
      "69/69 [==============================] - 0s 1ms/step - loss: 2507.1575 - mean_squared_error: 2507.1575 - val_loss: 36445.1875 - val_mean_squared_error: 36445.1875\n",
      "Epoch 165/200\n",
      "69/69 [==============================] - 0s 2ms/step - loss: 2469.0264 - mean_squared_error: 2469.0264 - val_loss: 36214.9688 - val_mean_squared_error: 36214.9688\n",
      "Epoch 166/200\n",
      "69/69 [==============================] - 0s 2ms/step - loss: 2492.6780 - mean_squared_error: 2492.6780 - val_loss: 36048.0117 - val_mean_squared_error: 36048.0117\n",
      "Epoch 167/200\n",
      "69/69 [==============================] - 0s 2ms/step - loss: 2378.6819 - mean_squared_error: 2378.6819 - val_loss: 36709.9531 - val_mean_squared_error: 36709.9531\n",
      "Epoch 168/200\n",
      "69/69 [==============================] - 0s 2ms/step - loss: 2337.3076 - mean_squared_error: 2337.3076 - val_loss: 36302.6484 - val_mean_squared_error: 36302.6484\n",
      "Epoch 169/200\n",
      "69/69 [==============================] - 0s 1ms/step - loss: 2292.0339 - mean_squared_error: 2292.0339 - val_loss: 36527.8594 - val_mean_squared_error: 36527.8594\n",
      "Epoch 170/200\n",
      "69/69 [==============================] - 0s 2ms/step - loss: 2244.2786 - mean_squared_error: 2244.2786 - val_loss: 36380.3516 - val_mean_squared_error: 36380.3516\n",
      "Epoch 171/200\n",
      "69/69 [==============================] - 0s 2ms/step - loss: 2207.3638 - mean_squared_error: 2207.3638 - val_loss: 36449.5625 - val_mean_squared_error: 36449.5625\n",
      "Epoch 172/200\n",
      "69/69 [==============================] - 0s 2ms/step - loss: 2172.9036 - mean_squared_error: 2172.9036 - val_loss: 36829.0391 - val_mean_squared_error: 36829.0391\n",
      "Epoch 173/200\n",
      "69/69 [==============================] - 0s 2ms/step - loss: 2151.1213 - mean_squared_error: 2151.1213 - val_loss: 36692.2070 - val_mean_squared_error: 36692.2070\n",
      "Epoch 174/200\n",
      "69/69 [==============================] - 0s 2ms/step - loss: 2114.6257 - mean_squared_error: 2114.6257 - val_loss: 36760.7734 - val_mean_squared_error: 36760.7734\n",
      "Epoch 175/200\n",
      "69/69 [==============================] - 0s 1ms/step - loss: 2084.5891 - mean_squared_error: 2084.5891 - val_loss: 36662.9023 - val_mean_squared_error: 36662.9023\n",
      "Epoch 176/200\n",
      "69/69 [==============================] - 0s 2ms/step - loss: 2044.3103 - mean_squared_error: 2044.3103 - val_loss: 36717.3281 - val_mean_squared_error: 36717.3281\n",
      "Epoch 177/200\n",
      "69/69 [==============================] - 0s 2ms/step - loss: 1975.6614 - mean_squared_error: 1975.6614 - val_loss: 36757.7891 - val_mean_squared_error: 36757.7891\n",
      "Epoch 178/200\n",
      "69/69 [==============================] - 0s 2ms/step - loss: 1944.3604 - mean_squared_error: 1944.3604 - val_loss: 36913.8242 - val_mean_squared_error: 36913.8242\n",
      "Epoch 179/200\n",
      "69/69 [==============================] - 0s 2ms/step - loss: 1915.2162 - mean_squared_error: 1915.2162 - val_loss: 37068.1523 - val_mean_squared_error: 37068.1523\n",
      "Epoch 180/200\n",
      "69/69 [==============================] - 0s 2ms/step - loss: 1855.9119 - mean_squared_error: 1855.9119 - val_loss: 37075.1914 - val_mean_squared_error: 37075.1914\n",
      "Epoch 181/200\n",
      "69/69 [==============================] - 0s 2ms/step - loss: 1823.6909 - mean_squared_error: 1823.6909 - val_loss: 37107.2812 - val_mean_squared_error: 37107.2812\n",
      "Epoch 182/200\n",
      "69/69 [==============================] - 0s 1ms/step - loss: 1811.4097 - mean_squared_error: 1811.4097 - val_loss: 36828.1914 - val_mean_squared_error: 36828.1914\n",
      "Epoch 183/200\n",
      "69/69 [==============================] - 0s 2ms/step - loss: 1783.1787 - mean_squared_error: 1783.1787 - val_loss: 37037.8672 - val_mean_squared_error: 37037.8672\n",
      "Epoch 184/200\n",
      "69/69 [==============================] - 0s 2ms/step - loss: 1729.5955 - mean_squared_error: 1729.5955 - val_loss: 37072.5625 - val_mean_squared_error: 37072.5625\n",
      "Epoch 185/200\n",
      "69/69 [==============================] - 0s 3ms/step - loss: 1688.0873 - mean_squared_error: 1688.0873 - val_loss: 37614.9102 - val_mean_squared_error: 37614.9102\n",
      "Epoch 186/200\n",
      "69/69 [==============================] - 0s 2ms/step - loss: 1686.4486 - mean_squared_error: 1686.4486 - val_loss: 37130.9961 - val_mean_squared_error: 37130.9961\n",
      "Epoch 187/200\n",
      "69/69 [==============================] - 0s 1ms/step - loss: 1669.2737 - mean_squared_error: 1669.2737 - val_loss: 37494.4219 - val_mean_squared_error: 37494.4219\n",
      "Epoch 188/200\n",
      "69/69 [==============================] - 0s 2ms/step - loss: 1596.1353 - mean_squared_error: 1596.1353 - val_loss: 37498.6953 - val_mean_squared_error: 37498.6953\n",
      "Epoch 189/200\n",
      "69/69 [==============================] - 0s 2ms/step - loss: 1569.7654 - mean_squared_error: 1569.7654 - val_loss: 37348.5664 - val_mean_squared_error: 37348.5664\n",
      "Epoch 190/200\n",
      "69/69 [==============================] - 0s 2ms/step - loss: 1534.9773 - mean_squared_error: 1534.9773 - val_loss: 37315.1367 - val_mean_squared_error: 37315.1367\n",
      "Epoch 191/200\n",
      "69/69 [==============================] - 0s 2ms/step - loss: 1527.8998 - mean_squared_error: 1527.8998 - val_loss: 37448.4648 - val_mean_squared_error: 37448.4648\n",
      "Epoch 192/200\n",
      "69/69 [==============================] - 0s 2ms/step - loss: 1482.9103 - mean_squared_error: 1482.9103 - val_loss: 37853.7852 - val_mean_squared_error: 37853.7852\n",
      "Epoch 193/200\n",
      "69/69 [==============================] - 0s 2ms/step - loss: 1453.9481 - mean_squared_error: 1453.9481 - val_loss: 37472.5938 - val_mean_squared_error: 37472.5938\n",
      "Epoch 194/200\n",
      "69/69 [==============================] - 0s 1ms/step - loss: 1412.5790 - mean_squared_error: 1412.5790 - val_loss: 37660.9492 - val_mean_squared_error: 37660.9492\n",
      "Epoch 195/200\n",
      "69/69 [==============================] - 0s 2ms/step - loss: 1408.9755 - mean_squared_error: 1408.9755 - val_loss: 37666.6289 - val_mean_squared_error: 37666.6289\n",
      "Epoch 196/200\n",
      "69/69 [==============================] - 0s 3ms/step - loss: 1400.5105 - mean_squared_error: 1400.5105 - val_loss: 37876.5000 - val_mean_squared_error: 37876.5000\n",
      "Epoch 197/200\n",
      "69/69 [==============================] - 0s 3ms/step - loss: 1351.0092 - mean_squared_error: 1351.0092 - val_loss: 37726.7617 - val_mean_squared_error: 37726.7617\n",
      "Epoch 198/200\n",
      "69/69 [==============================] - 0s 2ms/step - loss: 1332.2341 - mean_squared_error: 1332.2341 - val_loss: 37647.0312 - val_mean_squared_error: 37647.0312\n",
      "Epoch 199/200\n",
      "69/69 [==============================] - 0s 2ms/step - loss: 1285.9896 - mean_squared_error: 1285.9896 - val_loss: 37740.4609 - val_mean_squared_error: 37740.4609\n",
      "Epoch 200/200\n",
      "69/69 [==============================] - 0s 2ms/step - loss: 1264.0116 - mean_squared_error: 1264.0116 - val_loss: 38178.8711 - val_mean_squared_error: 38178.8711\n",
      "y_train.shape: (2206, 1)\n",
      "y_train_predictions.shape: (2206, 1)\n",
      "y_test.shape: (1088, 1)\n",
      "y_test_predictions.shape: (1088, 1)\n",
      "inputScaler: 1\n",
      "Training R-Squared: 0.97534113402462\n",
      "Test R-Squared: 0.16774870768230954\n"
     ]
    }
   ],
   "source": [
    "train_rsquared, test_rsquared, modelPosition  = buildModelSingleTask(X_train/255, y_train_position.reshape(-1,1), X_test/255, y_test_position.reshape(-1,1), inputScaler=1)"
   ]
  },
  {
   "cell_type": "code",
   "execution_count": 173,
   "id": "f3e1b941-06ec-475f-a14d-a0461c48cfe7",
   "metadata": {},
   "outputs": [
    {
     "name": "stdout",
     "output_type": "stream",
     "text": [
      "(2206, 3)\n"
     ]
    },
    {
     "data": {
      "text/plain": [
       "Text(0.5, 0, 'actual positions')"
      ]
     },
     "execution_count": 173,
     "metadata": {},
     "output_type": "execute_result"
    },
    {
     "data": {
      "image/png": "[encoded data removed]",
      "text/plain": [
       "<Figure size 720x360 with 2 Axes>"
      ]
     },
     "metadata": {
      "needs_background": "light"
     },
     "output_type": "display_data"
    }
   ],
   "source": [
    "y_train_position_predicted = model.predict(X_train/255)\n",
    "y_test_position_predicted = model.predict(X_test/255)\n",
    "print(y_train_position_predicted.shape)\n",
    "fig, ax = plt.subplots(1,2,figsize=(10,5))\n",
    "ax[0].scatter(x=y_train_position.reshape(-1,1), y=y_train_position_predicted[:,0])\n",
    "ax[1].scatter(x=y_test_position.reshape(-1,1), y=y_test_position_predicted[:,0])\n",
    "ax[0].set_title(\"training\")\n",
    "ax[0].set_ylabel(\"predicted positions\")\n",
    "ax[1].set_title(\"test\")\n",
    "ax[0].set_xlabel(\"actual positions\")\n",
    "ax[1].set_xlabel(\"actual positions\")\n",
    "plt.savefig(\"\")"
   ]
  },
  {
   "cell_type": "code",
   "execution_count": 65,
   "id": "8773ddb0-a0d3-493a-9cbb-bb537ccaba40",
   "metadata": {},
   "outputs": [
    {
     "name": "stdout",
     "output_type": "stream",
     "text": [
      "Epoch 1/40\n",
      "69/69 [==============================] - 1s 8ms/step - loss: 8452.2002 - mean_squared_error: 8452.2002 - val_loss: 11049.1924 - val_mean_squared_error: 11049.1924\n",
      "Epoch 2/40\n",
      "69/69 [==============================] - 0s 7ms/step - loss: 8278.6436 - mean_squared_error: 8278.6436 - val_loss: 10818.8047 - val_mean_squared_error: 10818.8047\n",
      "Epoch 3/40\n",
      "69/69 [==============================] - 0s 6ms/step - loss: 8020.7769 - mean_squared_error: 8020.7769 - val_loss: 10663.7656 - val_mean_squared_error: 10663.7656\n",
      "Epoch 4/40\n",
      "69/69 [==============================] - 1s 9ms/step - loss: 7814.1406 - mean_squared_error: 7814.1406 - val_loss: 10640.0605 - val_mean_squared_error: 10640.0605\n",
      "Epoch 5/40\n",
      "69/69 [==============================] - 1s 8ms/step - loss: 7603.9971 - mean_squared_error: 7603.9971 - val_loss: 10517.5479 - val_mean_squared_error: 10517.5479\n",
      "Epoch 6/40\n",
      "69/69 [==============================] - 0s 6ms/step - loss: 7394.0728 - mean_squared_error: 7394.0728 - val_loss: 10337.9316 - val_mean_squared_error: 10337.9316\n",
      "Epoch 7/40\n",
      "69/69 [==============================] - 1s 8ms/step - loss: 7193.3672 - mean_squared_error: 7193.3672 - val_loss: 10254.3799 - val_mean_squared_error: 10254.3799\n",
      "Epoch 8/40\n",
      "69/69 [==============================] - 1s 8ms/step - loss: 7005.4971 - mean_squared_error: 7005.4971 - val_loss: 10165.8740 - val_mean_squared_error: 10165.8740\n",
      "Epoch 9/40\n",
      "69/69 [==============================] - 1s 9ms/step - loss: 6808.4326 - mean_squared_error: 6808.4326 - val_loss: 10124.4844 - val_mean_squared_error: 10124.4844\n",
      "Epoch 10/40\n",
      "69/69 [==============================] - 1s 8ms/step - loss: 6608.8042 - mean_squared_error: 6608.8042 - val_loss: 10020.7568 - val_mean_squared_error: 10020.7568\n",
      "Epoch 11/40\n",
      "69/69 [==============================] - 1s 8ms/step - loss: 6464.5093 - mean_squared_error: 6464.5093 - val_loss: 10023.5137 - val_mean_squared_error: 10023.5137\n",
      "Epoch 12/40\n",
      "69/69 [==============================] - 1s 8ms/step - loss: 6280.4351 - mean_squared_error: 6280.4351 - val_loss: 9881.7734 - val_mean_squared_error: 9881.7734\n",
      "Epoch 13/40\n",
      "69/69 [==============================] - 1s 8ms/step - loss: 6123.7437 - mean_squared_error: 6123.7437 - val_loss: 9853.2861 - val_mean_squared_error: 9853.2861\n",
      "Epoch 14/40\n",
      "69/69 [==============================] - 1s 10ms/step - loss: 5960.3496 - mean_squared_error: 5960.3496 - val_loss: 9762.1738 - val_mean_squared_error: 9762.1738\n",
      "Epoch 15/40\n",
      "69/69 [==============================] - 1s 9ms/step - loss: 5815.6387 - mean_squared_error: 5815.6387 - val_loss: 9681.5781 - val_mean_squared_error: 9681.5781\n",
      "Epoch 16/40\n",
      "69/69 [==============================] - 1s 9ms/step - loss: 5662.3965 - mean_squared_error: 5662.3965 - val_loss: 9655.1250 - val_mean_squared_error: 9655.1250\n",
      "Epoch 17/40\n",
      "69/69 [==============================] - 1s 9ms/step - loss: 5536.9629 - mean_squared_error: 5536.9629 - val_loss: 9598.3320 - val_mean_squared_error: 9598.3320\n",
      "Epoch 18/40\n",
      "69/69 [==============================] - 1s 8ms/step - loss: 5393.2871 - mean_squared_error: 5393.2871 - val_loss: 9565.2070 - val_mean_squared_error: 9565.2070\n",
      "Epoch 19/40\n",
      "69/69 [==============================] - 1s 9ms/step - loss: 5271.7812 - mean_squared_error: 5271.7812 - val_loss: 9548.3896 - val_mean_squared_error: 9548.3896\n",
      "Epoch 20/40\n",
      "69/69 [==============================] - 1s 11ms/step - loss: 5138.8940 - mean_squared_error: 5138.8940 - val_loss: 9515.4619 - val_mean_squared_error: 9515.4619\n",
      "Epoch 21/40\n",
      "69/69 [==============================] - 1s 9ms/step - loss: 5054.1812 - mean_squared_error: 5054.1812 - val_loss: 9411.0996 - val_mean_squared_error: 9411.0996\n",
      "Epoch 22/40\n",
      "69/69 [==============================] - 1s 10ms/step - loss: 4908.3516 - mean_squared_error: 4908.3516 - val_loss: 9460.1279 - val_mean_squared_error: 9460.1279\n",
      "Epoch 23/40\n",
      "69/69 [==============================] - 1s 9ms/step - loss: 4794.5791 - mean_squared_error: 4794.5791 - val_loss: 9372.0879 - val_mean_squared_error: 9372.0879\n",
      "Epoch 24/40\n",
      "69/69 [==============================] - 1s 8ms/step - loss: 4679.4199 - mean_squared_error: 4679.4199 - val_loss: 9403.6729 - val_mean_squared_error: 9403.6729\n",
      "Epoch 25/40\n",
      "69/69 [==============================] - 1s 8ms/step - loss: 4564.2905 - mean_squared_error: 4564.2905 - val_loss: 9294.9277 - val_mean_squared_error: 9294.9277\n",
      "Epoch 26/40\n",
      "69/69 [==============================] - 1s 8ms/step - loss: 4487.6035 - mean_squared_error: 4487.6035 - val_loss: 9270.3779 - val_mean_squared_error: 9270.3779\n",
      "Epoch 27/40\n",
      "69/69 [==============================] - 1s 9ms/step - loss: 4389.7598 - mean_squared_error: 4389.7598 - val_loss: 9271.0156 - val_mean_squared_error: 9271.0156\n",
      "Epoch 28/40\n",
      "69/69 [==============================] - 1s 9ms/step - loss: 4280.6899 - mean_squared_error: 4280.6899 - val_loss: 9316.3516 - val_mean_squared_error: 9316.3516\n",
      "Epoch 29/40\n",
      "69/69 [==============================] - 1s 11ms/step - loss: 4187.4248 - mean_squared_error: 4187.4248 - val_loss: 9249.8145 - val_mean_squared_error: 9249.8145\n",
      "Epoch 30/40\n",
      "69/69 [==============================] - 1s 12ms/step - loss: 4093.3772 - mean_squared_error: 4093.3772 - val_loss: 9183.2412 - val_mean_squared_error: 9183.2412\n",
      "Epoch 31/40\n",
      "69/69 [==============================] - 1s 11ms/step - loss: 3990.5867 - mean_squared_error: 3990.5867 - val_loss: 9133.1562 - val_mean_squared_error: 9133.1562\n",
      "Epoch 32/40\n",
      "69/69 [==============================] - 1s 9ms/step - loss: 3914.2480 - mean_squared_error: 3914.2480 - val_loss: 9151.9727 - val_mean_squared_error: 9151.9727\n",
      "Epoch 33/40\n",
      "69/69 [==============================] - 1s 10ms/step - loss: 3818.1265 - mean_squared_error: 3818.1265 - val_loss: 9133.4404 - val_mean_squared_error: 9133.4404\n",
      "Epoch 34/40\n",
      "69/69 [==============================] - 1s 9ms/step - loss: 3728.9556 - mean_squared_error: 3728.9556 - val_loss: 9117.6787 - val_mean_squared_error: 9117.6787\n",
      "Epoch 35/40\n",
      "69/69 [==============================] - 1s 8ms/step - loss: 3655.0383 - mean_squared_error: 3655.0383 - val_loss: 9066.0078 - val_mean_squared_error: 9066.0078\n",
      "Epoch 36/40\n",
      "69/69 [==============================] - 1s 8ms/step - loss: 3587.6655 - mean_squared_error: 3587.6655 - val_loss: 9033.1104 - val_mean_squared_error: 9033.1104\n",
      "Epoch 37/40\n",
      "69/69 [==============================] - 1s 11ms/step - loss: 3527.2605 - mean_squared_error: 3527.2605 - val_loss: 8980.1396 - val_mean_squared_error: 8980.1396\n",
      "Epoch 38/40\n",
      "69/69 [==============================] - 1s 12ms/step - loss: 3403.2439 - mean_squared_error: 3403.2439 - val_loss: 8989.2051 - val_mean_squared_error: 8989.2051\n",
      "Epoch 39/40\n",
      "69/69 [==============================] - 1s 9ms/step - loss: 3351.4500 - mean_squared_error: 3351.4500 - val_loss: 8988.4062 - val_mean_squared_error: 8988.4062\n",
      "Epoch 40/40\n",
      "69/69 [==============================] - 1s 10ms/step - loss: 3249.1987 - mean_squared_error: 3249.1987 - val_loss: 9062.4219 - val_mean_squared_error: 9062.4219\n"
     ]
    },
    {
     "data": {
      "text/plain": [
       "<tensorflow.python.keras.callbacks.History at 0x7f536179b3d0>"
      ]
     },
     "execution_count": 65,
     "metadata": {},
     "output_type": "execute_result"
    }
   ],
   "source": [
    "model.fit(X_train/255, y_train, epochs=40, validation_data=(X_test/255, y_test), verbose=1)\n"
   ]
  },
  {
   "cell_type": "code",
   "execution_count": 69,
   "id": "d204c8ad-1df7-4f17-aafd-2ab2a936e92d",
   "metadata": {},
   "outputs": [],
   "source": [
    "y_train_predictions = model.predict(X_train/255)"
   ]
  },
  {
   "cell_type": "code",
   "execution_count": 71,
   "id": "f0492e5d-ef50-4623-ac6c-c626825cf515",
   "metadata": {},
   "outputs": [
    {
     "data": {
      "text/plain": [
       "0.7836386357436437"
      ]
     },
     "execution_count": 71,
     "metadata": {},
     "output_type": "execute_result"
    }
   ],
   "source": [
    "my_r2_score(y_train_predictions, y_train)"
   ]
  },
  {
   "cell_type": "code",
   "execution_count": 72,
   "id": "6d4830e5-112c-4f22-9f96-3e1d05b894d2",
   "metadata": {},
   "outputs": [
    {
     "data": {
      "text/plain": [
       "array([1.8688756e+02, 1.2370509e+02, 7.5035943e-03], dtype=float32)"
      ]
     },
     "execution_count": 72,
     "metadata": {},
     "output_type": "execute_result"
    }
   ],
   "source": [
    "y_train_predictions[0]"
   ]
  },
  {
   "cell_type": "code",
   "execution_count": null,
   "id": "dd92e3a5-6a7e-4bcc-a429-9eb94dc00606",
   "metadata": {},
   "outputs": [],
   "source": []
  }
 ],
 "metadata": {
  "kernelspec": {
   "display_name": "Python 3",
   "language": "python",
   "name": "python3"
  },
  "language_info": {
   "codemirror_mode": {
    "name": "ipython",
    "version": 3
   },
   "file_extension": ".py",
   "mimetype": "text/x-python",
   "name": "python",
   "nbconvert_exporter": "python",
   "pygments_lexer": "ipython3",
   "version": "3.7.9"
  }
 },
 "nbformat": 4,
 "nbformat_minor": 5
}
