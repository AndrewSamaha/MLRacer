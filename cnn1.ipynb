{
 "cells": [
  {
   "cell_type": "code",
   "execution_count": 1,
   "id": "4d08cc06-1776-483a-896b-fe332c59bf8b",
   "metadata": {},
   "outputs": [],
   "source": [
    "%load_ext autoreload"
   ]
  },
  {
   "cell_type": "code",
   "execution_count": 92,
   "id": "10dc2531-f30f-4527-b638-3afa988bd20a",
   "metadata": {},
   "outputs": [],
   "source": [
    "import matplotlib.pyplot as plt\n",
    "import mysql.connector as mysql\n",
    "import numpy as np\n",
    "import base64\n",
    "import PIL\n",
    "from PIL import Image as Image\n",
    "#from IPython.display import Image\n",
    "#import urllib.parse\n",
    "import io\n",
    "import re\n",
    "from app.src.db import *\n",
    "%autoreload 2"
   ]
  },
  {
   "cell_type": "code",
   "execution_count": 47,
   "id": "3ebaad1f-ce67-443b-ab1d-4179635bbba1",
   "metadata": {},
   "outputs": [
    {
     "ename": "ImportError",
     "evalue": "cannot import name 'rsquare' from 'tensorflow.keras.metrics' (/home/andrew/anaconda3/lib/python3.7/site-packages/tensorflow/keras/metrics/__init__.py)",
     "output_type": "error",
     "traceback": [
      "\u001b[0;31m---------------------------------------------------------------------------\u001b[0m",
      "\u001b[0;31mImportError\u001b[0m                               Traceback (most recent call last)",
      "\u001b[0;32m<ipython-input-47-39b818ea31ca>\u001b[0m in \u001b[0;36m<module>\u001b[0;34m\u001b[0m\n\u001b[1;32m      6\u001b[0m \u001b[0;32mfrom\u001b[0m \u001b[0msklearn\u001b[0m\u001b[0;34m.\u001b[0m\u001b[0mmodel_selection\u001b[0m \u001b[0;32mimport\u001b[0m \u001b[0mtrain_test_split\u001b[0m\u001b[0;34m\u001b[0m\u001b[0;34m\u001b[0m\u001b[0m\n\u001b[1;32m      7\u001b[0m \u001b[0;32mfrom\u001b[0m \u001b[0mtensorflow\u001b[0m\u001b[0;34m.\u001b[0m\u001b[0mkeras\u001b[0m \u001b[0;32mimport\u001b[0m \u001b[0mbackend\u001b[0m \u001b[0;32mas\u001b[0m \u001b[0mK\u001b[0m\u001b[0;34m\u001b[0m\u001b[0;34m\u001b[0m\u001b[0m\n\u001b[0;32m----> 8\u001b[0;31m \u001b[0;32mfrom\u001b[0m \u001b[0mtensorflow\u001b[0m\u001b[0;34m.\u001b[0m\u001b[0mkeras\u001b[0m\u001b[0;34m.\u001b[0m\u001b[0mmetrics\u001b[0m \u001b[0;32mimport\u001b[0m \u001b[0mrsquare\u001b[0m\u001b[0;34m\u001b[0m\u001b[0;34m\u001b[0m\u001b[0m\n\u001b[0m\u001b[1;32m      9\u001b[0m \u001b[0;32mfrom\u001b[0m \u001b[0mmatplotlib\u001b[0m \u001b[0;32mimport\u001b[0m \u001b[0mpyplot\u001b[0m \u001b[0;32mas\u001b[0m \u001b[0mplt\u001b[0m\u001b[0;34m\u001b[0m\u001b[0;34m\u001b[0m\u001b[0m\n\u001b[1;32m     10\u001b[0m \u001b[0;32mimport\u001b[0m \u001b[0mnumpy\u001b[0m \u001b[0;32mas\u001b[0m \u001b[0mnp\u001b[0m\u001b[0;34m\u001b[0m\u001b[0;34m\u001b[0m\u001b[0m\n",
      "\u001b[0;31mImportError\u001b[0m: cannot import name 'rsquare' from 'tensorflow.keras.metrics' (/home/andrew/anaconda3/lib/python3.7/site-packages/tensorflow/keras/metrics/__init__.py)"
     ]
    }
   ],
   "source": [
    "import tensorflow as tf\n",
    "from tensorflow import keras\n",
    "from tensorflow.keras.models import Sequential\n",
    "from tensorflow.keras.layers import Conv2D, MaxPool2D, Dense, Dropout, Flatten\n",
    "from tensorflow.keras import backend as K\n",
    "from sklearn.model_selection import train_test_split\n",
    "from tensorflow.keras import backend as K\n",
    "from tensorflow.keras.metrics.\n",
    "from matplotlib import pyplot as plt\n",
    "import numpy as np\n",
    "\n",
    "import requests\n",
    "from io import BytesIO\n",
    "from PIL import Image, ImageFilter\n",
    "import os\n",
    "os.environ['KERAS_BACKEND']='tensorflow'"
   ]
  },
  {
   "cell_type": "code",
   "execution_count": 11,
   "id": "66ed5aeb-4a32-4af0-a9f7-0cdec52c1e97",
   "metadata": {},
   "outputs": [
    {
     "name": "stdout",
     "output_type": "stream",
     "text": [
      "(3294, 2500)\n",
      "(3294, 3)\n"
     ]
    }
   ],
   "source": [
    "mydb = mysql.connect(\n",
    "    host=\"127.0.0.1\",\n",
    "    port=49157,\n",
    "    user=\"root\",\n",
    "    password=\"datascience\",\n",
    "    database=\"racer\")\n",
    "\n",
    "X, Y = getDataset(mydb, 6, 1)\n",
    "print(X.shape)\n",
    "print(Y.shape)"
   ]
  },
  {
   "cell_type": "code",
   "execution_count": 12,
   "id": "f742c6a9-13ef-4790-be1e-946b6f80ec17",
   "metadata": {},
   "outputs": [
    {
     "name": "stdout",
     "output_type": "stream",
     "text": [
      "(2206, 2500)\n",
      "(1088, 2500)\n",
      "(2206, 3)\n",
      "(1088, 3)\n"
     ]
    }
   ],
   "source": [
    "X_train, X_test, y_train, y_test = train_test_split(X, Y, test_size=0.33, random_state=42)\n",
    "print(X_train.shape)\n",
    "print(X_test.shape)\n",
    "print(y_train.shape)\n",
    "print(y_test.shape)"
   ]
  },
  {
   "cell_type": "code",
   "execution_count": 48,
   "id": "308f4a97-f70e-49cb-b72f-7ee4724a2a97",
   "metadata": {},
   "outputs": [],
   "source": [
    "def coeff_determination(y_true, y_pred):\n",
    "    print(\"coeff_determination\")\n",
    "    from keras import backend as K\n",
    "    print(\"1coeff done\")\n",
    "    SS_res =  K.sum(K.square( y_true-y_pred ))\n",
    "    print(\"2coeff done\")\n",
    "    SS_tot = K.sum(K.square( y_true - K.mean(y_true) ) )\n",
    "    print(\"3coeff done\")\n",
    "    return ( 1 - SS_res/(SS_tot + K.epsilon()) )\n",
    "\n",
    "def my_r2_score(v_true, v_pred):\n",
    "    ssres = np.sum(np.square(v_true - v_pred))\n",
    "    sstot = np.sum(np.square(v_true - np.mean(v_true)))\n",
    "    return 1 - ssres / sstot"
   ]
  },
  {
   "cell_type": "code",
   "execution_count": 135,
   "id": "6ce92f51-5a11-4bc4-b282-8dc25ff3bb7c",
   "metadata": {},
   "outputs": [],
   "source": [
    "def buildModel(X_train, y_train, X_test, y_test, inputScaler=1, epochs=40):\n",
    "    model = Sequential()\n",
    "    model.add(Flatten(input_shape=(2500,1)))\n",
    "    model.add(Dense(25, activation=\"relu\"))\n",
    "    model.add(Dense(3))\n",
    "    #adam vs. sgd; adam works better\n",
    "    model.compile(optimizer='adam',\n",
    "              loss='mean_squared_error',\n",
    "              metrics=[tf.keras.metrics.MeanSquaredError()])\n",
    "    model.build()\n",
    "    #model.summary()\n",
    "    model.fit(X_train * inputScaler, y_train, epochs=40, validation_data=(X_test * inputScaler, y_test), verbose=0)\n",
    "    \n",
    "    y_train_predictions = model.predict(X_train * inputScaler)\n",
    "    y_train_rsquared = my_r2_score(y_train_predictions, y_train)\n",
    "    \n",
    "    y_test_predictions = model.predict(X_test * inputScaler)\n",
    "    y_test_rsquared = my_r2_score(y_test_predictions, y_test)\n",
    "    \n",
    "    print(f\"inputScaler: {inputScaler}\")\n",
    "    print(f\"Training R-Squared: {y_train_rsquared}\")\n",
    "    print(f\"Test R-Squared: {y_test_rsquared}\")\n",
    "    return y_train_rsquared, y_test_rsquared\n",
    "\n",
    "def buildModelSingleTask(X_train, y_train, X_test, y_test, inputScaler=1, epochs=40):\n",
    "    model = Sequential()\n",
    "    model.add(Flatten(input_shape=(2500,1)))\n",
    "    model.add(Dense(25, activation=\"relu\"))\n",
    "    model.add(Dense(1))\n",
    "    #adam vs. sgd; adam works better\n",
    "    model.compile(optimizer='adam',\n",
    "              loss='mean_squared_error',\n",
    "              metrics=[tf.keras.metrics.MeanSquaredError()])\n",
    "    model.build()\n",
    "    #model.summary()\n",
    "    model.fit(X_train * inputScaler, y_train, epochs=40, validation_data=(X_test * inputScaler, y_test), verbose=1)\n",
    "    \n",
    "    y_train_predictions = model.predict(X_train * inputScaler)\n",
    "    y_train_rsquared = my_r2_score(y_train_predictions, y_train)\n",
    "    \n",
    "    y_test_predictions = model.predict(X_test * inputScaler)\n",
    "    y_test_rsquared = my_r2_score(y_test_predictions, y_test)\n",
    "    \n",
    "    print(f\"y_train.shape: {y_train.shape}\")\n",
    "    print(f\"y_train_predictions.shape: {y_train_predictions.shape}\")\n",
    "    print(f\"y_test.shape: {y_test.shape}\")\n",
    "    print(f\"y_test_predictions.shape: {y_test_predictions.shape}\")\n",
    "    print(f\"inputScaler: {inputScaler}\")\n",
    "    print(f\"Training R-Squared: {y_train_rsquared}\")\n",
    "    print(f\"Test R-Squared: {y_test_rsquared}\")\n",
    "    return y_train_rsquared, y_test_rsquared\n",
    "\n",
    "\n",
    "def evaluateModel(X_train, y_train, X_test, y_test, builder, epoch_range, inputScaler=1):\n",
    "    train_rsquared = []\n",
    "    test_rsquared = []\n",
    "    for epoch in epoch_range:\n",
    "        train, test = builder(X_train, y_train, X_test, y_test, inputScaler=inputScaler, epochs=epoch)\n",
    "        train_rsquared.append(train)\n",
    "        test_rsquared.append(test)\n",
    "        fig,ax = plt.subplots(1,1,figsize=(5,5))\n",
    "        ax.plot(epochs[:len(train_rsquared)], train_rsquared,c='r')\n",
    "        ax.plot(epochs[:len(train_rsquared)], test_rsquared,c='b')\n",
    "        ax.set_ylim(0,1)\n",
    "        plt.tight_layout()\n",
    "        ax.set_title(f\"epoch={epoch}\")\n",
    "        plt.show()\n",
    "    return epoch_range, train_rsquared, test_rsquared"
   ]
  },
  {
   "cell_type": "code",
   "execution_count": 105,
   "id": "e1c2e4bf-2e37-4d48-bcba-8926edd9db05",
   "metadata": {},
   "outputs": [
    {
     "name": "stdout",
     "output_type": "stream",
     "text": [
      "inputScaler: 1\n",
      "Training R-Squared: 0.9883142003093717\n",
      "Test R-Squared: 0.5398450440125314\n"
     ]
    },
    {
     "data": {
      "image/png": "[encoded data removed]",
      "text/plain": [
       "<Figure size 360x360 with 1 Axes>"
      ]
     },
     "metadata": {
      "needs_background": "light"
     },
     "output_type": "display_data"
    },
    {
     "name": "stdout",
     "output_type": "stream",
     "text": [
      "inputScaler: 1\n",
      "Training R-Squared: 0.9848607313115174\n",
      "Test R-Squared: 0.536368472172067\n"
     ]
    },
    {
     "data": {
      "image/png": "[encoded data removed]",
      "text/plain": [
       "<Figure size 360x360 with 1 Axes>"
      ]
     },
     "metadata": {
      "needs_background": "light"
     },
     "output_type": "display_data"
    },
    {
     "name": "stdout",
     "output_type": "stream",
     "text": [
      "inputScaler: 1\n",
      "Training R-Squared: 0.9870397335249109\n",
      "Test R-Squared: 0.5044136816290143\n"
     ]
    },
    {
     "data": {
      "image/png": "[encoded data removed]",
      "text/plain": [
       "<Figure size 360x360 with 1 Axes>"
      ]
     },
     "metadata": {
      "needs_background": "light"
     },
     "output_type": "display_data"
    },
    {
     "name": "stdout",
     "output_type": "stream",
     "text": [
      "inputScaler: 1\n",
      "Training R-Squared: 0.9897700272989305\n",
      "Test R-Squared: 0.4941865369361368\n"
     ]
    },
    {
     "data": {
      "image/png": "[encoded data removed]",
      "text/plain": [
       "<Figure size 360x360 with 1 Axes>"
      ]
     },
     "metadata": {
      "needs_background": "light"
     },
     "output_type": "display_data"
    },
    {
     "name": "stdout",
     "output_type": "stream",
     "text": [
      "inputScaler: 1\n",
      "Training R-Squared: 0.9798745973526116\n",
      "Test R-Squared: 0.5300804827719579\n"
     ]
    },
    {
     "data": {
      "image/png": "[encoded data removed]",
      "text/plain": [
       "<Figure size 360x360 with 1 Axes>"
      ]
     },
     "metadata": {
      "needs_background": "light"
     },
     "output_type": "display_data"
    },
    {
     "name": "stdout",
     "output_type": "stream",
     "text": [
      "inputScaler: 1\n",
      "Training R-Squared: 0.9852442128860822\n",
      "Test R-Squared: 0.5492137330297912\n"
     ]
    },
    {
     "data": {
      "image/png": "[encoded data removed]",
      "text/plain": [
       "<Figure size 360x360 with 1 Axes>"
      ]
     },
     "metadata": {
      "needs_background": "light"
     },
     "output_type": "display_data"
    },
    {
     "name": "stdout",
     "output_type": "stream",
     "text": [
      "inputScaler: 1\n",
      "Training R-Squared: 0.9507771057692039\n",
      "Test R-Squared: 0.45980648766611865\n"
     ]
    },
    {
     "data": {
      "image/png": "[encoded data removed]",
      "text/plain": [
       "<Figure size 360x360 with 1 Axes>"
      ]
     },
     "metadata": {
      "needs_background": "light"
     },
     "output_type": "display_data"
    },
    {
     "name": "stdout",
     "output_type": "stream",
     "text": [
      "inputScaler: 1\n",
      "Training R-Squared: 0.9894316774907631\n",
      "Test R-Squared: 0.5459841380984276\n"
     ]
    },
    {
     "data": {
      "image/png": "[encoded data removed]",
      "text/plain": [
       "<Figure size 360x360 with 1 Axes>"
      ]
     },
     "metadata": {
      "needs_background": "light"
     },
     "output_type": "display_data"
    },
    {
     "name": "stdout",
     "output_type": "stream",
     "text": [
      "inputScaler: 1\n",
      "Training R-Squared: 0.9875060959775801\n",
      "Test R-Squared: 0.4851793649553102\n"
     ]
    },
    {
     "data": {
      "image/png": "[encoded data removed]",
      "text/plain": [
       "<Figure size 360x360 with 1 Axes>"
      ]
     },
     "metadata": {
      "needs_background": "light"
     },
     "output_type": "display_data"
    }
   ],
   "source": [
    "epochs, train_rsquared, test_rsquared = evaluateModel(X_train, y_train, X_test, y_test, buildModel, range(25,250,25))"
   ]
  },
  {
   "cell_type": "code",
   "execution_count": 115,
   "id": "412e6cab-37ce-4df3-8bef-1a36c0a0121b",
   "metadata": {},
   "outputs": [
    {
     "data": {
      "image/png": "[encoded data removed]",
      "text/plain": [
       "<Figure size 360x360 with 1 Axes>"
      ]
     },
     "metadata": {
      "needs_background": "light"
     },
     "output_type": "display_data"
    }
   ],
   "source": [
    "import matplotlib.pyplot as plt\n",
    "fig,ax = plt.subplots(1,1,figsize=(5,5))\n",
    "ax.plot(epochs, train_rsquared,c='r')\n",
    "ax.plot(epochs, test_rsquared,c='b')\n",
    "ax.set_title(f\"2500/25-relu/3 adam mse\\nn={X_train.shape[0]}\")\n",
    "ax.set_ylabel(\"r-squared\")\n",
    "ax.set_xlabel(\"epochs\")\n",
    "ax.set_ylim(0,1)\n",
    "plt.savefig(\"alpha.v2.png\")"
   ]
  },
  {
   "cell_type": "code",
   "execution_count": 159,
   "id": "9749236a-bdfc-43b3-9b2d-021e8cf1af11",
   "metadata": {},
   "outputs": [
    {
     "name": "stdout",
     "output_type": "stream",
     "text": [
      "(2206,)\n",
      "(2206,)\n",
      "(2206,)\n",
      "(1088,)\n",
      "(1088,)\n",
      "(1088,)\n"
     ]
    },
    {
     "data": {
      "image/png": "[encoded data removed]",
      "text/plain": [
       "<Figure size 432x288 with 3 Axes>"
      ]
     },
     "metadata": {
      "needs_background": "light"
     },
     "output_type": "display_data"
    },
    {
     "data": {
      "image/png": "[encoded data removed]",
      "text/plain": [
       "<Figure size 432x288 with 4 Axes>"
      ]
     },
     "metadata": {
      "needs_background": "light"
     },
     "output_type": "display_data"
    }
   ],
   "source": [
    "y_train_position = y_train[:,0]\n",
    "y_train_velocity = y_train[:,1]\n",
    "y_train_rotation = y_train[:,2]\n",
    "print(y_train_position.shape)\n",
    "print(y_train_velocity.shape)\n",
    "print(y_train_rotation.shape)\n",
    "y_test_position = y_test[:,0]\n",
    "y_test_velocity = y_test[:,1]\n",
    "y_test_rotation = y_test[:,2]\n",
    "print(y_test_position.shape)\n",
    "print(y_test_velocity.shape)\n",
    "print(y_test_rotation.shape)\n",
    "\n",
    "fig, ax = plt.subplots(1,3)\n",
    "ax[0].hist(y_train_position)\n",
    "ax[0].set_title(\"position\")\n",
    "ax[0].set_ylabel(\"count\")\n",
    "ax[1].hist(y_train_velocity)\n",
    "ax[1].set_title(\"velocity\")\n",
    "ax[2].hist(y_train_rotation)\n",
    "ax[2].set_title(\"rotation\")\n",
    "plt.tight_layout()\n",
    "plt.savefig(\"y_eda.png\")\n",
    "plt.show()\n",
    "\n",
    "\n",
    "fig, ax = plt.subplots(2,2)\n",
    "ax[0,0].hist(X_train.reshape(-1,1))\n",
    "ax[0,1].hist(X_test.reshape(-1,1))\n",
    "ax[0,0].set_title(\"X_train\")\n",
    "ax[0,0].set_ylabel(\"raw\")\n",
    "ax[0,1].set_title(\"X_test\")\n",
    "ax[1,0].hist(X_train.reshape(-1,1)/255)\n",
    "ax[1,0].set_ylabel(\"raw / 255\")\n",
    "ax[1,1].hist(X_test.reshape(-1,1)/255)\n",
    "plt.tight_layout()\n",
    "plt.savefig(\"x_eda.png\")\n",
    "plt.show()"
   ]
  },
  {
   "cell_type": "code",
   "execution_count": 142,
   "id": "ded9cf8d-dbe2-4db9-897f-7a3082f4da1f",
   "metadata": {},
   "outputs": [
    {
     "name": "stdout",
     "output_type": "stream",
     "text": [
      "Epoch 1/40\n",
      "69/69 [==============================] - 0s 2ms/step - loss: 728.0835 - mean_squared_error: 728.0835 - val_loss: 26.9856 - val_mean_squared_error: 26.9856\n",
      "Epoch 2/40\n",
      "69/69 [==============================] - 0s 1ms/step - loss: 13.7943 - mean_squared_error: 13.7943 - val_loss: 14.3211 - val_mean_squared_error: 14.3211\n",
      "Epoch 3/40\n",
      "69/69 [==============================] - 0s 1ms/step - loss: 3.3682 - mean_squared_error: 3.3682 - val_loss: 11.7393 - val_mean_squared_error: 11.7393\n",
      "Epoch 4/40\n",
      "69/69 [==============================] - 0s 1ms/step - loss: 1.6288 - mean_squared_error: 1.6288 - val_loss: 10.6597 - val_mean_squared_error: 10.6597\n",
      "Epoch 5/40\n",
      "69/69 [==============================] - 0s 1ms/step - loss: 0.9942 - mean_squared_error: 0.9942 - val_loss: 10.0021 - val_mean_squared_error: 10.0021\n",
      "Epoch 6/40\n",
      "69/69 [==============================] - 0s 2ms/step - loss: 0.4095 - mean_squared_error: 0.4095 - val_loss: 9.6485 - val_mean_squared_error: 9.6485\n",
      "Epoch 7/40\n",
      "69/69 [==============================] - 0s 2ms/step - loss: 0.2446 - mean_squared_error: 0.2446 - val_loss: 9.3488 - val_mean_squared_error: 9.3488\n",
      "Epoch 8/40\n",
      "69/69 [==============================] - 0s 2ms/step - loss: 0.1964 - mean_squared_error: 0.1964 - val_loss: 9.2274 - val_mean_squared_error: 9.2274\n",
      "Epoch 9/40\n",
      "69/69 [==============================] - 0s 2ms/step - loss: 0.1863 - mean_squared_error: 0.1863 - val_loss: 9.0234 - val_mean_squared_error: 9.0234\n",
      "Epoch 10/40\n",
      "69/69 [==============================] - 0s 2ms/step - loss: 0.3615 - mean_squared_error: 0.3615 - val_loss: 8.7419 - val_mean_squared_error: 8.7419\n",
      "Epoch 11/40\n",
      "69/69 [==============================] - 0s 2ms/step - loss: 0.1312 - mean_squared_error: 0.1312 - val_loss: 8.7191 - val_mean_squared_error: 8.7191\n",
      "Epoch 12/40\n",
      "69/69 [==============================] - 0s 1ms/step - loss: 0.2419 - mean_squared_error: 0.2419 - val_loss: 8.5584 - val_mean_squared_error: 8.5584\n",
      "Epoch 13/40\n",
      "69/69 [==============================] - 0s 2ms/step - loss: 0.6991 - mean_squared_error: 0.6991 - val_loss: 7.9866 - val_mean_squared_error: 7.9866\n",
      "Epoch 14/40\n",
      "69/69 [==============================] - 0s 2ms/step - loss: 0.6763 - mean_squared_error: 0.6763 - val_loss: 7.9658 - val_mean_squared_error: 7.9658\n",
      "Epoch 15/40\n",
      "69/69 [==============================] - 0s 1ms/step - loss: 0.0893 - mean_squared_error: 0.0893 - val_loss: 7.7391 - val_mean_squared_error: 7.7391\n",
      "Epoch 16/40\n",
      "69/69 [==============================] - 0s 2ms/step - loss: 0.1860 - mean_squared_error: 0.1860 - val_loss: 7.8248 - val_mean_squared_error: 7.8248\n",
      "Epoch 17/40\n",
      "69/69 [==============================] - 0s 1ms/step - loss: 0.2268 - mean_squared_error: 0.2268 - val_loss: 7.6246 - val_mean_squared_error: 7.6246\n",
      "Epoch 18/40\n",
      "69/69 [==============================] - 0s 1ms/step - loss: 0.4127 - mean_squared_error: 0.4127 - val_loss: 7.3063 - val_mean_squared_error: 7.3063\n",
      "Epoch 19/40\n",
      "69/69 [==============================] - 0s 2ms/step - loss: 0.8041 - mean_squared_error: 0.8041 - val_loss: 7.2966 - val_mean_squared_error: 7.2966\n",
      "Epoch 20/40\n",
      "69/69 [==============================] - 0s 3ms/step - loss: 0.4065 - mean_squared_error: 0.4065 - val_loss: 7.0522 - val_mean_squared_error: 7.0522\n",
      "Epoch 21/40\n",
      "69/69 [==============================] - 0s 2ms/step - loss: 0.3410 - mean_squared_error: 0.3410 - val_loss: 6.7029 - val_mean_squared_error: 6.7029\n",
      "Epoch 22/40\n",
      "69/69 [==============================] - 0s 1ms/step - loss: 0.2582 - mean_squared_error: 0.2582 - val_loss: 6.7857 - val_mean_squared_error: 6.7857\n",
      "Epoch 23/40\n",
      "69/69 [==============================] - 0s 2ms/step - loss: 0.1183 - mean_squared_error: 0.1183 - val_loss: 6.5353 - val_mean_squared_error: 6.5353\n",
      "Epoch 24/40\n",
      "69/69 [==============================] - 0s 2ms/step - loss: 0.0870 - mean_squared_error: 0.0870 - val_loss: 6.4694 - val_mean_squared_error: 6.4694\n",
      "Epoch 25/40\n",
      "69/69 [==============================] - 0s 2ms/step - loss: 0.0936 - mean_squared_error: 0.0936 - val_loss: 6.4980 - val_mean_squared_error: 6.4980\n",
      "Epoch 26/40\n",
      "69/69 [==============================] - 0s 2ms/step - loss: 0.0896 - mean_squared_error: 0.0896 - val_loss: 6.3483 - val_mean_squared_error: 6.3483\n",
      "Epoch 27/40\n",
      "69/69 [==============================] - 0s 2ms/step - loss: 0.1052 - mean_squared_error: 0.1052 - val_loss: 6.2117 - val_mean_squared_error: 6.2117\n",
      "Epoch 28/40\n",
      "69/69 [==============================] - 0s 2ms/step - loss: 0.0803 - mean_squared_error: 0.0803 - val_loss: 6.2351 - val_mean_squared_error: 6.2351\n",
      "Epoch 29/40\n",
      "69/69 [==============================] - 0s 2ms/step - loss: 0.0770 - mean_squared_error: 0.0770 - val_loss: 6.3336 - val_mean_squared_error: 6.3336\n",
      "Epoch 30/40\n",
      "69/69 [==============================] - 0s 2ms/step - loss: 0.1448 - mean_squared_error: 0.1448 - val_loss: 6.0360 - val_mean_squared_error: 6.0360\n",
      "Epoch 31/40\n",
      "69/69 [==============================] - 0s 2ms/step - loss: 0.1798 - mean_squared_error: 0.1798 - val_loss: 5.7054 - val_mean_squared_error: 5.7054\n",
      "Epoch 32/40\n",
      "69/69 [==============================] - 0s 2ms/step - loss: 0.0976 - mean_squared_error: 0.0976 - val_loss: 5.6264 - val_mean_squared_error: 5.6264\n",
      "Epoch 33/40\n",
      "69/69 [==============================] - 0s 2ms/step - loss: 0.1332 - mean_squared_error: 0.1332 - val_loss: 5.4565 - val_mean_squared_error: 5.4565\n",
      "Epoch 34/40\n",
      "69/69 [==============================] - 0s 2ms/step - loss: 0.1892 - mean_squared_error: 0.1892 - val_loss: 5.4226 - val_mean_squared_error: 5.4226\n",
      "Epoch 35/40\n",
      "69/69 [==============================] - 0s 2ms/step - loss: 0.1232 - mean_squared_error: 0.1232 - val_loss: 5.3412 - val_mean_squared_error: 5.3412\n",
      "Epoch 36/40\n",
      "69/69 [==============================] - 0s 2ms/step - loss: 0.1180 - mean_squared_error: 0.1180 - val_loss: 5.2592 - val_mean_squared_error: 5.2592\n",
      "Epoch 37/40\n",
      "69/69 [==============================] - 0s 1ms/step - loss: 0.0589 - mean_squared_error: 0.0589 - val_loss: 5.2078 - val_mean_squared_error: 5.2078\n",
      "Epoch 38/40\n",
      "69/69 [==============================] - 0s 2ms/step - loss: 0.0487 - mean_squared_error: 0.0487 - val_loss: 5.1804 - val_mean_squared_error: 5.1804\n",
      "Epoch 39/40\n",
      "69/69 [==============================] - 0s 2ms/step - loss: 0.0391 - mean_squared_error: 0.0391 - val_loss: 5.1855 - val_mean_squared_error: 5.1855\n",
      "Epoch 40/40\n",
      "69/69 [==============================] - 0s 2ms/step - loss: 0.0676 - mean_squared_error: 0.0676 - val_loss: 5.1827 - val_mean_squared_error: 5.1827\n",
      "y_train.shape: (2206, 1)\n",
      "y_train_predictions.shape: (2206, 1)\n",
      "y_test.shape: (1088, 1)\n",
      "y_test_predictions.shape: (1088, 1)\n",
      "inputScaler: 1\n",
      "Training R-Squared: -0.015015659592109376\n",
      "Test R-Squared: -0.0037359842824022937\n"
     ]
    }
   ],
   "source": [
    "train_rsquared, test_rsquared = buildModelSingleTask(X_train, y_train_rotation.reshape(-1,1), X_test, y_test_rotation.reshape(-1,1), inputScaler=1)"
   ]
  },
  {
   "cell_type": "code",
   "execution_count": null,
   "id": "f3e1b941-06ec-475f-a14d-a0461c48cfe7",
   "metadata": {},
   "outputs": [],
   "source": []
  },
  {
   "cell_type": "code",
   "execution_count": 65,
   "id": "8773ddb0-a0d3-493a-9cbb-bb537ccaba40",
   "metadata": {},
   "outputs": [
    {
     "name": "stdout",
     "output_type": "stream",
     "text": [
      "Epoch 1/40\n",
      "69/69 [==============================] - 1s 8ms/step - loss: 8452.2002 - mean_squared_error: 8452.2002 - val_loss: 11049.1924 - val_mean_squared_error: 11049.1924\n",
      "Epoch 2/40\n",
      "69/69 [==============================] - 0s 7ms/step - loss: 8278.6436 - mean_squared_error: 8278.6436 - val_loss: 10818.8047 - val_mean_squared_error: 10818.8047\n",
      "Epoch 3/40\n",
      "69/69 [==============================] - 0s 6ms/step - loss: 8020.7769 - mean_squared_error: 8020.7769 - val_loss: 10663.7656 - val_mean_squared_error: 10663.7656\n",
      "Epoch 4/40\n",
      "69/69 [==============================] - 1s 9ms/step - loss: 7814.1406 - mean_squared_error: 7814.1406 - val_loss: 10640.0605 - val_mean_squared_error: 10640.0605\n",
      "Epoch 5/40\n",
      "69/69 [==============================] - 1s 8ms/step - loss: 7603.9971 - mean_squared_error: 7603.9971 - val_loss: 10517.5479 - val_mean_squared_error: 10517.5479\n",
      "Epoch 6/40\n",
      "69/69 [==============================] - 0s 6ms/step - loss: 7394.0728 - mean_squared_error: 7394.0728 - val_loss: 10337.9316 - val_mean_squared_error: 10337.9316\n",
      "Epoch 7/40\n",
      "69/69 [==============================] - 1s 8ms/step - loss: 7193.3672 - mean_squared_error: 7193.3672 - val_loss: 10254.3799 - val_mean_squared_error: 10254.3799\n",
      "Epoch 8/40\n",
      "69/69 [==============================] - 1s 8ms/step - loss: 7005.4971 - mean_squared_error: 7005.4971 - val_loss: 10165.8740 - val_mean_squared_error: 10165.8740\n",
      "Epoch 9/40\n",
      "69/69 [==============================] - 1s 9ms/step - loss: 6808.4326 - mean_squared_error: 6808.4326 - val_loss: 10124.4844 - val_mean_squared_error: 10124.4844\n",
      "Epoch 10/40\n",
      "69/69 [==============================] - 1s 8ms/step - loss: 6608.8042 - mean_squared_error: 6608.8042 - val_loss: 10020.7568 - val_mean_squared_error: 10020.7568\n",
      "Epoch 11/40\n",
      "69/69 [==============================] - 1s 8ms/step - loss: 6464.5093 - mean_squared_error: 6464.5093 - val_loss: 10023.5137 - val_mean_squared_error: 10023.5137\n",
      "Epoch 12/40\n",
      "69/69 [==============================] - 1s 8ms/step - loss: 6280.4351 - mean_squared_error: 6280.4351 - val_loss: 9881.7734 - val_mean_squared_error: 9881.7734\n",
      "Epoch 13/40\n",
      "69/69 [==============================] - 1s 8ms/step - loss: 6123.7437 - mean_squared_error: 6123.7437 - val_loss: 9853.2861 - val_mean_squared_error: 9853.2861\n",
      "Epoch 14/40\n",
      "69/69 [==============================] - 1s 10ms/step - loss: 5960.3496 - mean_squared_error: 5960.3496 - val_loss: 9762.1738 - val_mean_squared_error: 9762.1738\n",
      "Epoch 15/40\n",
      "69/69 [==============================] - 1s 9ms/step - loss: 5815.6387 - mean_squared_error: 5815.6387 - val_loss: 9681.5781 - val_mean_squared_error: 9681.5781\n",
      "Epoch 16/40\n",
      "69/69 [==============================] - 1s 9ms/step - loss: 5662.3965 - mean_squared_error: 5662.3965 - val_loss: 9655.1250 - val_mean_squared_error: 9655.1250\n",
      "Epoch 17/40\n",
      "69/69 [==============================] - 1s 9ms/step - loss: 5536.9629 - mean_squared_error: 5536.9629 - val_loss: 9598.3320 - val_mean_squared_error: 9598.3320\n",
      "Epoch 18/40\n",
      "69/69 [==============================] - 1s 8ms/step - loss: 5393.2871 - mean_squared_error: 5393.2871 - val_loss: 9565.2070 - val_mean_squared_error: 9565.2070\n",
      "Epoch 19/40\n",
      "69/69 [==============================] - 1s 9ms/step - loss: 5271.7812 - mean_squared_error: 5271.7812 - val_loss: 9548.3896 - val_mean_squared_error: 9548.3896\n",
      "Epoch 20/40\n",
      "69/69 [==============================] - 1s 11ms/step - loss: 5138.8940 - mean_squared_error: 5138.8940 - val_loss: 9515.4619 - val_mean_squared_error: 9515.4619\n",
      "Epoch 21/40\n",
      "69/69 [==============================] - 1s 9ms/step - loss: 5054.1812 - mean_squared_error: 5054.1812 - val_loss: 9411.0996 - val_mean_squared_error: 9411.0996\n",
      "Epoch 22/40\n",
      "69/69 [==============================] - 1s 10ms/step - loss: 4908.3516 - mean_squared_error: 4908.3516 - val_loss: 9460.1279 - val_mean_squared_error: 9460.1279\n",
      "Epoch 23/40\n",
      "69/69 [==============================] - 1s 9ms/step - loss: 4794.5791 - mean_squared_error: 4794.5791 - val_loss: 9372.0879 - val_mean_squared_error: 9372.0879\n",
      "Epoch 24/40\n",
      "69/69 [==============================] - 1s 8ms/step - loss: 4679.4199 - mean_squared_error: 4679.4199 - val_loss: 9403.6729 - val_mean_squared_error: 9403.6729\n",
      "Epoch 25/40\n",
      "69/69 [==============================] - 1s 8ms/step - loss: 4564.2905 - mean_squared_error: 4564.2905 - val_loss: 9294.9277 - val_mean_squared_error: 9294.9277\n",
      "Epoch 26/40\n",
      "69/69 [==============================] - 1s 8ms/step - loss: 4487.6035 - mean_squared_error: 4487.6035 - val_loss: 9270.3779 - val_mean_squared_error: 9270.3779\n",
      "Epoch 27/40\n",
      "69/69 [==============================] - 1s 9ms/step - loss: 4389.7598 - mean_squared_error: 4389.7598 - val_loss: 9271.0156 - val_mean_squared_error: 9271.0156\n",
      "Epoch 28/40\n",
      "69/69 [==============================] - 1s 9ms/step - loss: 4280.6899 - mean_squared_error: 4280.6899 - val_loss: 9316.3516 - val_mean_squared_error: 9316.3516\n",
      "Epoch 29/40\n",
      "69/69 [==============================] - 1s 11ms/step - loss: 4187.4248 - mean_squared_error: 4187.4248 - val_loss: 9249.8145 - val_mean_squared_error: 9249.8145\n",
      "Epoch 30/40\n",
      "69/69 [==============================] - 1s 12ms/step - loss: 4093.3772 - mean_squared_error: 4093.3772 - val_loss: 9183.2412 - val_mean_squared_error: 9183.2412\n",
      "Epoch 31/40\n",
      "69/69 [==============================] - 1s 11ms/step - loss: 3990.5867 - mean_squared_error: 3990.5867 - val_loss: 9133.1562 - val_mean_squared_error: 9133.1562\n",
      "Epoch 32/40\n",
      "69/69 [==============================] - 1s 9ms/step - loss: 3914.2480 - mean_squared_error: 3914.2480 - val_loss: 9151.9727 - val_mean_squared_error: 9151.9727\n",
      "Epoch 33/40\n",
      "69/69 [==============================] - 1s 10ms/step - loss: 3818.1265 - mean_squared_error: 3818.1265 - val_loss: 9133.4404 - val_mean_squared_error: 9133.4404\n",
      "Epoch 34/40\n",
      "69/69 [==============================] - 1s 9ms/step - loss: 3728.9556 - mean_squared_error: 3728.9556 - val_loss: 9117.6787 - val_mean_squared_error: 9117.6787\n",
      "Epoch 35/40\n",
      "69/69 [==============================] - 1s 8ms/step - loss: 3655.0383 - mean_squared_error: 3655.0383 - val_loss: 9066.0078 - val_mean_squared_error: 9066.0078\n",
      "Epoch 36/40\n",
      "69/69 [==============================] - 1s 8ms/step - loss: 3587.6655 - mean_squared_error: 3587.6655 - val_loss: 9033.1104 - val_mean_squared_error: 9033.1104\n",
      "Epoch 37/40\n",
      "69/69 [==============================] - 1s 11ms/step - loss: 3527.2605 - mean_squared_error: 3527.2605 - val_loss: 8980.1396 - val_mean_squared_error: 8980.1396\n",
      "Epoch 38/40\n",
      "69/69 [==============================] - 1s 12ms/step - loss: 3403.2439 - mean_squared_error: 3403.2439 - val_loss: 8989.2051 - val_mean_squared_error: 8989.2051\n",
      "Epoch 39/40\n",
      "69/69 [==============================] - 1s 9ms/step - loss: 3351.4500 - mean_squared_error: 3351.4500 - val_loss: 8988.4062 - val_mean_squared_error: 8988.4062\n",
      "Epoch 40/40\n",
      "69/69 [==============================] - 1s 10ms/step - loss: 3249.1987 - mean_squared_error: 3249.1987 - val_loss: 9062.4219 - val_mean_squared_error: 9062.4219\n"
     ]
    },
    {
     "data": {
      "text/plain": [
       "<tensorflow.python.keras.callbacks.History at 0x7f536179b3d0>"
      ]
     },
     "execution_count": 65,
     "metadata": {},
     "output_type": "execute_result"
    }
   ],
   "source": [
    "model.fit(X_train/255, y_train, epochs=40, validation_data=(X_test/255, y_test), verbose=1)\n"
   ]
  },
  {
   "cell_type": "code",
   "execution_count": 69,
   "id": "d204c8ad-1df7-4f17-aafd-2ab2a936e92d",
   "metadata": {},
   "outputs": [],
   "source": [
    "y_train_predictions = model.predict(X_train/255)"
   ]
  },
  {
   "cell_type": "code",
   "execution_count": 71,
   "id": "f0492e5d-ef50-4623-ac6c-c626825cf515",
   "metadata": {},
   "outputs": [
    {
     "data": {
      "text/plain": [
       "0.7836386357436437"
      ]
     },
     "execution_count": 71,
     "metadata": {},
     "output_type": "execute_result"
    }
   ],
   "source": [
    "my_r2_score(y_train_predictions, y_train)"
   ]
  },
  {
   "cell_type": "code",
   "execution_count": 72,
   "id": "6d4830e5-112c-4f22-9f96-3e1d05b894d2",
   "metadata": {},
   "outputs": [
    {
     "data": {
      "text/plain": [
       "array([1.8688756e+02, 1.2370509e+02, 7.5035943e-03], dtype=float32)"
      ]
     },
     "execution_count": 72,
     "metadata": {},
     "output_type": "execute_result"
    }
   ],
   "source": [
    "y_train_predictions[0]"
   ]
  },
  {
   "cell_type": "code",
   "execution_count": null,
   "id": "dd92e3a5-6a7e-4bcc-a429-9eb94dc00606",
   "metadata": {},
   "outputs": [],
   "source": []
  }
 ],
 "metadata": {
  "kernelspec": {
   "display_name": "Python 3",
   "language": "python",
   "name": "python3"
  },
  "language_info": {
   "codemirror_mode": {
    "name": "ipython",
    "version": 3
   },
   "file_extension": ".py",
   "mimetype": "text/x-python",
   "name": "python",
   "nbconvert_exporter": "python",
   "pygments_lexer": "ipython3",
   "version": "3.7.9"
  }
 },
 "nbformat": 4,
 "nbformat_minor": 5
}
