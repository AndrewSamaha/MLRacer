{
 "cells": [
  {
   "cell_type": "code",
   "execution_count": 1,
   "id": "ac9454f2-8227-4f79-bfd5-d12b39ded3d8",
   "metadata": {},
   "outputs": [],
   "source": [
    "%load_ext autoreload"
   ]
  },
  {
   "cell_type": "code",
   "execution_count": 31,
   "id": "41a5c97b-2e59-431f-8ada-e73e136a4961",
   "metadata": {},
   "outputs": [],
   "source": [
    "import mysql.connector as mysql\n",
    "import numpy as np\n",
    "import base64\n",
    "import PIL\n",
    "from PIL import Image as Image\n",
    "#from IPython.display import Image\n",
    "#import urllib.parse\n",
    "import io\n",
    "import re\n",
    "from app.src.db import *\n",
    "%autoreload 2"
   ]
  },
  {
   "cell_type": "code",
   "execution_count": 32,
   "id": "7dad41bb-5a0d-48bb-a71f-5967f9603144",
   "metadata": {},
   "outputs": [],
   "source": [
    "\n",
    "mydb = mysql.connect(\n",
    "    host=\"127.0.0.1\",\n",
    "    port=49153,\n",
    "    user=\"root\",\n",
    "    password=\"datascience\",\n",
    "    database=\"racer\")\n"
   ]
  },
  {
   "cell_type": "code",
   "execution_count": 33,
   "id": "397c19cb-4a51-4cd0-9db9-3b452fd3673a",
   "metadata": {},
   "outputs": [],
   "source": [
    "dbcursor = mydb.cursor()\n"
   ]
  },
  {
   "cell_type": "code",
   "execution_count": 41,
   "id": "4703b347-308c-4bd5-b0b5-d3927085b13a",
   "metadata": {},
   "outputs": [
    {
     "name": "stdout",
     "output_type": "stream",
     "text": [
      "(5, 0, 2438)\n",
      "(5, 1, 2437)\n",
      "(6, 0, 32935)\n",
      "(6, 1, 3294)\n",
      "(6, 2, 24070)\n",
      "(6, 3, 24058)\n"
     ]
    }
   ],
   "source": [
    "dbcursor.execute(\"SELECT DISTINCT batchid, layerid, count(*) FROM images GROUP BY batchid, layerid\")\n",
    "results = dbcursor.fetchall()\n",
    "for result in results:\n",
    "    print(result)"
   ]
  },
  {
   "cell_type": "code",
   "execution_count": 31,
   "id": "1e4cd0f0-8537-4717-bb68-1c4dbf77640c",
   "metadata": {},
   "outputs": [
    {
     "data": {
      "text/plain": [
       "[(5, 'alpha testing', 'Very unstable, no assumptions about consistency'),\n",
       " (6, 'alpha2', 'Beginning CNN testing, starting with fresh data.')]"
      ]
     },
     "execution_count": 31,
     "metadata": {},
     "output_type": "execute_result"
    }
   ],
   "source": [
    "#createBatch(mydb, \"alpha2\", \"Beginning CNN testing, starting with fresh data.\")\n",
    "getBatches(mydb)"
   ]
  },
  {
   "cell_type": "code",
   "execution_count": 19,
   "id": "94ffce40-ce61-4f5d-b72a-235f8a8beb15",
   "metadata": {},
   "outputs": [
    {
     "data": {
      "text/plain": [
       "[(1, 'imageDelta', 'currentframe minus the previous frame', 0, 5)]"
      ]
     },
     "execution_count": 19,
     "metadata": {},
     "output_type": "execute_result"
    }
   ],
   "source": [
    "getLayers(mydb)"
   ]
  },
  {
   "cell_type": "code",
   "execution_count": 47,
   "id": "72fd6fea-3f8a-4cff-a2f1-6b5547f55114",
   "metadata": {},
   "outputs": [],
   "source": [
    "#newlayerid = createProcessingLayer(mydb, 0, 6, \"imageDeltaWithTDelta\", \"includes tdelta- ms since last frame\")"
   ]
  },
  {
   "cell_type": "code",
   "execution_count": 48,
   "id": "b46e5fdb-04a2-465a-8f87-09e884309f76",
   "metadata": {},
   "outputs": [
    {
     "data": {
      "text/plain": [
       "3"
      ]
     },
     "execution_count": 48,
     "metadata": {},
     "output_type": "execute_result"
    }
   ],
   "source": [
    "newlayerid"
   ]
  },
  {
   "cell_type": "code",
   "execution_count": 38,
   "id": "be031eeb-f6e2-4381-a40c-7244006b8e04",
   "metadata": {},
   "outputs": [],
   "source": [
    "layer=3\n",
    "batch=6\n",
    "dbcursor.execute(f\"DELETE FROM images WHERE layerid = '{layer}' and batchid = '{batch}'\")\n",
    "mydb.commit()"
   ]
  },
  {
   "cell_type": "code",
   "execution_count": 59,
   "id": "c1429a41-a607-458d-9e14-f72e30e61fd8",
   "metadata": {},
   "outputs": [
    {
     "name": "stdout",
     "output_type": "stream",
     "text": [
      "(74999, 1625443130197, 0.0, 1.5947585820722217, 0.0, 3, 6, 94, 'data:image/png;base64,iVBORw0KGgoAAAANSUhEUgAAADIAAAAyCAAAAAA7VNdtAAAAzUlEQVR4nO1USQ7DIAyc4U3t/0/5VYV7cAADpkClSDlkIgvHeMcAgBgTCi+EZNkeJCzqpVV+qjkG5zopoTf3E2Pe79wQYRBHiXDbRBoy/zCyxkC05w1JkQMUUEtPy6T+EkbA0rZb4cqkOt8cfuVAkyZADAZGoB1VKlICQKAeVUXJ5ckJ6hkY59XnRo3iVSrGoWajgcROdjsocGRsEl5BGvEtG+8uTIIYrqJodz+uXosD78S+cOzkkdGe5P9Yugj5BYx7zuMt7/6DBw+uxxcqnDhaa34prQAAAABJRU5ErkJggg==')\n",
      "(75000, 1625443130269, 0.0, 2.3845773937556363, 0.0, 3, 6, 72, 'data:image/png;base64,iVBORw0KGgoAAAANSUhEUgAAADIAAAAyCAAAAAA7VNdtAAABC0lEQVR4nO2UMU7EMBBF37e22G22WiRuAS3iMIgjIi6BKOk4BSUVfAqPkziKswlaRJMfjTx2Zuw/+Z4g0BmjHw2gxjN8BwLnNUhMwpHkMECOTVbCXhJU+UsycpCD4KKM0UHF1QKrsDiwYKeJQAFyVq6Tz/k7ixTOwMiySUbCFop1A3bq1OosGNk4ZBgIur56MXNh6lGj+X+iqUuarXhS99RI6C16TIJc/m6WnHtJXE5x6etWvw/nhVmr96f+AYryJ/lUVAYMtbr1z6C0QXXNGoe8f9wW9+bzbX7f1yd4uI7J3X04V4/w/DKmsD8k4HRs73Y8Aemw/2X1+lKjZRr4vmjLXFy0DRs2/Bl+AAhuSTRJ7COrAAAAAElFTkSuQmCC')\n",
      "(75001, 1625443130342, -7.277824487440473e-09, 3.1693982317283043, 0.0, 3, 6, 73, 'data:image/png;base64,iVBORw0KGgoAAAANSUhEUgAAADIAAAAyCAAAAAA7VNdtAAABD0lEQVR4nO2US1LEMAxEX6dgwQE4BmuOTnG2qZpmYfmT2M4Hht10SmU5UduSozYIpkYZXeYsU4IRihEEVqU00Mq18eabjIK+Y0bYi0GWYcEwNhfflkBebbhXe7EmydNY19aXP6Nd3gd4+Q1pXn9k6fY8gGXwzze+kl+heBmWGWWew3KrdQ2z+il2Dc8uInqvfeJDDVnN+13IiedyHAklmitzr2n+jMOFuoATWw9DzvR9S9dY+yoHFmHNLTA6ZACMk4JjGZNP3732rdB70j2qdwDCcq99eE1B0eaOa8BC9kTNXx/vyXn7/J7kXbAA9+3Lu8cVn1J002DthXtAEaCbrsn/din6EA/r/SeeeOK/8QO4n2hZyOqNXwAAAABJRU5ErkJggg==')\n"
     ]
    }
   ],
   "source": [
    "layer=3\n",
    "batch=6\n",
    "dbcursor.execute(f\"SELECT * FROM images WHERE layerid = '{layer}' and batchid = '{batch}' LIMIT 3\")\n",
    "results = dbcursor.fetchall()\n",
    "for result in results:\n",
    "    print(result)\n"
   ]
  },
  {
   "cell_type": "code",
   "execution_count": 37,
   "id": "273c50c7-7675-4f96-83a0-a09122e6a8f6",
   "metadata": {},
   "outputs": [],
   "source": [
    "def processorDIFF(targetFrame, referenceFrame):\n",
    "    return referenceFrame - targetFrame\n",
    "\n",
    "def process(db, layer, batch, processor, newlayerid=None):\n",
    "    dbcursor = mydb.cursor()\n",
    "    dbcursor.execute(f\"SELECT * FROM images WHERE layerid = '{layer}' and batchid = '{batch}'\")\n",
    "    lasttime=0\n",
    "    lastimage_np = None\n",
    "    results = dbcursor.fetchall()\n",
    "    print(f\"num rows to process: {len(results)}\")\n",
    "    saved_images = 0\n",
    "    for result in results:\n",
    "        imageuri = result[8]\n",
    "        time = result[1]\n",
    "        position = result[2]\n",
    "        velocity = result[3]\n",
    "        rotation = result[4]\n",
    "        layer    = result[5]\n",
    "        batch    = result[6]\n",
    "        \n",
    "        tdelta = time - lasttime\n",
    "        lasttime = time\n",
    "        \n",
    "        image_np = uriToNP(imageuri)\n",
    "        if lastimage_np is not None and tdelta <= 255:\n",
    "            image_diff = processor(lastimage_np, image_np)\n",
    "            a = np.uint8(image_diff)\n",
    "            f = io.StringIO()\n",
    "            newimage = PIL.Image.fromarray(a)\n",
    "            \n",
    "            if newlayerid is not None:\n",
    "                uri_image = pilToURI(newimage)\n",
    "                \n",
    "                #display(newimage)\n",
    "                #showURI(uri_image)\n",
    "                #print(uri_image)\n",
    "                try:\n",
    "                    saveImage(db, batch, newlayerid, time, position, velocity, rotation, uri_image,tdelta=tdelta)\n",
    "                    saved_images += 1\n",
    "                except Exception as ex:\n",
    "                    print(result[0])\n",
    "                    print(\"Exception: \" + ex)\n",
    "        lastimage_np = image_np\n",
    "        \n",
    "    print(f\"saved {saved_images} images into layer {newlayerid} batch {batch}\")"
   ]
  },
  {
   "cell_type": "code",
   "execution_count": 40,
   "id": "eca40178-52f3-4f71-8289-489f3025b549",
   "metadata": {},
   "outputs": [
    {
     "name": "stdout",
     "output_type": "stream",
     "text": [
      "num rows to process: 24071\n",
      "saved 24058 images into layer 3 batch 6\n"
     ]
    }
   ],
   "source": [
    "process(mydb, 0, 6, processorDIFF, 3)"
   ]
  },
  {
   "cell_type": "code",
   "execution_count": 49,
   "id": "ff410c07-918c-4c2c-85e2-28f0cd038c7d",
   "metadata": {},
   "outputs": [],
   "source": [
    "def makeVideo(db, layer, batch):\n",
    "    #this function is broken, use makeGif and then convert the resulting gif into a webm\n",
    "    import cv2\n",
    "    import os\n",
    "\n",
    "    video_name = 'video.avi'\n",
    "    dbcursor = mydb.cursor()\n",
    "    dbcursor.execute(f\"SELECT * FROM images WHERE layerid = '{layer}' and batchid = '{batch}'\")\n",
    "    results = dbcursor.fetchall()\n",
    "    #images = [img for img in os.listdir(image_folder) if img.endswith(\".png\")]\n",
    "    #frame = cv2.imread(os.path.join(image_folder, images[0]))\n",
    "    height, width, layers = 50, 50, len(results)\n",
    "    fourcc = cv2.VideoWriter_fourcc(*'MP4V')\n",
    "    video = cv2.VideoWriter(video_name, 0x7634706d, 1, (300,300))\n",
    "    for result in results:\n",
    "        #print(result[7])\n",
    "        image = uriToNP2(result[8])\n",
    "        cv2.imshow('frame',image)\n",
    "        video.write(image)\n",
    "\n",
    "    cv2.destroyAllWindows()\n",
    "    video.release()\n",
    "\n",
    "def makeGif(db, filename, layer, batch):\n",
    "    \n",
    "    import imageio\n",
    "    \n",
    "    dbcursor = mydb.cursor()\n",
    "    dbcursor.execute(f\"SELECT * FROM images WHERE layerid = '{layer}' and batchid = '{batch}' LIMIT 200\")\n",
    "    results = dbcursor.fetchall()\n",
    "    #images = [img for img in os.listdir(image_folder) if img.endswith(\".png\")]\n",
    "    #frame = cv2.imread(os.path.join(image_folder, images[0]))\n",
    "    height, width, layers = 50, 50, len(results)\n",
    "    with imageio.get_writer(filename, mode='I') as writer:\n",
    "        for result in results:\n",
    "        #print(result[7])\n",
    "            image = uriToNP(result[8])\n",
    "            writer.append_data(image)\n",
    "        #cv2.imshow('frame',image)\n",
    "        #video.write(image)\n",
    "\n",
    "    \n",
    "\n",
    "\n",
    "def uriToNPXX(imageuri):\n",
    "    imgstr = re.search(r'base64,(.*)', imageuri).group(1)\n",
    "    image_bytes = io.BytesIO(base64.b64decode(imgstr))\n",
    "    im = Image.open(image_bytes)\n",
    "    nparray = np.array(im)\n",
    "    if len(nparray.shape) == 2:\n",
    "        arr = np.array(im)[:,:]\n",
    "    elif len(nparray.shape) == 3:\n",
    "        arr = np.array(im)[:,:,0]\n",
    "    return arr"
   ]
  },
  {
   "cell_type": "code",
   "execution_count": 50,
   "id": "3ee8a1aa-6482-4536-b82c-3a986b0a89aa",
   "metadata": {},
   "outputs": [],
   "source": [
    "makeGif(mydb, \"deltas.gif\",0,6)"
   ]
  },
  {
   "cell_type": "code",
   "execution_count": 60,
   "id": "26449a59-2339-4b88-b84f-cf39b8cc776f",
   "metadata": {},
   "outputs": [
    {
     "data": {
      "text/plain": [
       "array([1, 2, 3, 4])"
      ]
     },
     "execution_count": 60,
     "metadata": {},
     "output_type": "execute_result"
    }
   ],
   "source": [
    "np.append(np.array([1,2,3]),4)"
   ]
  },
  {
   "cell_type": "code",
   "execution_count": 35,
   "id": "e2e9b2af-4f82-4019-a4a0-f279e64fdd49",
   "metadata": {},
   "outputs": [
    {
     "name": "stdout",
     "output_type": "stream",
     "text": [
      "loaded 100 out of 24063, 0.4155757802435274%   TDeltaCol.shape=(100, 1)\n",
      "loaded 200 out of 24063, 0.8311515604870549%   TDeltaCol.shape=(200, 1)\n",
      "loaded 300 out of 24063, 1.2467273407305821%   TDeltaCol.shape=(300, 1)\n",
      "loaded 400 out of 24063, 1.6623031209741097%   TDeltaCol.shape=(400, 1)\n",
      "loaded 500 out of 24063, 2.077878901217637%   TDeltaCol.shape=(500, 1)\n",
      "loaded 600 out of 24063, 2.4934546814611642%   TDeltaCol.shape=(600, 1)\n",
      "loaded 700 out of 24063, 2.909030461704692%   TDeltaCol.shape=(700, 1)\n",
      "loaded 800 out of 24063, 3.3246062419482194%   TDeltaCol.shape=(800, 1)\n",
      "loaded 900 out of 24063, 3.7401820221917466%   TDeltaCol.shape=(900, 1)\n",
      "loaded 1000 out of 24063, 4.155757802435274%   TDeltaCol.shape=(1000, 1)\n",
      "loaded 1100 out of 24063, 4.571333582678801%   TDeltaCol.shape=(1100, 1)\n",
      "loaded 1200 out of 24063, 4.9869093629223284%   TDeltaCol.shape=(1200, 1)\n",
      "loaded 1300 out of 24063, 5.4024851431658565%   TDeltaCol.shape=(1300, 1)\n",
      "loaded 1400 out of 24063, 5.818060923409384%   TDeltaCol.shape=(1400, 1)\n",
      "loaded 1500 out of 24063, 6.233636703652911%   TDeltaCol.shape=(1500, 1)\n",
      "loaded 1600 out of 24063, 6.649212483896439%   TDeltaCol.shape=(1600, 1)\n",
      "loaded 1700 out of 24063, 7.064788264139966%   TDeltaCol.shape=(1700, 1)\n",
      "loaded 1800 out of 24063, 7.480364044383493%   TDeltaCol.shape=(1800, 1)\n",
      "loaded 1900 out of 24063, 7.895939824627021%   TDeltaCol.shape=(1900, 1)\n",
      "loaded 2000 out of 24063, 8.311515604870548%   TDeltaCol.shape=(2000, 1)\n",
      "loaded 2100 out of 24063, 8.727091385114075%   TDeltaCol.shape=(2100, 1)\n",
      "loaded 2200 out of 24063, 9.142667165357603%   TDeltaCol.shape=(2200, 1)\n",
      "loaded 2300 out of 24063, 9.55824294560113%   TDeltaCol.shape=(2300, 1)\n",
      "loaded 2400 out of 24063, 9.973818725844657%   TDeltaCol.shape=(2400, 1)\n",
      "loaded 2500 out of 24063, 10.389394506088186%   TDeltaCol.shape=(2500, 1)\n",
      "loaded 2600 out of 24063, 10.804970286331713%   TDeltaCol.shape=(2600, 1)\n",
      "loaded 2700 out of 24063, 11.22054606657524%   TDeltaCol.shape=(2700, 1)\n",
      "loaded 2800 out of 24063, 11.636121846818767%   TDeltaCol.shape=(2800, 1)\n",
      "loaded 2900 out of 24063, 12.051697627062294%   TDeltaCol.shape=(2900, 1)\n",
      "loaded 3000 out of 24063, 12.467273407305822%   TDeltaCol.shape=(3000, 1)\n",
      "loaded 3100 out of 24063, 12.88284918754935%   TDeltaCol.shape=(3100, 1)\n",
      "loaded 3200 out of 24063, 13.298424967792878%   TDeltaCol.shape=(3200, 1)\n",
      "loaded 3300 out of 24063, 13.714000748036405%   TDeltaCol.shape=(3300, 1)\n",
      "loaded 3400 out of 24063, 14.129576528279932%   TDeltaCol.shape=(3400, 1)\n",
      "loaded 3500 out of 24063, 14.545152308523459%   TDeltaCol.shape=(3500, 1)\n",
      "loaded 3600 out of 24063, 14.960728088766986%   TDeltaCol.shape=(3600, 1)\n",
      "loaded 3700 out of 24063, 15.376303869010513%   TDeltaCol.shape=(3700, 1)\n",
      "loaded 3800 out of 24063, 15.791879649254042%   TDeltaCol.shape=(3800, 1)\n",
      "loaded 3900 out of 24063, 16.207455429497568%   TDeltaCol.shape=(3900, 1)\n",
      "loaded 4000 out of 24063, 16.623031209741097%   TDeltaCol.shape=(4000, 1)\n",
      "loaded 4100 out of 24063, 17.038606989984622%   TDeltaCol.shape=(4100, 1)\n",
      "loaded 4200 out of 24063, 17.45418277022815%   TDeltaCol.shape=(4200, 1)\n",
      "loaded 4300 out of 24063, 17.86975855047168%   TDeltaCol.shape=(4300, 1)\n",
      "loaded 4400 out of 24063, 18.285334330715205%   TDeltaCol.shape=(4400, 1)\n",
      "loaded 4500 out of 24063, 18.700910110958734%   TDeltaCol.shape=(4500, 1)\n",
      "loaded 4600 out of 24063, 19.11648589120226%   TDeltaCol.shape=(4600, 1)\n",
      "loaded 4700 out of 24063, 19.53206167144579%   TDeltaCol.shape=(4700, 1)\n",
      "loaded 4800 out of 24063, 19.947637451689314%   TDeltaCol.shape=(4800, 1)\n",
      "loaded 4900 out of 24063, 20.363213231932843%   TDeltaCol.shape=(4900, 1)\n",
      "loaded 5000 out of 24063, 20.77878901217637%   TDeltaCol.shape=(5000, 1)\n",
      "loaded 5100 out of 24063, 21.194364792419897%   TDeltaCol.shape=(5100, 1)\n",
      "loaded 5200 out of 24063, 21.609940572663426%   TDeltaCol.shape=(5200, 1)\n",
      "loaded 5300 out of 24063, 22.02551635290695%   TDeltaCol.shape=(5300, 1)\n",
      "loaded 5400 out of 24063, 22.44109213315048%   TDeltaCol.shape=(5400, 1)\n",
      "loaded 5500 out of 24063, 22.85666791339401%   TDeltaCol.shape=(5500, 1)\n",
      "loaded 5600 out of 24063, 23.272243693637535%   TDeltaCol.shape=(5600, 1)\n",
      "loaded 5700 out of 24063, 23.687819473881063%   TDeltaCol.shape=(5700, 1)\n",
      "loaded 5800 out of 24063, 24.10339525412459%   TDeltaCol.shape=(5800, 1)\n",
      "loaded 5900 out of 24063, 24.518971034368118%   TDeltaCol.shape=(5900, 1)\n",
      "loaded 6000 out of 24063, 24.934546814611643%   TDeltaCol.shape=(6000, 1)\n",
      "loaded 6100 out of 24063, 25.350122594855172%   TDeltaCol.shape=(6100, 1)\n",
      "loaded 6200 out of 24063, 25.7656983750987%   TDeltaCol.shape=(6200, 1)\n",
      "loaded 6300 out of 24063, 26.181274155342226%   TDeltaCol.shape=(6300, 1)\n",
      "loaded 6400 out of 24063, 26.596849935585755%   TDeltaCol.shape=(6400, 1)\n",
      "loaded 6500 out of 24063, 27.01242571582928%   TDeltaCol.shape=(6500, 1)\n",
      "loaded 6600 out of 24063, 27.42800149607281%   TDeltaCol.shape=(6600, 1)\n",
      "loaded 6700 out of 24063, 27.843577276316335%   TDeltaCol.shape=(6700, 1)\n",
      "loaded 6800 out of 24063, 28.259153056559864%   TDeltaCol.shape=(6800, 1)\n",
      "loaded 6900 out of 24063, 28.674728836803393%   TDeltaCol.shape=(6900, 1)\n",
      "loaded 7000 out of 24063, 29.090304617046918%   TDeltaCol.shape=(7000, 1)\n",
      "loaded 7100 out of 24063, 29.505880397290447%   TDeltaCol.shape=(7100, 1)\n",
      "loaded 7200 out of 24063, 29.921456177533972%   TDeltaCol.shape=(7200, 1)\n",
      "loaded 7300 out of 24063, 30.3370319577775%   TDeltaCol.shape=(7300, 1)\n",
      "loaded 7400 out of 24063, 30.752607738021027%   TDeltaCol.shape=(7400, 1)\n",
      "loaded 7500 out of 24063, 31.168183518264556%   TDeltaCol.shape=(7500, 1)\n",
      "loaded 7600 out of 24063, 31.583759298508085%   TDeltaCol.shape=(7600, 1)\n",
      "loaded 7700 out of 24063, 31.99933507875161%   TDeltaCol.shape=(7700, 1)\n",
      "loaded 7800 out of 24063, 32.414910858995135%   TDeltaCol.shape=(7800, 1)\n",
      "loaded 7900 out of 24063, 32.830486639238664%   TDeltaCol.shape=(7900, 1)\n",
      "loaded 8000 out of 24063, 33.24606241948219%   TDeltaCol.shape=(8000, 1)\n",
      "loaded 8100 out of 24063, 33.66163819972572%   TDeltaCol.shape=(8100, 1)\n",
      "loaded 8200 out of 24063, 34.077213979969244%   TDeltaCol.shape=(8200, 1)\n",
      "loaded 8300 out of 24063, 34.49278976021277%   TDeltaCol.shape=(8300, 1)\n",
      "loaded 8400 out of 24063, 34.9083655404563%   TDeltaCol.shape=(8400, 1)\n",
      "loaded 8500 out of 24063, 35.32394132069983%   TDeltaCol.shape=(8500, 1)\n",
      "loaded 8600 out of 24063, 35.73951710094336%   TDeltaCol.shape=(8600, 1)\n",
      "loaded 8700 out of 24063, 36.15509288118688%   TDeltaCol.shape=(8700, 1)\n",
      "loaded 8800 out of 24063, 36.57066866143041%   TDeltaCol.shape=(8800, 1)\n",
      "loaded 8900 out of 24063, 36.98624444167394%   TDeltaCol.shape=(8900, 1)\n",
      "loaded 9000 out of 24063, 37.40182022191747%   TDeltaCol.shape=(9000, 1)\n",
      "loaded 9100 out of 24063, 37.817396002161%   TDeltaCol.shape=(9100, 1)\n",
      "loaded 9200 out of 24063, 38.23297178240452%   TDeltaCol.shape=(9200, 1)\n",
      "loaded 9300 out of 24063, 38.64854756264805%   TDeltaCol.shape=(9300, 1)\n",
      "loaded 9400 out of 24063, 39.06412334289158%   TDeltaCol.shape=(9400, 1)\n",
      "loaded 9500 out of 24063, 39.479699123135106%   TDeltaCol.shape=(9500, 1)\n",
      "loaded 9600 out of 24063, 39.89527490337863%   TDeltaCol.shape=(9600, 1)\n",
      "loaded 9700 out of 24063, 40.31085068362216%   TDeltaCol.shape=(9700, 1)\n",
      "loaded 9800 out of 24063, 40.726426463865685%   TDeltaCol.shape=(9800, 1)\n",
      "loaded 9900 out of 24063, 41.142002244109214%   TDeltaCol.shape=(9900, 1)\n",
      "loaded 10000 out of 24063, 41.55757802435274%   TDeltaCol.shape=(10000, 1)\n",
      "loaded 10100 out of 24063, 41.973153804596265%   TDeltaCol.shape=(10100, 1)\n",
      "loaded 10200 out of 24063, 42.388729584839794%   TDeltaCol.shape=(10200, 1)\n",
      "loaded 10300 out of 24063, 42.80430536508332%   TDeltaCol.shape=(10300, 1)\n",
      "loaded 10400 out of 24063, 43.21988114532685%   TDeltaCol.shape=(10400, 1)\n",
      "loaded 10500 out of 24063, 43.63545692557038%   TDeltaCol.shape=(10500, 1)\n",
      "loaded 10600 out of 24063, 44.0510327058139%   TDeltaCol.shape=(10600, 1)\n",
      "loaded 10700 out of 24063, 44.46660848605743%   TDeltaCol.shape=(10700, 1)\n",
      "loaded 10800 out of 24063, 44.88218426630096%   TDeltaCol.shape=(10800, 1)\n",
      "loaded 10900 out of 24063, 45.29776004654449%   TDeltaCol.shape=(10900, 1)\n",
      "loaded 11000 out of 24063, 45.71333582678802%   TDeltaCol.shape=(11000, 1)\n",
      "loaded 11100 out of 24063, 46.12891160703154%   TDeltaCol.shape=(11100, 1)\n",
      "loaded 11200 out of 24063, 46.54448738727507%   TDeltaCol.shape=(11200, 1)\n",
      "loaded 11300 out of 24063, 46.9600631675186%   TDeltaCol.shape=(11300, 1)\n",
      "loaded 11400 out of 24063, 47.37563894776213%   TDeltaCol.shape=(11400, 1)\n",
      "loaded 11500 out of 24063, 47.79121472800565%   TDeltaCol.shape=(11500, 1)\n",
      "loaded 11600 out of 24063, 48.20679050824918%   TDeltaCol.shape=(11600, 1)\n",
      "loaded 11700 out of 24063, 48.62236628849271%   TDeltaCol.shape=(11700, 1)\n",
      "loaded 11800 out of 24063, 49.037942068736236%   TDeltaCol.shape=(11800, 1)\n",
      "loaded 11900 out of 24063, 49.453517848979764%   TDeltaCol.shape=(11900, 1)\n",
      "loaded 12000 out of 24063, 49.869093629223286%   TDeltaCol.shape=(12000, 1)\n",
      "loaded 12100 out of 24063, 50.284669409466815%   TDeltaCol.shape=(12100, 1)\n",
      "loaded 12200 out of 24063, 50.700245189710344%   TDeltaCol.shape=(12200, 1)\n",
      "loaded 12300 out of 24063, 51.11582096995387%   TDeltaCol.shape=(12300, 1)\n",
      "loaded 12400 out of 24063, 51.5313967501974%   TDeltaCol.shape=(12400, 1)\n",
      "loaded 12500 out of 24063, 51.946972530440924%   TDeltaCol.shape=(12500, 1)\n",
      "loaded 12600 out of 24063, 52.36254831068445%   TDeltaCol.shape=(12600, 1)\n",
      "loaded 12700 out of 24063, 52.77812409092798%   TDeltaCol.shape=(12700, 1)\n",
      "loaded 12800 out of 24063, 53.19369987117151%   TDeltaCol.shape=(12800, 1)\n",
      "loaded 12900 out of 24063, 53.60927565141503%   TDeltaCol.shape=(12900, 1)\n",
      "loaded 13000 out of 24063, 54.02485143165856%   TDeltaCol.shape=(13000, 1)\n",
      "loaded 13100 out of 24063, 54.44042721190209%   TDeltaCol.shape=(13100, 1)\n",
      "loaded 13200 out of 24063, 54.85600299214562%   TDeltaCol.shape=(13200, 1)\n",
      "loaded 13300 out of 24063, 55.27157877238915%   TDeltaCol.shape=(13300, 1)\n",
      "loaded 13400 out of 24063, 55.68715455263267%   TDeltaCol.shape=(13400, 1)\n",
      "loaded 13500 out of 24063, 56.1027303328762%   TDeltaCol.shape=(13500, 1)\n",
      "loaded 13600 out of 24063, 56.51830611311973%   TDeltaCol.shape=(13600, 1)\n",
      "loaded 13700 out of 24063, 56.93388189336326%   TDeltaCol.shape=(13700, 1)\n",
      "loaded 13800 out of 24063, 57.349457673606786%   TDeltaCol.shape=(13800, 1)\n",
      "loaded 13900 out of 24063, 57.76503345385031%   TDeltaCol.shape=(13900, 1)\n",
      "loaded 14000 out of 24063, 58.180609234093836%   TDeltaCol.shape=(14000, 1)\n",
      "loaded 14100 out of 24063, 58.596185014337365%   TDeltaCol.shape=(14100, 1)\n",
      "loaded 14200 out of 24063, 59.011760794580894%   TDeltaCol.shape=(14200, 1)\n",
      "loaded 14300 out of 24063, 59.427336574824416%   TDeltaCol.shape=(14300, 1)\n",
      "loaded 14400 out of 24063, 59.842912355067945%   TDeltaCol.shape=(14400, 1)\n",
      "loaded 14500 out of 24063, 60.258488135311474%   TDeltaCol.shape=(14500, 1)\n",
      "loaded 14600 out of 24063, 60.674063915555%   TDeltaCol.shape=(14600, 1)\n",
      "loaded 14700 out of 24063, 61.08963969579853%   TDeltaCol.shape=(14700, 1)\n",
      "loaded 14800 out of 24063, 61.50521547604205%   TDeltaCol.shape=(14800, 1)\n",
      "loaded 14900 out of 24063, 61.92079125628558%   TDeltaCol.shape=(14900, 1)\n",
      "loaded 15000 out of 24063, 62.33636703652911%   TDeltaCol.shape=(15000, 1)\n",
      "loaded 15100 out of 24063, 62.75194281677264%   TDeltaCol.shape=(15100, 1)\n",
      "loaded 15200 out of 24063, 63.16751859701617%   TDeltaCol.shape=(15200, 1)\n",
      "loaded 15300 out of 24063, 63.58309437725969%   TDeltaCol.shape=(15300, 1)\n",
      "loaded 15400 out of 24063, 63.99867015750322%   TDeltaCol.shape=(15400, 1)\n",
      "loaded 15500 out of 24063, 64.41424593774674%   TDeltaCol.shape=(15500, 1)\n",
      "loaded 15600 out of 24063, 64.82982171799027%   TDeltaCol.shape=(15600, 1)\n",
      "loaded 15700 out of 24063, 65.2453974982338%   TDeltaCol.shape=(15700, 1)\n",
      "loaded 15800 out of 24063, 65.66097327847733%   TDeltaCol.shape=(15800, 1)\n",
      "loaded 15900 out of 24063, 66.07654905872086%   TDeltaCol.shape=(15900, 1)\n",
      "loaded 16000 out of 24063, 66.49212483896439%   TDeltaCol.shape=(16000, 1)\n",
      "loaded 16100 out of 24063, 66.90770061920792%   TDeltaCol.shape=(16100, 1)\n",
      "loaded 16200 out of 24063, 67.32327639945144%   TDeltaCol.shape=(16200, 1)\n",
      "loaded 16300 out of 24063, 67.73885217969497%   TDeltaCol.shape=(16300, 1)\n",
      "loaded 16400 out of 24063, 68.15442795993849%   TDeltaCol.shape=(16400, 1)\n",
      "loaded 16500 out of 24063, 68.57000374018202%   TDeltaCol.shape=(16500, 1)\n",
      "loaded 16600 out of 24063, 68.98557952042555%   TDeltaCol.shape=(16600, 1)\n",
      "loaded 16700 out of 24063, 69.40115530066907%   TDeltaCol.shape=(16700, 1)\n",
      "loaded 16800 out of 24063, 69.8167310809126%   TDeltaCol.shape=(16800, 1)\n",
      "loaded 16900 out of 24063, 70.23230686115613%   TDeltaCol.shape=(16900, 1)\n",
      "loaded 17000 out of 24063, 70.64788264139966%   TDeltaCol.shape=(17000, 1)\n",
      "loaded 17100 out of 24063, 71.06345842164319%   TDeltaCol.shape=(17100, 1)\n",
      "loaded 17200 out of 24063, 71.47903420188672%   TDeltaCol.shape=(17200, 1)\n",
      "loaded 17300 out of 24063, 71.89460998213025%   TDeltaCol.shape=(17300, 1)\n",
      "loaded 17400 out of 24063, 72.31018576237376%   TDeltaCol.shape=(17400, 1)\n",
      "loaded 17500 out of 24063, 72.72576154261729%   TDeltaCol.shape=(17500, 1)\n",
      "loaded 17600 out of 24063, 73.14133732286082%   TDeltaCol.shape=(17600, 1)\n",
      "loaded 17700 out of 24063, 73.55691310310435%   TDeltaCol.shape=(17700, 1)\n",
      "loaded 17800 out of 24063, 73.97248888334788%   TDeltaCol.shape=(17800, 1)\n",
      "loaded 17900 out of 24063, 74.38806466359141%   TDeltaCol.shape=(17900, 1)\n",
      "loaded 18000 out of 24063, 74.80364044383494%   TDeltaCol.shape=(18000, 1)\n",
      "loaded 18100 out of 24063, 75.21921622407847%   TDeltaCol.shape=(18100, 1)\n",
      "loaded 18200 out of 24063, 75.634792004322%   TDeltaCol.shape=(18200, 1)\n",
      "loaded 18300 out of 24063, 76.05036778456551%   TDeltaCol.shape=(18300, 1)\n",
      "loaded 18400 out of 24063, 76.46594356480904%   TDeltaCol.shape=(18400, 1)\n",
      "loaded 18500 out of 24063, 76.88151934505257%   TDeltaCol.shape=(18500, 1)\n",
      "loaded 18600 out of 24063, 77.2970951252961%   TDeltaCol.shape=(18600, 1)\n",
      "loaded 18700 out of 24063, 77.71267090553962%   TDeltaCol.shape=(18700, 1)\n",
      "loaded 18800 out of 24063, 78.12824668578315%   TDeltaCol.shape=(18800, 1)\n",
      "loaded 18900 out of 24063, 78.54382246602668%   TDeltaCol.shape=(18900, 1)\n",
      "loaded 19000 out of 24063, 78.95939824627021%   TDeltaCol.shape=(19000, 1)\n",
      "loaded 19100 out of 24063, 79.37497402651374%   TDeltaCol.shape=(19100, 1)\n",
      "loaded 19200 out of 24063, 79.79054980675726%   TDeltaCol.shape=(19200, 1)\n",
      "loaded 19300 out of 24063, 80.20612558700078%   TDeltaCol.shape=(19300, 1)\n",
      "loaded 19400 out of 24063, 80.62170136724431%   TDeltaCol.shape=(19400, 1)\n",
      "loaded 19500 out of 24063, 81.03727714748784%   TDeltaCol.shape=(19500, 1)\n",
      "loaded 19600 out of 24063, 81.45285292773137%   TDeltaCol.shape=(19600, 1)\n",
      "loaded 19700 out of 24063, 81.8684287079749%   TDeltaCol.shape=(19700, 1)\n",
      "loaded 19800 out of 24063, 82.28400448821843%   TDeltaCol.shape=(19800, 1)\n",
      "loaded 19900 out of 24063, 82.69958026846196%   TDeltaCol.shape=(19900, 1)\n",
      "loaded 20000 out of 24063, 83.11515604870549%   TDeltaCol.shape=(20000, 1)\n",
      "loaded 20100 out of 24063, 83.53073182894902%   TDeltaCol.shape=(20100, 1)\n",
      "loaded 20200 out of 24063, 83.94630760919253%   TDeltaCol.shape=(20200, 1)\n",
      "loaded 20300 out of 24063, 84.36188338943606%   TDeltaCol.shape=(20300, 1)\n",
      "loaded 20400 out of 24063, 84.77745916967959%   TDeltaCol.shape=(20400, 1)\n",
      "loaded 20500 out of 24063, 85.19303494992312%   TDeltaCol.shape=(20500, 1)\n",
      "loaded 20600 out of 24063, 85.60861073016665%   TDeltaCol.shape=(20600, 1)\n",
      "loaded 20700 out of 24063, 86.02418651041017%   TDeltaCol.shape=(20700, 1)\n",
      "loaded 20800 out of 24063, 86.4397622906537%   TDeltaCol.shape=(20800, 1)\n",
      "loaded 20900 out of 24063, 86.85533807089723%   TDeltaCol.shape=(20900, 1)\n",
      "loaded 21000 out of 24063, 87.27091385114076%   TDeltaCol.shape=(21000, 1)\n",
      "loaded 21100 out of 24063, 87.68648963138428%   TDeltaCol.shape=(21100, 1)\n",
      "loaded 21200 out of 24063, 88.1020654116278%   TDeltaCol.shape=(21200, 1)\n",
      "loaded 21300 out of 24063, 88.51764119187133%   TDeltaCol.shape=(21300, 1)\n",
      "loaded 21400 out of 24063, 88.93321697211486%   TDeltaCol.shape=(21400, 1)\n",
      "loaded 21500 out of 24063, 89.34879275235839%   TDeltaCol.shape=(21500, 1)\n",
      "loaded 21600 out of 24063, 89.76436853260192%   TDeltaCol.shape=(21600, 1)\n",
      "loaded 21700 out of 24063, 90.17994431284545%   TDeltaCol.shape=(21700, 1)\n",
      "loaded 21800 out of 24063, 90.59552009308898%   TDeltaCol.shape=(21800, 1)\n",
      "loaded 21900 out of 24063, 91.01109587333251%   TDeltaCol.shape=(21900, 1)\n",
      "loaded 22000 out of 24063, 91.42667165357604%   TDeltaCol.shape=(22000, 1)\n",
      "loaded 22100 out of 24063, 91.84224743381955%   TDeltaCol.shape=(22100, 1)\n",
      "loaded 22200 out of 24063, 92.25782321406308%   TDeltaCol.shape=(22200, 1)\n",
      "loaded 22300 out of 24063, 92.67339899430661%   TDeltaCol.shape=(22300, 1)\n",
      "loaded 22400 out of 24063, 93.08897477455014%   TDeltaCol.shape=(22400, 1)\n",
      "loaded 22500 out of 24063, 93.50455055479367%   TDeltaCol.shape=(22500, 1)\n",
      "loaded 22600 out of 24063, 93.9201263350372%   TDeltaCol.shape=(22600, 1)\n",
      "loaded 22700 out of 24063, 94.33570211528072%   TDeltaCol.shape=(22700, 1)\n",
      "loaded 22800 out of 24063, 94.75127789552425%   TDeltaCol.shape=(22800, 1)\n",
      "loaded 22900 out of 24063, 95.16685367576778%   TDeltaCol.shape=(22900, 1)\n",
      "loaded 23000 out of 24063, 95.5824294560113%   TDeltaCol.shape=(23000, 1)\n",
      "loaded 23100 out of 24063, 95.99800523625483%   TDeltaCol.shape=(23100, 1)\n",
      "loaded 23200 out of 24063, 96.41358101649836%   TDeltaCol.shape=(23200, 1)\n",
      "loaded 23300 out of 24063, 96.82915679674188%   TDeltaCol.shape=(23300, 1)\n",
      "loaded 23400 out of 24063, 97.24473257698541%   TDeltaCol.shape=(23400, 1)\n",
      "loaded 23500 out of 24063, 97.66030835722894%   TDeltaCol.shape=(23500, 1)\n",
      "loaded 23600 out of 24063, 98.07588413747247%   TDeltaCol.shape=(23600, 1)\n",
      "loaded 23700 out of 24063, 98.491459917716%   TDeltaCol.shape=(23700, 1)\n",
      "loaded 23800 out of 24063, 98.90703569795953%   TDeltaCol.shape=(23800, 1)\n",
      "loaded 23900 out of 24063, 99.32261147820304%   TDeltaCol.shape=(23900, 1)\n",
      "loaded 24000 out of 24063, 99.73818725844657%   TDeltaCol.shape=(24000, 1)\n"
     ]
    }
   ],
   "source": [
    "X, Y = getDataset(mydb, 6, 3)\n"
   ]
  },
  {
   "cell_type": "code",
   "execution_count": 36,
   "id": "e0da64cd-cd17-4e3f-9bea-6aed9ce9aaa5",
   "metadata": {},
   "outputs": [
    {
     "name": "stdout",
     "output_type": "stream",
     "text": [
      "(24063, 2501)\n",
      "(24063, 3)\n"
     ]
    }
   ],
   "source": [
    "print(X.shape)\n",
    "print(Y.shape)"
   ]
  },
  {
   "cell_type": "code",
   "execution_count": 92,
   "id": "12a8d22e-5fb9-479e-a229-0ad822cf83a1",
   "metadata": {},
   "outputs": [
    {
     "data": {
      "text/plain": [
       "array([[147, 147, 143, ..., 178, 176, 176],\n",
       "       [142, 139, 138, ..., 181, 180, 178],\n",
       "       [135, 135, 131, ..., 185, 183, 182],\n",
       "       ...,\n",
       "       [178, 178, 178, ..., 178, 178, 178],\n",
       "       [178, 178, 178, ..., 178, 178, 178],\n",
       "       [178, 178, 178, ..., 178, 178, 178]], dtype=uint8)"
      ]
     },
     "execution_count": 92,
     "metadata": {},
     "output_type": "execute_result"
    }
   ],
   "source": [
    "arr"
   ]
  },
  {
   "cell_type": "code",
   "execution_count": 93,
   "id": "d4541af5-93c5-40fa-bd61-d4ab3dc4d635",
   "metadata": {},
   "outputs": [
    {
     "data": {
      "text/plain": [
       "(50, 50)"
      ]
     },
     "execution_count": 93,
     "metadata": {},
     "output_type": "execute_result"
    }
   ],
   "source": [
    "arr.shape"
   ]
  },
  {
   "cell_type": "code",
   "execution_count": 56,
   "id": "bc74a1a4-1f66-4d08-b619-727ebb1a9efc",
   "metadata": {},
   "outputs": [
    {
     "data": {
      "text/plain": [
       "()"
      ]
     },
     "execution_count": 56,
     "metadata": {},
     "output_type": "execute_result"
    }
   ],
   "source": [
    "data.shape"
   ]
  },
  {
   "cell_type": "code",
   "execution_count": 57,
   "id": "81f94867-1339-48fa-9297-ad8d05dacc4c",
   "metadata": {},
   "outputs": [
    {
     "data": {
      "text/plain": [
       "array(<IPython.core.display.Image object>, dtype=object)"
      ]
     },
     "execution_count": 57,
     "metadata": {},
     "output_type": "execute_result"
    }
   ],
   "source": [
    "data"
   ]
  },
  {
   "cell_type": "code",
   "execution_count": null,
   "id": "04884441-c08b-48ff-9980-2361f8a17f6d",
   "metadata": {},
   "outputs": [],
   "source": []
  }
 ],
 "metadata": {
  "kernelspec": {
   "display_name": "Python 3",
   "language": "python",
   "name": "python3"
  },
  "language_info": {
   "codemirror_mode": {
    "name": "ipython",
    "version": 3
   },
   "file_extension": ".py",
   "mimetype": "text/x-python",
   "name": "python",
   "nbconvert_exporter": "python",
   "pygments_lexer": "ipython3",
   "version": "3.7.9"
  }
 },
 "nbformat": 4,
 "nbformat_minor": 5
}
