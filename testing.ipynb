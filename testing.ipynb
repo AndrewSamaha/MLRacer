{
 "cells": [
  {
   "cell_type": "code",
   "execution_count": 245,
   "id": "41a5c97b-2e59-431f-8ada-e73e136a4961",
   "metadata": {},
   "outputs": [],
   "source": [
    "import mysql.connector as mysql\n",
    "import numpy as np\n",
    "import base64\n",
    "import PIL\n",
    "from PIL import Image as Image\n",
    "#from IPython.display import Image\n",
    "#import urllib.parse\n",
    "import io\n",
    "import re"
   ]
  },
  {
   "cell_type": "code",
   "execution_count": 246,
   "id": "7dad41bb-5a0d-48bb-a71f-5967f9603144",
   "metadata": {},
   "outputs": [],
   "source": [
    "mydb = mysql.connect(\n",
    "    host=\"127.0.0.1\",\n",
    "    port=49157,\n",
    "    user=\"root\",\n",
    "    password=\"datascience\",\n",
    "    database=\"racer\")\n"
   ]
  },
  {
   "cell_type": "code",
   "execution_count": 247,
   "id": "397c19cb-4a51-4cd0-9db9-3b452fd3673a",
   "metadata": {},
   "outputs": [],
   "source": [
    "dbcursor = mydb.cursor()\n"
   ]
  },
  {
   "cell_type": "code",
   "execution_count": 252,
   "id": "4ecf6251-6ea9-45d0-a580-55ed5abcf6c3",
   "metadata": {},
   "outputs": [],
   "source": [
    "def showURI(imageuri):\n",
    "    imgstr = re.search(r'base64,(.*)', imageuri).group(1)\n",
    "    image_bytes = io.BytesIO(base64.b64decode(imgstr))\n",
    "    im = Image.open(image_bytes)\n",
    "    display(im)\n",
    "    #return im\n",
    "    #arr = np.array(im)[:,:,0]\n",
    "\n",
    "def imageToNp(im):\n",
    "    arr = np.array(im)[:,:,0]\n",
    "    return arr\n",
    "\n",
    "def uriToNP(imageuri):\n",
    "    imgstr = re.search(r'base64,(.*)', imageuri).group(1)\n",
    "    image_bytes = io.BytesIO(base64.b64decode(imgstr))\n",
    "    im = Image.open(image_bytes)\n",
    "    arr = np.array(im)[:,:,0]\n",
    "    return arr\n",
    "\n",
    "def showNP(a, fmt='png'):\n",
    "    a = np.uint8(a)\n",
    "    f = io.StringIO()\n",
    "    display(PIL.Image.fromarray(a))\n",
    "    #IPython.display.display(IPython.display.Image(data=f.getvalue()))"
   ]
  },
  {
   "cell_type": "code",
   "execution_count": 253,
   "id": "4703b347-308c-4bd5-b0b5-d3927085b13a",
   "metadata": {},
   "outputs": [],
   "source": [
    "dbcursor.execute(\"SELECT * FROM images\")\n",
    "results = dbcursor.fetchall()\n"
   ]
  },
  {
   "cell_type": "code",
   "execution_count": 254,
   "id": "273c50c7-7675-4f96-83a0-a09122e6a8f6",
   "metadata": {},
   "outputs": [],
   "source": [
    "def process(layer, batch, processor):\n",
    "    dbcursor = mydb.cursor()\n",
    "    dbcursor.execute(f\"SELECT * FROM images WHERE layerid = '{layer}' and batchid = '{batch}' LIMIT 5;\")\n",
    "    newlayer = layer + 1\n",
    "    lasttime=0\n",
    "    lastimage_np = None\n",
    "    results = dbcursor.fetchall()\n",
    "    print(f\"num rows to process: {len(results)}\")\n",
    "    for result in results:\n",
    "        imageuri = result[7]\n",
    "        time = result[1]\n",
    "        position = result[2]\n",
    "        velocity = result[3]\n",
    "        rotation = result[4]\n",
    "        tdelta = time - lasttime\n",
    "        lasttime = time\n",
    "        \n",
    "        image_np = uriToNP(imageuri)\n",
    "        if lastimage_np is not None:\n",
    "            print(tdelta)\n",
    "            image_diff = image_np- lastimage_np\n",
    "            showNP(image_diff)\n",
    "            print(image_diff.shape)\n",
    "        lastimage_np = image_np\n",
    "        print(image_np.shape)"
   ]
  },
  {
   "cell_type": "code",
   "execution_count": 255,
   "id": "eca40178-52f3-4f71-8289-489f3025b549",
   "metadata": {},
   "outputs": [
    {
     "name": "stdout",
     "output_type": "stream",
     "text": [
      "num rows to process: 5\n",
      "(50, 50)\n",
      "22\n"
     ]
    },
    {
     "data": {
      "image/png": "[encoded data removed]",
      "text/plain": [
       "<PIL.Image.Image image mode=L size=50x50 at 0x7F2E526FDA90>"
      ]
     },
     "metadata": {},
     "output_type": "display_data"
    },
    {
     "name": "stdout",
     "output_type": "stream",
     "text": [
      "(50, 50)\n",
      "(50, 50)\n",
      "14\n"
     ]
    },
    {
     "data": {
      "image/png": "[encoded data removed]",
      "text/plain": [
       "<PIL.Image.Image image mode=L size=50x50 at 0x7F2E526FDF10>"
      ]
     },
     "metadata": {},
     "output_type": "display_data"
    },
    {
     "name": "stdout",
     "output_type": "stream",
     "text": [
      "(50, 50)\n",
      "(50, 50)\n",
      "16\n"
     ]
    },
    {
     "data": {
      "image/png": "[encoded data removed]",
      "text/plain": [
       "<PIL.Image.Image image mode=L size=50x50 at 0x7F2E52819250>"
      ]
     },
     "metadata": {},
     "output_type": "display_data"
    },
    {
     "name": "stdout",
     "output_type": "stream",
     "text": [
      "(50, 50)\n",
      "(50, 50)\n",
      "17\n"
     ]
    },
    {
     "data": {
      "image/png": "[encoded data removed]",
      "text/plain": [
       "<PIL.Image.Image image mode=L size=50x50 at 0x7F2E526FD2D0>"
      ]
     },
     "metadata": {},
     "output_type": "display_data"
    },
    {
     "name": "stdout",
     "output_type": "stream",
     "text": [
      "(50, 50)\n",
      "(50, 50)\n"
     ]
    }
   ],
   "source": [
    "process(0,0,None)"
   ]
  },
  {
   "cell_type": "code",
   "execution_count": 217,
   "id": "663dc9ea-3ed3-4c5d-a0c9-59d6c1e33751",
   "metadata": {},
   "outputs": [
    {
     "name": "stdout",
     "output_type": "stream",
     "text": [
      "(5341, 1625319102985, 87.61086760040557, 121.99895192306394, -0.029241084849860682, 0)\n",
      "1625319102985 ms since last frame, fps: 6.152637953762049e-10\n"
     ]
    },
    {
     "data": {
      "image/png": "[encoded data removed]",
      "text/plain": [
       "<PIL.PngImagePlugin.PngImageFile image mode=RGBA size=50x50 at 0x7F2E5285DD10>"
      ]
     },
     "metadata": {},
     "output_type": "display_data"
    },
    {
     "name": "stdout",
     "output_type": "stream",
     "text": [
      "(5342, 1625319103002, 85.91750988109887, 122.0270540134896, -0.029211738671615528, 0)\n",
      "17 ms since last frame, fps: 58.8235294117647\n"
     ]
    },
    {
     "data": {
      "image/png": "[encoded data removed]",
      "text/plain": [
       "<PIL.PngImagePlugin.PngImageFile image mode=RGBA size=50x50 at 0x7F2E5285D310>"
      ]
     },
     "metadata": {},
     "output_type": "display_data"
    },
    {
     "name": "stdout",
     "output_type": "stream",
     "text": [
      "(5343, 1625319103018, 84.24750848268191, 122.05497854571864, -0.029182577890784156, 0)\n",
      "16 ms since last frame, fps: 62.5\n"
     ]
    },
    {
     "data": {
      "image/png": "[encoded data removed]",
      "text/plain": [
       "<PIL.PngImagePlugin.PngImageFile image mode=RGBA size=50x50 at 0x7F2E5285D690>"
      ]
     },
     "metadata": {},
     "output_type": "display_data"
    },
    {
     "name": "stdout",
     "output_type": "stream",
     "text": [
      "(5344, 1625319103034, 82.60069571981724, 122.08272662086145, -0.029054173154473367, 0)\n",
      "16 ms since last frame, fps: 62.5\n"
     ]
    },
    {
     "data": {
      "image/png": "[encoded data removed]",
      "text/plain": [
       "<PIL.PngImagePlugin.PngImageFile image mode=RGBA size=50x50 at 0x7F2E5285DD10>"
      ]
     },
     "metadata": {},
     "output_type": "display_data"
    },
    {
     "name": "stdout",
     "output_type": "stream",
     "text": [
      "(5345, 1625319103051, 80.98517265066342, 122.11029933060723, -0.02862422387373008, 0)\n",
      "17 ms since last frame, fps: 58.8235294117647\n"
     ]
    },
    {
     "data": {
      "image/png": "[encoded data removed]",
      "text/plain": [
       "<PIL.PngImagePlugin.PngImageFile image mode=RGBA size=50x50 at 0x7F2E5285D9D0>"
      ]
     },
     "metadata": {},
     "output_type": "display_data"
    }
   ],
   "source": [
    "lasttime=0\n",
    "for result in results[1200:1205:]:\n",
    "    imageuri = result[7]\n",
    "    time = result[1]\n",
    "    tdelta = time - lasttime\n",
    "    print(result[:6])\n",
    "    print(f\"{tdelta} ms since last frame, fps: {1000/tdelta}\")\n",
    "    showURI(imageuri)\n",
    "    lasttime = time\n",
    "    #print(result[1])"
   ]
  },
  {
   "cell_type": "code",
   "execution_count": 89,
   "id": "da4aba9e-53a2-418b-bc2f-e7efcda18f63",
   "metadata": {},
   "outputs": [],
   "source": [
    "#im = Image(url=imageuri)\n",
    "#response = urllib.request.urlopen(imageuri)"
   ]
  },
  {
   "cell_type": "code",
   "execution_count": 90,
   "id": "e2e9b2af-4f82-4019-a4a0-f279e64fdd49",
   "metadata": {},
   "outputs": [],
   "source": []
  },
  {
   "cell_type": "code",
   "execution_count": 91,
   "id": "e0da64cd-cd17-4e3f-9bea-6aed9ce9aaa5",
   "metadata": {},
   "outputs": [
    {
     "data": {
      "image/png": "[encoded data removed]",
      "text/plain": [
       "<PIL.PngImagePlugin.PngImageFile image mode=RGBA size=50x50 at 0x7F2E528A4FD0>"
      ]
     },
     "execution_count": 91,
     "metadata": {},
     "output_type": "execute_result"
    }
   ],
   "source": [
    "im"
   ]
  },
  {
   "cell_type": "code",
   "execution_count": 92,
   "id": "12a8d22e-5fb9-479e-a229-0ad822cf83a1",
   "metadata": {},
   "outputs": [
    {
     "data": {
      "text/plain": [
       "array([[147, 147, 143, ..., 178, 176, 176],\n",
       "       [142, 139, 138, ..., 181, 180, 178],\n",
       "       [135, 135, 131, ..., 185, 183, 182],\n",
       "       ...,\n",
       "       [178, 178, 178, ..., 178, 178, 178],\n",
       "       [178, 178, 178, ..., 178, 178, 178],\n",
       "       [178, 178, 178, ..., 178, 178, 178]], dtype=uint8)"
      ]
     },
     "execution_count": 92,
     "metadata": {},
     "output_type": "execute_result"
    }
   ],
   "source": [
    "arr"
   ]
  },
  {
   "cell_type": "code",
   "execution_count": 93,
   "id": "d4541af5-93c5-40fa-bd61-d4ab3dc4d635",
   "metadata": {},
   "outputs": [
    {
     "data": {
      "text/plain": [
       "(50, 50)"
      ]
     },
     "execution_count": 93,
     "metadata": {},
     "output_type": "execute_result"
    }
   ],
   "source": [
    "arr.shape"
   ]
  },
  {
   "cell_type": "code",
   "execution_count": 56,
   "id": "bc74a1a4-1f66-4d08-b619-727ebb1a9efc",
   "metadata": {},
   "outputs": [
    {
     "data": {
      "text/plain": [
       "()"
      ]
     },
     "execution_count": 56,
     "metadata": {},
     "output_type": "execute_result"
    }
   ],
   "source": [
    "data.shape"
   ]
  },
  {
   "cell_type": "code",
   "execution_count": 57,
   "id": "81f94867-1339-48fa-9297-ad8d05dacc4c",
   "metadata": {},
   "outputs": [
    {
     "data": {
      "text/plain": [
       "array(<IPython.core.display.Image object>, dtype=object)"
      ]
     },
     "execution_count": 57,
     "metadata": {},
     "output_type": "execute_result"
    }
   ],
   "source": [
    "data"
   ]
  },
  {
   "cell_type": "code",
   "execution_count": null,
   "id": "04884441-c08b-48ff-9980-2361f8a17f6d",
   "metadata": {},
   "outputs": [],
   "source": []
  }
 ],
 "metadata": {
  "kernelspec": {
   "display_name": "Python 3",
   "language": "python",
   "name": "python3"
  },
  "language_info": {
   "codemirror_mode": {
    "name": "ipython",
    "version": 3
   },
   "file_extension": ".py",
   "mimetype": "text/x-python",
   "name": "python",
   "nbconvert_exporter": "python",
   "pygments_lexer": "ipython3",
   "version": "3.7.9"
  }
 },
 "nbformat": 4,
 "nbformat_minor": 5
}
